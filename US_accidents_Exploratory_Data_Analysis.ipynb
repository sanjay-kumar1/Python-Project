{
  "nbformat": 4,
  "nbformat_minor": 0,
  "metadata": {
    "colab": {
      "name": "US accidents Exploratory Data Analysis.ipynb",
      "provenance": [],
      "collapsed_sections": [],
      "authorship_tag": "ABX9TyPDGuMURqohEdDEFk4qTk37",
      "include_colab_link": true
    },
    "kernelspec": {
      "name": "python3",
      "display_name": "Python 3"
    },
    "language_info": {
      "name": "python"
    }
  },
  "cells": [
    {
      "cell_type": "markdown",
      "metadata": {
        "id": "view-in-github",
        "colab_type": "text"
      },
      "source": [
        "<a href=\"https://colab.research.google.com/github/sanjay-kumar1/Python-Project/blob/main/US_accidents_Exploratory_Data_Analysis.ipynb\" target=\"_parent\"><img src=\"https://colab.research.google.com/assets/colab-badge.svg\" alt=\"Open In Colab\"/></a>"
      ]
    },
    {
      "cell_type": "markdown",
      "source": [
        "# **US Accidents Exploratory Data Analysis**"
      ],
      "metadata": {
        "id": "Ce7GkyfPycut"
      }
    },
    {
      "cell_type": "code",
      "execution_count": null,
      "metadata": {
        "id": "WLFdSACHhIoT"
      },
      "outputs": [],
      "source": [
        "pip install opendatasets --upgrade --quiet"
      ]
    },
    {
      "cell_type": "markdown",
      "source": [
        "## Data Preparation and Cleaning\n",
        "\n",
        "1. Load the file using Pandas\n",
        "2. Look at some information about the data & the columns\n",
        "3. Fix any missing or incorrect values"
      ],
      "metadata": {
        "id": "NT4zqaDhlI38"
      }
    },
    {
      "cell_type": "markdown",
      "source": [
        "TODO - talk about EDA\n",
        "\n",
        "TODO - talk about the dataset (source, what it contains, how it will be useful)\n",
        "\n",
        "Kaggle\n",
        "informaiton about accidents\n",
        "can use useful to prevent accidents\n",
        "mention that this does not contain data about New York"
      ],
      "metadata": {
        "id": "SXyJdSvCyiNY"
      }
    },
    {
      "cell_type": "code",
      "source": [
        "pip install opendatasets --upgrade --quiet"
      ],
      "metadata": {
        "id": "JI40YTRxlHzI"
      },
      "execution_count": null,
      "outputs": []
    },
    {
      "cell_type": "code",
      "source": [
        "import opendatasets as od\n",
        "\n",
        "download_url = 'https://www.kaggle.com/sobhanmoosavi/us-accidents'\n",
        "\n",
        "od.download(download_url)"
      ],
      "metadata": {
        "colab": {
          "base_uri": "https://localhost:8080/"
        },
        "id": "62h52LxF4uMG",
        "outputId": "f94c00bd-99bf-4aad-d065-bc21c564f7fd"
      },
      "execution_count": null,
      "outputs": [
        {
          "output_type": "stream",
          "name": "stdout",
          "text": [
            "Please provide your Kaggle credentials to download this dataset. Learn more: http://bit.ly/kaggle-creds\n",
            "Your Kaggle username: sanjaykumar9318\n",
            "Your Kaggle Key: ··········\n",
            "Downloading us-accidents.zip to ./us-accidents\n"
          ]
        },
        {
          "output_type": "stream",
          "name": "stderr",
          "text": [
            "100%|██████████| 117M/117M [00:03<00:00, 38.5MB/s]\n"
          ]
        },
        {
          "output_type": "stream",
          "name": "stdout",
          "text": [
            "\n"
          ]
        }
      ]
    },
    {
      "cell_type": "code",
      "source": [
        "data_filename = './us-accidents/US_Accidents_Dec20_updated.csv'"
      ],
      "metadata": {
        "id": "3cydOaOU5-zY"
      },
      "execution_count": null,
      "outputs": []
    },
    {
      "cell_type": "markdown",
      "source": [
        "## Data Preparation and Cleaning\n",
        "\n",
        "1. Load the file using Pandas\n",
        "2. Look at some information about the data & the columns\n",
        "3. Fix any missing or incorrect values"
      ],
      "metadata": {
        "id": "1vunJBvi6XrT"
      }
    },
    {
      "cell_type": "code",
      "source": [
        "import pandas as pd"
      ],
      "metadata": {
        "id": "m3gxmmIK6ZqP"
      },
      "execution_count": null,
      "outputs": []
    },
    {
      "cell_type": "code",
      "source": [
        "df = pd.read_csv(data_filename)"
      ],
      "metadata": {
        "id": "7CNQ7saa6op8"
      },
      "execution_count": null,
      "outputs": []
    },
    {
      "cell_type": "code",
      "source": [
        "df"
      ],
      "metadata": {
        "colab": {
          "base_uri": "https://localhost:8080/",
          "height": 939
        },
        "id": "5hjre1sX6rjT",
        "outputId": "b5b22cbc-4373-4317-ab4e-c0ae53aaf0d0"
      },
      "execution_count": null,
      "outputs": [
        {
          "output_type": "execute_result",
          "data": {
            "text/html": [
              "\n",
              "  <div id=\"df-7442c80d-0292-410c-b83e-b5358ce30095\">\n",
              "    <div class=\"colab-df-container\">\n",
              "      <div>\n",
              "<style scoped>\n",
              "    .dataframe tbody tr th:only-of-type {\n",
              "        vertical-align: middle;\n",
              "    }\n",
              "\n",
              "    .dataframe tbody tr th {\n",
              "        vertical-align: top;\n",
              "    }\n",
              "\n",
              "    .dataframe thead th {\n",
              "        text-align: right;\n",
              "    }\n",
              "</style>\n",
              "<table border=\"1\" class=\"dataframe\">\n",
              "  <thead>\n",
              "    <tr style=\"text-align: right;\">\n",
              "      <th></th>\n",
              "      <th>ID</th>\n",
              "      <th>Severity</th>\n",
              "      <th>Start_Time</th>\n",
              "      <th>End_Time</th>\n",
              "      <th>Start_Lat</th>\n",
              "      <th>Start_Lng</th>\n",
              "      <th>End_Lat</th>\n",
              "      <th>End_Lng</th>\n",
              "      <th>Distance(mi)</th>\n",
              "      <th>Description</th>\n",
              "      <th>Number</th>\n",
              "      <th>Street</th>\n",
              "      <th>Side</th>\n",
              "      <th>City</th>\n",
              "      <th>County</th>\n",
              "      <th>State</th>\n",
              "      <th>Zipcode</th>\n",
              "      <th>Country</th>\n",
              "      <th>Timezone</th>\n",
              "      <th>Airport_Code</th>\n",
              "      <th>Weather_Timestamp</th>\n",
              "      <th>Temperature(F)</th>\n",
              "      <th>Wind_Chill(F)</th>\n",
              "      <th>Humidity(%)</th>\n",
              "      <th>Pressure(in)</th>\n",
              "      <th>Visibility(mi)</th>\n",
              "      <th>Wind_Direction</th>\n",
              "      <th>Wind_Speed(mph)</th>\n",
              "      <th>Precipitation(in)</th>\n",
              "      <th>Weather_Condition</th>\n",
              "      <th>Amenity</th>\n",
              "      <th>Bump</th>\n",
              "      <th>Crossing</th>\n",
              "      <th>Give_Way</th>\n",
              "      <th>Junction</th>\n",
              "      <th>No_Exit</th>\n",
              "      <th>Railway</th>\n",
              "      <th>Roundabout</th>\n",
              "      <th>Station</th>\n",
              "      <th>Stop</th>\n",
              "      <th>Traffic_Calming</th>\n",
              "      <th>Traffic_Signal</th>\n",
              "      <th>Turning_Loop</th>\n",
              "      <th>Sunrise_Sunset</th>\n",
              "      <th>Civil_Twilight</th>\n",
              "      <th>Nautical_Twilight</th>\n",
              "      <th>Astronomical_Twilight</th>\n",
              "    </tr>\n",
              "  </thead>\n",
              "  <tbody>\n",
              "    <tr>\n",
              "      <th>0</th>\n",
              "      <td>A-2716600</td>\n",
              "      <td>3</td>\n",
              "      <td>2016-02-08 00:37:08</td>\n",
              "      <td>2016-02-08 06:37:08</td>\n",
              "      <td>40.10891</td>\n",
              "      <td>-83.09286</td>\n",
              "      <td>40.11206</td>\n",
              "      <td>-83.03187</td>\n",
              "      <td>3.230</td>\n",
              "      <td>Between Sawmill Rd/Exit 20 and OH-315/Olentang...</td>\n",
              "      <td>NaN</td>\n",
              "      <td>Outerbelt E</td>\n",
              "      <td>R</td>\n",
              "      <td>Dublin</td>\n",
              "      <td>Franklin</td>\n",
              "      <td>OH</td>\n",
              "      <td>43017</td>\n",
              "      <td>US</td>\n",
              "      <td>US/Eastern</td>\n",
              "      <td>KOSU</td>\n",
              "      <td>2016-02-08 00:53:00</td>\n",
              "      <td>42.1</td>\n",
              "      <td>36.1</td>\n",
              "      <td>58.0</td>\n",
              "      <td>29.76</td>\n",
              "      <td>10.0</td>\n",
              "      <td>SW</td>\n",
              "      <td>10.4</td>\n",
              "      <td>0.00</td>\n",
              "      <td>Light Rain</td>\n",
              "      <td>False</td>\n",
              "      <td>False</td>\n",
              "      <td>False</td>\n",
              "      <td>False</td>\n",
              "      <td>False</td>\n",
              "      <td>False</td>\n",
              "      <td>False</td>\n",
              "      <td>False</td>\n",
              "      <td>False</td>\n",
              "      <td>False</td>\n",
              "      <td>False</td>\n",
              "      <td>False</td>\n",
              "      <td>False</td>\n",
              "      <td>Night</td>\n",
              "      <td>Night</td>\n",
              "      <td>Night</td>\n",
              "      <td>Night</td>\n",
              "    </tr>\n",
              "    <tr>\n",
              "      <th>1</th>\n",
              "      <td>A-2716601</td>\n",
              "      <td>2</td>\n",
              "      <td>2016-02-08 05:56:20</td>\n",
              "      <td>2016-02-08 11:56:20</td>\n",
              "      <td>39.86542</td>\n",
              "      <td>-84.06280</td>\n",
              "      <td>39.86501</td>\n",
              "      <td>-84.04873</td>\n",
              "      <td>0.747</td>\n",
              "      <td>At OH-4/OH-235/Exit 41 - Accident.</td>\n",
              "      <td>NaN</td>\n",
              "      <td>I-70 E</td>\n",
              "      <td>R</td>\n",
              "      <td>Dayton</td>\n",
              "      <td>Montgomery</td>\n",
              "      <td>OH</td>\n",
              "      <td>45424</td>\n",
              "      <td>US</td>\n",
              "      <td>US/Eastern</td>\n",
              "      <td>KFFO</td>\n",
              "      <td>2016-02-08 05:58:00</td>\n",
              "      <td>36.9</td>\n",
              "      <td>NaN</td>\n",
              "      <td>91.0</td>\n",
              "      <td>29.68</td>\n",
              "      <td>10.0</td>\n",
              "      <td>Calm</td>\n",
              "      <td>NaN</td>\n",
              "      <td>0.02</td>\n",
              "      <td>Light Rain</td>\n",
              "      <td>False</td>\n",
              "      <td>False</td>\n",
              "      <td>False</td>\n",
              "      <td>False</td>\n",
              "      <td>False</td>\n",
              "      <td>False</td>\n",
              "      <td>False</td>\n",
              "      <td>False</td>\n",
              "      <td>False</td>\n",
              "      <td>False</td>\n",
              "      <td>False</td>\n",
              "      <td>False</td>\n",
              "      <td>False</td>\n",
              "      <td>Night</td>\n",
              "      <td>Night</td>\n",
              "      <td>Night</td>\n",
              "      <td>Night</td>\n",
              "    </tr>\n",
              "    <tr>\n",
              "      <th>2</th>\n",
              "      <td>A-2716602</td>\n",
              "      <td>2</td>\n",
              "      <td>2016-02-08 06:15:39</td>\n",
              "      <td>2016-02-08 12:15:39</td>\n",
              "      <td>39.10266</td>\n",
              "      <td>-84.52468</td>\n",
              "      <td>39.10209</td>\n",
              "      <td>-84.52396</td>\n",
              "      <td>0.055</td>\n",
              "      <td>At I-71/US-50/Exit 1 - Accident.</td>\n",
              "      <td>NaN</td>\n",
              "      <td>I-75 S</td>\n",
              "      <td>R</td>\n",
              "      <td>Cincinnati</td>\n",
              "      <td>Hamilton</td>\n",
              "      <td>OH</td>\n",
              "      <td>45203</td>\n",
              "      <td>US</td>\n",
              "      <td>US/Eastern</td>\n",
              "      <td>KLUK</td>\n",
              "      <td>2016-02-08 05:53:00</td>\n",
              "      <td>36.0</td>\n",
              "      <td>NaN</td>\n",
              "      <td>97.0</td>\n",
              "      <td>29.70</td>\n",
              "      <td>10.0</td>\n",
              "      <td>Calm</td>\n",
              "      <td>NaN</td>\n",
              "      <td>0.02</td>\n",
              "      <td>Overcast</td>\n",
              "      <td>False</td>\n",
              "      <td>False</td>\n",
              "      <td>False</td>\n",
              "      <td>False</td>\n",
              "      <td>True</td>\n",
              "      <td>False</td>\n",
              "      <td>False</td>\n",
              "      <td>False</td>\n",
              "      <td>False</td>\n",
              "      <td>False</td>\n",
              "      <td>False</td>\n",
              "      <td>False</td>\n",
              "      <td>False</td>\n",
              "      <td>Night</td>\n",
              "      <td>Night</td>\n",
              "      <td>Night</td>\n",
              "      <td>Day</td>\n",
              "    </tr>\n",
              "    <tr>\n",
              "      <th>3</th>\n",
              "      <td>A-2716603</td>\n",
              "      <td>2</td>\n",
              "      <td>2016-02-08 06:15:39</td>\n",
              "      <td>2016-02-08 12:15:39</td>\n",
              "      <td>39.10148</td>\n",
              "      <td>-84.52341</td>\n",
              "      <td>39.09841</td>\n",
              "      <td>-84.52241</td>\n",
              "      <td>0.219</td>\n",
              "      <td>At I-71/US-50/Exit 1 - Accident.</td>\n",
              "      <td>NaN</td>\n",
              "      <td>US-50 E</td>\n",
              "      <td>R</td>\n",
              "      <td>Cincinnati</td>\n",
              "      <td>Hamilton</td>\n",
              "      <td>OH</td>\n",
              "      <td>45202</td>\n",
              "      <td>US</td>\n",
              "      <td>US/Eastern</td>\n",
              "      <td>KLUK</td>\n",
              "      <td>2016-02-08 05:53:00</td>\n",
              "      <td>36.0</td>\n",
              "      <td>NaN</td>\n",
              "      <td>97.0</td>\n",
              "      <td>29.70</td>\n",
              "      <td>10.0</td>\n",
              "      <td>Calm</td>\n",
              "      <td>NaN</td>\n",
              "      <td>0.02</td>\n",
              "      <td>Overcast</td>\n",
              "      <td>False</td>\n",
              "      <td>False</td>\n",
              "      <td>False</td>\n",
              "      <td>False</td>\n",
              "      <td>True</td>\n",
              "      <td>False</td>\n",
              "      <td>False</td>\n",
              "      <td>False</td>\n",
              "      <td>False</td>\n",
              "      <td>False</td>\n",
              "      <td>False</td>\n",
              "      <td>False</td>\n",
              "      <td>False</td>\n",
              "      <td>Night</td>\n",
              "      <td>Night</td>\n",
              "      <td>Night</td>\n",
              "      <td>Day</td>\n",
              "    </tr>\n",
              "    <tr>\n",
              "      <th>4</th>\n",
              "      <td>A-2716604</td>\n",
              "      <td>2</td>\n",
              "      <td>2016-02-08 06:51:45</td>\n",
              "      <td>2016-02-08 12:51:45</td>\n",
              "      <td>41.06213</td>\n",
              "      <td>-81.53784</td>\n",
              "      <td>41.06217</td>\n",
              "      <td>-81.53547</td>\n",
              "      <td>0.123</td>\n",
              "      <td>At Dart Ave/Exit 21 - Accident.</td>\n",
              "      <td>NaN</td>\n",
              "      <td>I-77 N</td>\n",
              "      <td>R</td>\n",
              "      <td>Akron</td>\n",
              "      <td>Summit</td>\n",
              "      <td>OH</td>\n",
              "      <td>44311</td>\n",
              "      <td>US</td>\n",
              "      <td>US/Eastern</td>\n",
              "      <td>KAKR</td>\n",
              "      <td>2016-02-08 06:54:00</td>\n",
              "      <td>39.0</td>\n",
              "      <td>NaN</td>\n",
              "      <td>55.0</td>\n",
              "      <td>29.65</td>\n",
              "      <td>10.0</td>\n",
              "      <td>Calm</td>\n",
              "      <td>NaN</td>\n",
              "      <td>NaN</td>\n",
              "      <td>Overcast</td>\n",
              "      <td>False</td>\n",
              "      <td>False</td>\n",
              "      <td>False</td>\n",
              "      <td>False</td>\n",
              "      <td>False</td>\n",
              "      <td>False</td>\n",
              "      <td>False</td>\n",
              "      <td>False</td>\n",
              "      <td>False</td>\n",
              "      <td>False</td>\n",
              "      <td>False</td>\n",
              "      <td>False</td>\n",
              "      <td>False</td>\n",
              "      <td>Night</td>\n",
              "      <td>Night</td>\n",
              "      <td>Day</td>\n",
              "      <td>Day</td>\n",
              "    </tr>\n",
              "    <tr>\n",
              "      <th>...</th>\n",
              "      <td>...</td>\n",
              "      <td>...</td>\n",
              "      <td>...</td>\n",
              "      <td>...</td>\n",
              "      <td>...</td>\n",
              "      <td>...</td>\n",
              "      <td>...</td>\n",
              "      <td>...</td>\n",
              "      <td>...</td>\n",
              "      <td>...</td>\n",
              "      <td>...</td>\n",
              "      <td>...</td>\n",
              "      <td>...</td>\n",
              "      <td>...</td>\n",
              "      <td>...</td>\n",
              "      <td>...</td>\n",
              "      <td>...</td>\n",
              "      <td>...</td>\n",
              "      <td>...</td>\n",
              "      <td>...</td>\n",
              "      <td>...</td>\n",
              "      <td>...</td>\n",
              "      <td>...</td>\n",
              "      <td>...</td>\n",
              "      <td>...</td>\n",
              "      <td>...</td>\n",
              "      <td>...</td>\n",
              "      <td>...</td>\n",
              "      <td>...</td>\n",
              "      <td>...</td>\n",
              "      <td>...</td>\n",
              "      <td>...</td>\n",
              "      <td>...</td>\n",
              "      <td>...</td>\n",
              "      <td>...</td>\n",
              "      <td>...</td>\n",
              "      <td>...</td>\n",
              "      <td>...</td>\n",
              "      <td>...</td>\n",
              "      <td>...</td>\n",
              "      <td>...</td>\n",
              "      <td>...</td>\n",
              "      <td>...</td>\n",
              "      <td>...</td>\n",
              "      <td>...</td>\n",
              "      <td>...</td>\n",
              "      <td>...</td>\n",
              "    </tr>\n",
              "    <tr>\n",
              "      <th>1516059</th>\n",
              "      <td>A-4239402</td>\n",
              "      <td>2</td>\n",
              "      <td>2019-08-23 18:03:25</td>\n",
              "      <td>2019-08-23 18:32:01</td>\n",
              "      <td>34.00248</td>\n",
              "      <td>-117.37936</td>\n",
              "      <td>33.99888</td>\n",
              "      <td>-117.37094</td>\n",
              "      <td>0.543</td>\n",
              "      <td>At Market St - Accident.</td>\n",
              "      <td>NaN</td>\n",
              "      <td>Pomona Fwy E</td>\n",
              "      <td>R</td>\n",
              "      <td>Riverside</td>\n",
              "      <td>Riverside</td>\n",
              "      <td>CA</td>\n",
              "      <td>92501</td>\n",
              "      <td>US</td>\n",
              "      <td>US/Pacific</td>\n",
              "      <td>KRAL</td>\n",
              "      <td>2019-08-23 17:53:00</td>\n",
              "      <td>86.0</td>\n",
              "      <td>86.0</td>\n",
              "      <td>40.0</td>\n",
              "      <td>28.92</td>\n",
              "      <td>10.0</td>\n",
              "      <td>W</td>\n",
              "      <td>13.0</td>\n",
              "      <td>0.00</td>\n",
              "      <td>Fair</td>\n",
              "      <td>False</td>\n",
              "      <td>False</td>\n",
              "      <td>False</td>\n",
              "      <td>False</td>\n",
              "      <td>False</td>\n",
              "      <td>False</td>\n",
              "      <td>False</td>\n",
              "      <td>False</td>\n",
              "      <td>False</td>\n",
              "      <td>False</td>\n",
              "      <td>False</td>\n",
              "      <td>False</td>\n",
              "      <td>False</td>\n",
              "      <td>Day</td>\n",
              "      <td>Day</td>\n",
              "      <td>Day</td>\n",
              "      <td>Day</td>\n",
              "    </tr>\n",
              "    <tr>\n",
              "      <th>1516060</th>\n",
              "      <td>A-4239403</td>\n",
              "      <td>2</td>\n",
              "      <td>2019-08-23 19:11:30</td>\n",
              "      <td>2019-08-23 19:38:23</td>\n",
              "      <td>32.76696</td>\n",
              "      <td>-117.14806</td>\n",
              "      <td>32.76555</td>\n",
              "      <td>-117.15363</td>\n",
              "      <td>0.338</td>\n",
              "      <td>At Camino Del Rio/Mission Center Rd - Accident.</td>\n",
              "      <td>NaN</td>\n",
              "      <td>I-8 W</td>\n",
              "      <td>R</td>\n",
              "      <td>San Diego</td>\n",
              "      <td>San Diego</td>\n",
              "      <td>CA</td>\n",
              "      <td>92108</td>\n",
              "      <td>US</td>\n",
              "      <td>US/Pacific</td>\n",
              "      <td>KMYF</td>\n",
              "      <td>2019-08-23 18:53:00</td>\n",
              "      <td>70.0</td>\n",
              "      <td>70.0</td>\n",
              "      <td>73.0</td>\n",
              "      <td>29.39</td>\n",
              "      <td>10.0</td>\n",
              "      <td>SW</td>\n",
              "      <td>6.0</td>\n",
              "      <td>0.00</td>\n",
              "      <td>Fair</td>\n",
              "      <td>False</td>\n",
              "      <td>False</td>\n",
              "      <td>False</td>\n",
              "      <td>False</td>\n",
              "      <td>False</td>\n",
              "      <td>False</td>\n",
              "      <td>False</td>\n",
              "      <td>False</td>\n",
              "      <td>False</td>\n",
              "      <td>False</td>\n",
              "      <td>False</td>\n",
              "      <td>False</td>\n",
              "      <td>False</td>\n",
              "      <td>Day</td>\n",
              "      <td>Day</td>\n",
              "      <td>Day</td>\n",
              "      <td>Day</td>\n",
              "    </tr>\n",
              "    <tr>\n",
              "      <th>1516061</th>\n",
              "      <td>A-4239404</td>\n",
              "      <td>2</td>\n",
              "      <td>2019-08-23 19:00:21</td>\n",
              "      <td>2019-08-23 19:28:49</td>\n",
              "      <td>33.77545</td>\n",
              "      <td>-117.84779</td>\n",
              "      <td>33.77740</td>\n",
              "      <td>-117.85727</td>\n",
              "      <td>0.561</td>\n",
              "      <td>At Glassell St/Grand Ave - Accident. in the ri...</td>\n",
              "      <td>NaN</td>\n",
              "      <td>Garden Grove Fwy</td>\n",
              "      <td>R</td>\n",
              "      <td>Orange</td>\n",
              "      <td>Orange</td>\n",
              "      <td>CA</td>\n",
              "      <td>92866</td>\n",
              "      <td>US</td>\n",
              "      <td>US/Pacific</td>\n",
              "      <td>KSNA</td>\n",
              "      <td>2019-08-23 18:53:00</td>\n",
              "      <td>73.0</td>\n",
              "      <td>73.0</td>\n",
              "      <td>64.0</td>\n",
              "      <td>29.74</td>\n",
              "      <td>10.0</td>\n",
              "      <td>SSW</td>\n",
              "      <td>10.0</td>\n",
              "      <td>0.00</td>\n",
              "      <td>Partly Cloudy</td>\n",
              "      <td>False</td>\n",
              "      <td>False</td>\n",
              "      <td>False</td>\n",
              "      <td>False</td>\n",
              "      <td>True</td>\n",
              "      <td>False</td>\n",
              "      <td>False</td>\n",
              "      <td>False</td>\n",
              "      <td>False</td>\n",
              "      <td>False</td>\n",
              "      <td>False</td>\n",
              "      <td>False</td>\n",
              "      <td>False</td>\n",
              "      <td>Day</td>\n",
              "      <td>Day</td>\n",
              "      <td>Day</td>\n",
              "      <td>Day</td>\n",
              "    </tr>\n",
              "    <tr>\n",
              "      <th>1516062</th>\n",
              "      <td>A-4239405</td>\n",
              "      <td>2</td>\n",
              "      <td>2019-08-23 19:00:21</td>\n",
              "      <td>2019-08-23 19:29:42</td>\n",
              "      <td>33.99246</td>\n",
              "      <td>-118.40302</td>\n",
              "      <td>33.98311</td>\n",
              "      <td>-118.39565</td>\n",
              "      <td>0.772</td>\n",
              "      <td>At CA-90/Marina Fwy/Jefferson Blvd - Accident.</td>\n",
              "      <td>NaN</td>\n",
              "      <td>San Diego Fwy S</td>\n",
              "      <td>R</td>\n",
              "      <td>Culver City</td>\n",
              "      <td>Los Angeles</td>\n",
              "      <td>CA</td>\n",
              "      <td>90230</td>\n",
              "      <td>US</td>\n",
              "      <td>US/Pacific</td>\n",
              "      <td>KSMO</td>\n",
              "      <td>2019-08-23 18:51:00</td>\n",
              "      <td>71.0</td>\n",
              "      <td>71.0</td>\n",
              "      <td>81.0</td>\n",
              "      <td>29.62</td>\n",
              "      <td>10.0</td>\n",
              "      <td>SW</td>\n",
              "      <td>8.0</td>\n",
              "      <td>0.00</td>\n",
              "      <td>Fair</td>\n",
              "      <td>False</td>\n",
              "      <td>False</td>\n",
              "      <td>False</td>\n",
              "      <td>False</td>\n",
              "      <td>False</td>\n",
              "      <td>False</td>\n",
              "      <td>False</td>\n",
              "      <td>False</td>\n",
              "      <td>False</td>\n",
              "      <td>False</td>\n",
              "      <td>False</td>\n",
              "      <td>False</td>\n",
              "      <td>False</td>\n",
              "      <td>Day</td>\n",
              "      <td>Day</td>\n",
              "      <td>Day</td>\n",
              "      <td>Day</td>\n",
              "    </tr>\n",
              "    <tr>\n",
              "      <th>1516063</th>\n",
              "      <td>A-4239406</td>\n",
              "      <td>2</td>\n",
              "      <td>2019-08-23 18:52:06</td>\n",
              "      <td>2019-08-23 19:21:31</td>\n",
              "      <td>34.13393</td>\n",
              "      <td>-117.23092</td>\n",
              "      <td>34.13736</td>\n",
              "      <td>-117.23934</td>\n",
              "      <td>0.537</td>\n",
              "      <td>At Highland Ave/Arden Ave - Accident.</td>\n",
              "      <td>NaN</td>\n",
              "      <td>CA-210 W</td>\n",
              "      <td>R</td>\n",
              "      <td>Highland</td>\n",
              "      <td>San Bernardino</td>\n",
              "      <td>CA</td>\n",
              "      <td>92346</td>\n",
              "      <td>US</td>\n",
              "      <td>US/Pacific</td>\n",
              "      <td>KSBD</td>\n",
              "      <td>2019-08-23 20:50:00</td>\n",
              "      <td>79.0</td>\n",
              "      <td>79.0</td>\n",
              "      <td>47.0</td>\n",
              "      <td>28.63</td>\n",
              "      <td>7.0</td>\n",
              "      <td>SW</td>\n",
              "      <td>7.0</td>\n",
              "      <td>0.00</td>\n",
              "      <td>Fair</td>\n",
              "      <td>False</td>\n",
              "      <td>False</td>\n",
              "      <td>False</td>\n",
              "      <td>False</td>\n",
              "      <td>False</td>\n",
              "      <td>False</td>\n",
              "      <td>False</td>\n",
              "      <td>False</td>\n",
              "      <td>False</td>\n",
              "      <td>False</td>\n",
              "      <td>False</td>\n",
              "      <td>False</td>\n",
              "      <td>False</td>\n",
              "      <td>Day</td>\n",
              "      <td>Day</td>\n",
              "      <td>Day</td>\n",
              "      <td>Day</td>\n",
              "    </tr>\n",
              "  </tbody>\n",
              "</table>\n",
              "<p>1516064 rows × 47 columns</p>\n",
              "</div>\n",
              "      <button class=\"colab-df-convert\" onclick=\"convertToInteractive('df-7442c80d-0292-410c-b83e-b5358ce30095')\"\n",
              "              title=\"Convert this dataframe to an interactive table.\"\n",
              "              style=\"display:none;\">\n",
              "        \n",
              "  <svg xmlns=\"http://www.w3.org/2000/svg\" height=\"24px\"viewBox=\"0 0 24 24\"\n",
              "       width=\"24px\">\n",
              "    <path d=\"M0 0h24v24H0V0z\" fill=\"none\"/>\n",
              "    <path d=\"M18.56 5.44l.94 2.06.94-2.06 2.06-.94-2.06-.94-.94-2.06-.94 2.06-2.06.94zm-11 1L8.5 8.5l.94-2.06 2.06-.94-2.06-.94L8.5 2.5l-.94 2.06-2.06.94zm10 10l.94 2.06.94-2.06 2.06-.94-2.06-.94-.94-2.06-.94 2.06-2.06.94z\"/><path d=\"M17.41 7.96l-1.37-1.37c-.4-.4-.92-.59-1.43-.59-.52 0-1.04.2-1.43.59L10.3 9.45l-7.72 7.72c-.78.78-.78 2.05 0 2.83L4 21.41c.39.39.9.59 1.41.59.51 0 1.02-.2 1.41-.59l7.78-7.78 2.81-2.81c.8-.78.8-2.07 0-2.86zM5.41 20L4 18.59l7.72-7.72 1.47 1.35L5.41 20z\"/>\n",
              "  </svg>\n",
              "      </button>\n",
              "      \n",
              "  <style>\n",
              "    .colab-df-container {\n",
              "      display:flex;\n",
              "      flex-wrap:wrap;\n",
              "      gap: 12px;\n",
              "    }\n",
              "\n",
              "    .colab-df-convert {\n",
              "      background-color: #E8F0FE;\n",
              "      border: none;\n",
              "      border-radius: 50%;\n",
              "      cursor: pointer;\n",
              "      display: none;\n",
              "      fill: #1967D2;\n",
              "      height: 32px;\n",
              "      padding: 0 0 0 0;\n",
              "      width: 32px;\n",
              "    }\n",
              "\n",
              "    .colab-df-convert:hover {\n",
              "      background-color: #E2EBFA;\n",
              "      box-shadow: 0px 1px 2px rgba(60, 64, 67, 0.3), 0px 1px 3px 1px rgba(60, 64, 67, 0.15);\n",
              "      fill: #174EA6;\n",
              "    }\n",
              "\n",
              "    [theme=dark] .colab-df-convert {\n",
              "      background-color: #3B4455;\n",
              "      fill: #D2E3FC;\n",
              "    }\n",
              "\n",
              "    [theme=dark] .colab-df-convert:hover {\n",
              "      background-color: #434B5C;\n",
              "      box-shadow: 0px 1px 3px 1px rgba(0, 0, 0, 0.15);\n",
              "      filter: drop-shadow(0px 1px 2px rgba(0, 0, 0, 0.3));\n",
              "      fill: #FFFFFF;\n",
              "    }\n",
              "  </style>\n",
              "\n",
              "      <script>\n",
              "        const buttonEl =\n",
              "          document.querySelector('#df-7442c80d-0292-410c-b83e-b5358ce30095 button.colab-df-convert');\n",
              "        buttonEl.style.display =\n",
              "          google.colab.kernel.accessAllowed ? 'block' : 'none';\n",
              "\n",
              "        async function convertToInteractive(key) {\n",
              "          const element = document.querySelector('#df-7442c80d-0292-410c-b83e-b5358ce30095');\n",
              "          const dataTable =\n",
              "            await google.colab.kernel.invokeFunction('convertToInteractive',\n",
              "                                                     [key], {});\n",
              "          if (!dataTable) return;\n",
              "\n",
              "          const docLinkHtml = 'Like what you see? Visit the ' +\n",
              "            '<a target=\"_blank\" href=https://colab.research.google.com/notebooks/data_table.ipynb>data table notebook</a>'\n",
              "            + ' to learn more about interactive tables.';\n",
              "          element.innerHTML = '';\n",
              "          dataTable['output_type'] = 'display_data';\n",
              "          await google.colab.output.renderOutput(dataTable, element);\n",
              "          const docLink = document.createElement('div');\n",
              "          docLink.innerHTML = docLinkHtml;\n",
              "          element.appendChild(docLink);\n",
              "        }\n",
              "      </script>\n",
              "    </div>\n",
              "  </div>\n",
              "  "
            ],
            "text/plain": [
              "                ID  Severity  ... Nautical_Twilight Astronomical_Twilight\n",
              "0        A-2716600         3  ...             Night                 Night\n",
              "1        A-2716601         2  ...             Night                 Night\n",
              "2        A-2716602         2  ...             Night                   Day\n",
              "3        A-2716603         2  ...             Night                   Day\n",
              "4        A-2716604         2  ...               Day                   Day\n",
              "...            ...       ...  ...               ...                   ...\n",
              "1516059  A-4239402         2  ...               Day                   Day\n",
              "1516060  A-4239403         2  ...               Day                   Day\n",
              "1516061  A-4239404         2  ...               Day                   Day\n",
              "1516062  A-4239405         2  ...               Day                   Day\n",
              "1516063  A-4239406         2  ...               Day                   Day\n",
              "\n",
              "[1516064 rows x 47 columns]"
            ]
          },
          "metadata": {},
          "execution_count": 9
        }
      ]
    },
    {
      "cell_type": "code",
      "source": [
        "df.info()"
      ],
      "metadata": {
        "colab": {
          "base_uri": "https://localhost:8080/"
        },
        "id": "4ERdNZaD6rew",
        "outputId": "a36d74bb-7ff5-4d96-a0c0-f49ea2286850"
      },
      "execution_count": null,
      "outputs": [
        {
          "output_type": "stream",
          "name": "stdout",
          "text": [
            "<class 'pandas.core.frame.DataFrame'>\n",
            "RangeIndex: 1516064 entries, 0 to 1516063\n",
            "Data columns (total 47 columns):\n",
            " #   Column                 Non-Null Count    Dtype  \n",
            "---  ------                 --------------    -----  \n",
            " 0   ID                     1516064 non-null  object \n",
            " 1   Severity               1516064 non-null  int64  \n",
            " 2   Start_Time             1516064 non-null  object \n",
            " 3   End_Time               1516064 non-null  object \n",
            " 4   Start_Lat              1516064 non-null  float64\n",
            " 5   Start_Lng              1516064 non-null  float64\n",
            " 6   End_Lat                1516064 non-null  float64\n",
            " 7   End_Lng                1516064 non-null  float64\n",
            " 8   Distance(mi)           1516064 non-null  float64\n",
            " 9   Description            1516064 non-null  object \n",
            " 10  Number                 469969 non-null   float64\n",
            " 11  Street                 1516064 non-null  object \n",
            " 12  Side                   1516064 non-null  object \n",
            " 13  City                   1515981 non-null  object \n",
            " 14  County                 1516064 non-null  object \n",
            " 15  State                  1516064 non-null  object \n",
            " 16  Zipcode                1515129 non-null  object \n",
            " 17  Country                1516064 non-null  object \n",
            " 18  Timezone               1513762 non-null  object \n",
            " 19  Airport_Code           1511816 non-null  object \n",
            " 20  Weather_Timestamp      1485800 non-null  object \n",
            " 21  Temperature(F)         1473031 non-null  float64\n",
            " 22  Wind_Chill(F)          1066748 non-null  float64\n",
            " 23  Humidity(%)            1470555 non-null  float64\n",
            " 24  Pressure(in)           1479790 non-null  float64\n",
            " 25  Visibility(mi)         1471853 non-null  float64\n",
            " 26  Wind_Direction         1474206 non-null  object \n",
            " 27  Wind_Speed(mph)        1387202 non-null  float64\n",
            " 28  Precipitation(in)      1005515 non-null  float64\n",
            " 29  Weather_Condition      1472057 non-null  object \n",
            " 30  Amenity                1516064 non-null  bool   \n",
            " 31  Bump                   1516064 non-null  bool   \n",
            " 32  Crossing               1516064 non-null  bool   \n",
            " 33  Give_Way               1516064 non-null  bool   \n",
            " 34  Junction               1516064 non-null  bool   \n",
            " 35  No_Exit                1516064 non-null  bool   \n",
            " 36  Railway                1516064 non-null  bool   \n",
            " 37  Roundabout             1516064 non-null  bool   \n",
            " 38  Station                1516064 non-null  bool   \n",
            " 39  Stop                   1516064 non-null  bool   \n",
            " 40  Traffic_Calming        1516064 non-null  bool   \n",
            " 41  Traffic_Signal         1516064 non-null  bool   \n",
            " 42  Turning_Loop           1516064 non-null  bool   \n",
            " 43  Sunrise_Sunset         1515981 non-null  object \n",
            " 44  Civil_Twilight         1515981 non-null  object \n",
            " 45  Nautical_Twilight      1515981 non-null  object \n",
            " 46  Astronomical_Twilight  1515981 non-null  object \n",
            "dtypes: bool(13), float64(13), int64(1), object(20)\n",
            "memory usage: 412.1+ MB\n"
          ]
        }
      ]
    },
    {
      "cell_type": "code",
      "source": [
        "df.describe()"
      ],
      "metadata": {
        "colab": {
          "base_uri": "https://localhost:8080/",
          "height": 364
        },
        "id": "Ne906sfI6rXy",
        "outputId": "9d37ee46-b27b-4a88-e4ef-9fecaad5b232"
      },
      "execution_count": null,
      "outputs": [
        {
          "output_type": "execute_result",
          "data": {
            "text/html": [
              "\n",
              "  <div id=\"df-84db51b8-de09-48d7-9b8a-e0621c53f864\">\n",
              "    <div class=\"colab-df-container\">\n",
              "      <div>\n",
              "<style scoped>\n",
              "    .dataframe tbody tr th:only-of-type {\n",
              "        vertical-align: middle;\n",
              "    }\n",
              "\n",
              "    .dataframe tbody tr th {\n",
              "        vertical-align: top;\n",
              "    }\n",
              "\n",
              "    .dataframe thead th {\n",
              "        text-align: right;\n",
              "    }\n",
              "</style>\n",
              "<table border=\"1\" class=\"dataframe\">\n",
              "  <thead>\n",
              "    <tr style=\"text-align: right;\">\n",
              "      <th></th>\n",
              "      <th>Severity</th>\n",
              "      <th>Start_Lat</th>\n",
              "      <th>Start_Lng</th>\n",
              "      <th>End_Lat</th>\n",
              "      <th>End_Lng</th>\n",
              "      <th>Distance(mi)</th>\n",
              "      <th>Number</th>\n",
              "      <th>Temperature(F)</th>\n",
              "      <th>Wind_Chill(F)</th>\n",
              "      <th>Humidity(%)</th>\n",
              "      <th>Pressure(in)</th>\n",
              "      <th>Visibility(mi)</th>\n",
              "      <th>Wind_Speed(mph)</th>\n",
              "      <th>Precipitation(in)</th>\n",
              "    </tr>\n",
              "  </thead>\n",
              "  <tbody>\n",
              "    <tr>\n",
              "      <th>count</th>\n",
              "      <td>1.516064e+06</td>\n",
              "      <td>1.516064e+06</td>\n",
              "      <td>1.516064e+06</td>\n",
              "      <td>1.516064e+06</td>\n",
              "      <td>1.516064e+06</td>\n",
              "      <td>1.516064e+06</td>\n",
              "      <td>4.699690e+05</td>\n",
              "      <td>1.473031e+06</td>\n",
              "      <td>1.066748e+06</td>\n",
              "      <td>1.470555e+06</td>\n",
              "      <td>1.479790e+06</td>\n",
              "      <td>1.471853e+06</td>\n",
              "      <td>1.387202e+06</td>\n",
              "      <td>1.005515e+06</td>\n",
              "    </tr>\n",
              "    <tr>\n",
              "      <th>mean</th>\n",
              "      <td>2.238630e+00</td>\n",
              "      <td>3.690056e+01</td>\n",
              "      <td>-9.859919e+01</td>\n",
              "      <td>3.690061e+01</td>\n",
              "      <td>-9.859901e+01</td>\n",
              "      <td>5.872617e-01</td>\n",
              "      <td>8.907533e+03</td>\n",
              "      <td>5.958460e+01</td>\n",
              "      <td>5.510976e+01</td>\n",
              "      <td>6.465960e+01</td>\n",
              "      <td>2.955495e+01</td>\n",
              "      <td>9.131755e+00</td>\n",
              "      <td>7.630812e+00</td>\n",
              "      <td>8.477855e-03</td>\n",
              "    </tr>\n",
              "    <tr>\n",
              "      <th>std</th>\n",
              "      <td>6.081481e-01</td>\n",
              "      <td>5.165653e+00</td>\n",
              "      <td>1.849602e+01</td>\n",
              "      <td>5.165629e+00</td>\n",
              "      <td>1.849590e+01</td>\n",
              "      <td>1.632659e+00</td>\n",
              "      <td>2.242190e+04</td>\n",
              "      <td>1.827316e+01</td>\n",
              "      <td>2.112735e+01</td>\n",
              "      <td>2.325986e+01</td>\n",
              "      <td>1.016756e+00</td>\n",
              "      <td>2.889112e+00</td>\n",
              "      <td>5.637364e+00</td>\n",
              "      <td>1.293168e-01</td>\n",
              "    </tr>\n",
              "    <tr>\n",
              "      <th>min</th>\n",
              "      <td>1.000000e+00</td>\n",
              "      <td>2.457022e+01</td>\n",
              "      <td>-1.244976e+02</td>\n",
              "      <td>2.457011e+01</td>\n",
              "      <td>-1.244978e+02</td>\n",
              "      <td>0.000000e+00</td>\n",
              "      <td>0.000000e+00</td>\n",
              "      <td>-8.900000e+01</td>\n",
              "      <td>-8.900000e+01</td>\n",
              "      <td>1.000000e+00</td>\n",
              "      <td>0.000000e+00</td>\n",
              "      <td>0.000000e+00</td>\n",
              "      <td>0.000000e+00</td>\n",
              "      <td>0.000000e+00</td>\n",
              "    </tr>\n",
              "    <tr>\n",
              "      <th>25%</th>\n",
              "      <td>2.000000e+00</td>\n",
              "      <td>3.385422e+01</td>\n",
              "      <td>-1.182076e+02</td>\n",
              "      <td>3.385420e+01</td>\n",
              "      <td>-1.182077e+02</td>\n",
              "      <td>0.000000e+00</td>\n",
              "      <td>1.212000e+03</td>\n",
              "      <td>4.700000e+01</td>\n",
              "      <td>4.080000e+01</td>\n",
              "      <td>4.800000e+01</td>\n",
              "      <td>2.944000e+01</td>\n",
              "      <td>1.000000e+01</td>\n",
              "      <td>4.600000e+00</td>\n",
              "      <td>0.000000e+00</td>\n",
              "    </tr>\n",
              "    <tr>\n",
              "      <th>50%</th>\n",
              "      <td>2.000000e+00</td>\n",
              "      <td>3.735113e+01</td>\n",
              "      <td>-9.438100e+01</td>\n",
              "      <td>3.735134e+01</td>\n",
              "      <td>-9.437987e+01</td>\n",
              "      <td>1.780000e-01</td>\n",
              "      <td>4.000000e+03</td>\n",
              "      <td>6.100000e+01</td>\n",
              "      <td>5.700000e+01</td>\n",
              "      <td>6.800000e+01</td>\n",
              "      <td>2.988000e+01</td>\n",
              "      <td>1.000000e+01</td>\n",
              "      <td>7.000000e+00</td>\n",
              "      <td>0.000000e+00</td>\n",
              "    </tr>\n",
              "    <tr>\n",
              "      <th>75%</th>\n",
              "      <td>2.000000e+00</td>\n",
              "      <td>4.072593e+01</td>\n",
              "      <td>-8.087469e+01</td>\n",
              "      <td>4.072593e+01</td>\n",
              "      <td>-8.087449e+01</td>\n",
              "      <td>5.940000e-01</td>\n",
              "      <td>1.010000e+04</td>\n",
              "      <td>7.300000e+01</td>\n",
              "      <td>7.100000e+01</td>\n",
              "      <td>8.400000e+01</td>\n",
              "      <td>3.004000e+01</td>\n",
              "      <td>1.000000e+01</td>\n",
              "      <td>1.040000e+01</td>\n",
              "      <td>0.000000e+00</td>\n",
              "    </tr>\n",
              "    <tr>\n",
              "      <th>max</th>\n",
              "      <td>4.000000e+00</td>\n",
              "      <td>4.900058e+01</td>\n",
              "      <td>-6.711317e+01</td>\n",
              "      <td>4.907500e+01</td>\n",
              "      <td>-6.710924e+01</td>\n",
              "      <td>1.551860e+02</td>\n",
              "      <td>9.999997e+06</td>\n",
              "      <td>1.706000e+02</td>\n",
              "      <td>1.130000e+02</td>\n",
              "      <td>1.000000e+02</td>\n",
              "      <td>5.804000e+01</td>\n",
              "      <td>1.400000e+02</td>\n",
              "      <td>9.840000e+02</td>\n",
              "      <td>2.400000e+01</td>\n",
              "    </tr>\n",
              "  </tbody>\n",
              "</table>\n",
              "</div>\n",
              "      <button class=\"colab-df-convert\" onclick=\"convertToInteractive('df-84db51b8-de09-48d7-9b8a-e0621c53f864')\"\n",
              "              title=\"Convert this dataframe to an interactive table.\"\n",
              "              style=\"display:none;\">\n",
              "        \n",
              "  <svg xmlns=\"http://www.w3.org/2000/svg\" height=\"24px\"viewBox=\"0 0 24 24\"\n",
              "       width=\"24px\">\n",
              "    <path d=\"M0 0h24v24H0V0z\" fill=\"none\"/>\n",
              "    <path d=\"M18.56 5.44l.94 2.06.94-2.06 2.06-.94-2.06-.94-.94-2.06-.94 2.06-2.06.94zm-11 1L8.5 8.5l.94-2.06 2.06-.94-2.06-.94L8.5 2.5l-.94 2.06-2.06.94zm10 10l.94 2.06.94-2.06 2.06-.94-2.06-.94-.94-2.06-.94 2.06-2.06.94z\"/><path d=\"M17.41 7.96l-1.37-1.37c-.4-.4-.92-.59-1.43-.59-.52 0-1.04.2-1.43.59L10.3 9.45l-7.72 7.72c-.78.78-.78 2.05 0 2.83L4 21.41c.39.39.9.59 1.41.59.51 0 1.02-.2 1.41-.59l7.78-7.78 2.81-2.81c.8-.78.8-2.07 0-2.86zM5.41 20L4 18.59l7.72-7.72 1.47 1.35L5.41 20z\"/>\n",
              "  </svg>\n",
              "      </button>\n",
              "      \n",
              "  <style>\n",
              "    .colab-df-container {\n",
              "      display:flex;\n",
              "      flex-wrap:wrap;\n",
              "      gap: 12px;\n",
              "    }\n",
              "\n",
              "    .colab-df-convert {\n",
              "      background-color: #E8F0FE;\n",
              "      border: none;\n",
              "      border-radius: 50%;\n",
              "      cursor: pointer;\n",
              "      display: none;\n",
              "      fill: #1967D2;\n",
              "      height: 32px;\n",
              "      padding: 0 0 0 0;\n",
              "      width: 32px;\n",
              "    }\n",
              "\n",
              "    .colab-df-convert:hover {\n",
              "      background-color: #E2EBFA;\n",
              "      box-shadow: 0px 1px 2px rgba(60, 64, 67, 0.3), 0px 1px 3px 1px rgba(60, 64, 67, 0.15);\n",
              "      fill: #174EA6;\n",
              "    }\n",
              "\n",
              "    [theme=dark] .colab-df-convert {\n",
              "      background-color: #3B4455;\n",
              "      fill: #D2E3FC;\n",
              "    }\n",
              "\n",
              "    [theme=dark] .colab-df-convert:hover {\n",
              "      background-color: #434B5C;\n",
              "      box-shadow: 0px 1px 3px 1px rgba(0, 0, 0, 0.15);\n",
              "      filter: drop-shadow(0px 1px 2px rgba(0, 0, 0, 0.3));\n",
              "      fill: #FFFFFF;\n",
              "    }\n",
              "  </style>\n",
              "\n",
              "      <script>\n",
              "        const buttonEl =\n",
              "          document.querySelector('#df-84db51b8-de09-48d7-9b8a-e0621c53f864 button.colab-df-convert');\n",
              "        buttonEl.style.display =\n",
              "          google.colab.kernel.accessAllowed ? 'block' : 'none';\n",
              "\n",
              "        async function convertToInteractive(key) {\n",
              "          const element = document.querySelector('#df-84db51b8-de09-48d7-9b8a-e0621c53f864');\n",
              "          const dataTable =\n",
              "            await google.colab.kernel.invokeFunction('convertToInteractive',\n",
              "                                                     [key], {});\n",
              "          if (!dataTable) return;\n",
              "\n",
              "          const docLinkHtml = 'Like what you see? Visit the ' +\n",
              "            '<a target=\"_blank\" href=https://colab.research.google.com/notebooks/data_table.ipynb>data table notebook</a>'\n",
              "            + ' to learn more about interactive tables.';\n",
              "          element.innerHTML = '';\n",
              "          dataTable['output_type'] = 'display_data';\n",
              "          await google.colab.output.renderOutput(dataTable, element);\n",
              "          const docLink = document.createElement('div');\n",
              "          docLink.innerHTML = docLinkHtml;\n",
              "          element.appendChild(docLink);\n",
              "        }\n",
              "      </script>\n",
              "    </div>\n",
              "  </div>\n",
              "  "
            ],
            "text/plain": [
              "           Severity     Start_Lat  ...  Wind_Speed(mph)  Precipitation(in)\n",
              "count  1.516064e+06  1.516064e+06  ...     1.387202e+06       1.005515e+06\n",
              "mean   2.238630e+00  3.690056e+01  ...     7.630812e+00       8.477855e-03\n",
              "std    6.081481e-01  5.165653e+00  ...     5.637364e+00       1.293168e-01\n",
              "min    1.000000e+00  2.457022e+01  ...     0.000000e+00       0.000000e+00\n",
              "25%    2.000000e+00  3.385422e+01  ...     4.600000e+00       0.000000e+00\n",
              "50%    2.000000e+00  3.735113e+01  ...     7.000000e+00       0.000000e+00\n",
              "75%    2.000000e+00  4.072593e+01  ...     1.040000e+01       0.000000e+00\n",
              "max    4.000000e+00  4.900058e+01  ...     9.840000e+02       2.400000e+01\n",
              "\n",
              "[8 rows x 14 columns]"
            ]
          },
          "metadata": {},
          "execution_count": 11
        }
      ]
    },
    {
      "cell_type": "code",
      "source": [
        "df.columns"
      ],
      "metadata": {
        "colab": {
          "base_uri": "https://localhost:8080/"
        },
        "id": "ywV_Db9o6rRP",
        "outputId": "43fb7ae1-371e-41ce-80f1-53178aa97bdf"
      },
      "execution_count": null,
      "outputs": [
        {
          "output_type": "execute_result",
          "data": {
            "text/plain": [
              "Index(['ID', 'Severity', 'Start_Time', 'End_Time', 'Start_Lat', 'Start_Lng',\n",
              "       'End_Lat', 'End_Lng', 'Distance(mi)', 'Description', 'Number', 'Street',\n",
              "       'Side', 'City', 'County', 'State', 'Zipcode', 'Country', 'Timezone',\n",
              "       'Airport_Code', 'Weather_Timestamp', 'Temperature(F)', 'Wind_Chill(F)',\n",
              "       'Humidity(%)', 'Pressure(in)', 'Visibility(mi)', 'Wind_Direction',\n",
              "       'Wind_Speed(mph)', 'Precipitation(in)', 'Weather_Condition', 'Amenity',\n",
              "       'Bump', 'Crossing', 'Give_Way', 'Junction', 'No_Exit', 'Railway',\n",
              "       'Roundabout', 'Station', 'Stop', 'Traffic_Calming', 'Traffic_Signal',\n",
              "       'Turning_Loop', 'Sunrise_Sunset', 'Civil_Twilight', 'Nautical_Twilight',\n",
              "       'Astronomical_Twilight'],\n",
              "      dtype='object')"
            ]
          },
          "metadata": {},
          "execution_count": 12
        }
      ]
    },
    {
      "cell_type": "code",
      "source": [
        "numerics = ['int16', 'int32', 'int64', 'float16', 'float32', 'float64']\n",
        "\n",
        "numeric_df = df.select_dtypes(include=numerics)\n",
        "len(numeric_df.columns)"
      ],
      "metadata": {
        "colab": {
          "base_uri": "https://localhost:8080/"
        },
        "id": "vpS8aXKq6rI8",
        "outputId": "c61ecd08-de46-4ef8-d6e5-d7007c783f34"
      },
      "execution_count": null,
      "outputs": [
        {
          "output_type": "execute_result",
          "data": {
            "text/plain": [
              "14"
            ]
          },
          "metadata": {},
          "execution_count": 13
        }
      ]
    },
    {
      "cell_type": "markdown",
      "source": [
        "Percentage of missing values per column"
      ],
      "metadata": {
        "id": "oG9N2mosASLS"
      }
    },
    {
      "cell_type": "code",
      "source": [
        "missing_percentages = df.isna().sum().sort_values(ascending=False)"
      ],
      "metadata": {
        "id": "p3la_D4MEQ6w"
      },
      "execution_count": null,
      "outputs": []
    },
    {
      "cell_type": "code",
      "source": [
        "missing_percentages[missing_percentages != 0].plot(kind='barh')"
      ],
      "metadata": {
        "colab": {
          "base_uri": "https://localhost:8080/",
          "height": 295
        },
        "id": "3W4ggp--EgeX",
        "outputId": "37cd9240-3b74-40d3-ff21-b30cbbca140c"
      },
      "execution_count": null,
      "outputs": [
        {
          "output_type": "execute_result",
          "data": {
            "text/plain": [
              "<matplotlib.axes._subplots.AxesSubplot at 0x7effaec7a090>"
            ]
          },
          "metadata": {},
          "execution_count": 33
        },
        {
          "output_type": "display_data",
          "data": {
            "image/png": "[encoded data removed]",
            "text/plain": [
              "<Figure size 432x288 with 1 Axes>"
            ]
          },
          "metadata": {
            "needs_background": "light"
          }
        }
      ]
    },
    {
      "cell_type": "code",
      "source": [
        "missing_percentages = df.isna().sum().sort_values(ascending=False) / len(df)\n",
        "missing_percentages"
      ],
      "metadata": {
        "colab": {
          "base_uri": "https://localhost:8080/"
        },
        "id": "xBWMcD-G6q3B",
        "outputId": "3c806c6b-20a7-4bb1-b7e5-02fb0c60be7b"
      },
      "execution_count": null,
      "outputs": [
        {
          "output_type": "execute_result",
          "data": {
            "text/plain": [
              "Number                   0.690007\n",
              "Precipitation(in)        0.336760\n",
              "Wind_Chill(F)            0.296370\n",
              "Wind_Speed(mph)          0.084998\n",
              "Humidity(%)              0.030018\n",
              "Visibility(mi)           0.029162\n",
              "Weather_Condition        0.029027\n",
              "Temperature(F)           0.028385\n",
              "Wind_Direction           0.027610\n",
              "Pressure(in)             0.023926\n",
              "Weather_Timestamp        0.019962\n",
              "Airport_Code             0.002802\n",
              "Timezone                 0.001518\n",
              "Zipcode                  0.000617\n",
              "Sunrise_Sunset           0.000055\n",
              "Civil_Twilight           0.000055\n",
              "Nautical_Twilight        0.000055\n",
              "Astronomical_Twilight    0.000055\n",
              "City                     0.000055\n",
              "Country                  0.000000\n",
              "Give_Way                 0.000000\n",
              "Start_Time               0.000000\n",
              "End_Time                 0.000000\n",
              "Start_Lat                0.000000\n",
              "Turning_Loop             0.000000\n",
              "Traffic_Signal           0.000000\n",
              "Traffic_Calming          0.000000\n",
              "Stop                     0.000000\n",
              "Station                  0.000000\n",
              "Roundabout               0.000000\n",
              "Railway                  0.000000\n",
              "No_Exit                  0.000000\n",
              "Junction                 0.000000\n",
              "Crossing                 0.000000\n",
              "State                    0.000000\n",
              "Bump                     0.000000\n",
              "Amenity                  0.000000\n",
              "Start_Lng                0.000000\n",
              "End_Lat                  0.000000\n",
              "End_Lng                  0.000000\n",
              "Distance(mi)             0.000000\n",
              "Description              0.000000\n",
              "Street                   0.000000\n",
              "Severity                 0.000000\n",
              "Side                     0.000000\n",
              "County                   0.000000\n",
              "ID                       0.000000\n",
              "dtype: float64"
            ]
          },
          "metadata": {},
          "execution_count": 34
        }
      ]
    },
    {
      "cell_type": "code",
      "source": [
        "type(missing_percentages)"
      ],
      "metadata": {
        "colab": {
          "base_uri": "https://localhost:8080/"
        },
        "id": "qlPp7w-r6qr5",
        "outputId": "213be0d3-7d4d-4b64-e91d-433104add1df"
      },
      "execution_count": null,
      "outputs": [
        {
          "output_type": "execute_result",
          "data": {
            "text/plain": [
              "pandas.core.series.Series"
            ]
          },
          "metadata": {},
          "execution_count": 15
        }
      ]
    },
    {
      "cell_type": "code",
      "source": [
        "missing_percentages"
      ],
      "metadata": {
        "colab": {
          "base_uri": "https://localhost:8080/"
        },
        "id": "ULSwu-XFBk9e",
        "outputId": "f1b932cc-b334-4151-d22c-444fb4eeecaf"
      },
      "execution_count": null,
      "outputs": [
        {
          "output_type": "execute_result",
          "data": {
            "text/plain": [
              "Number                   0.690007\n",
              "Precipitation(in)        0.336760\n",
              "Wind_Chill(F)            0.296370\n",
              "Wind_Speed(mph)          0.084998\n",
              "Humidity(%)              0.030018\n",
              "Visibility(mi)           0.029162\n",
              "Weather_Condition        0.029027\n",
              "Temperature(F)           0.028385\n",
              "Wind_Direction           0.027610\n",
              "Pressure(in)             0.023926\n",
              "Weather_Timestamp        0.019962\n",
              "Airport_Code             0.002802\n",
              "Timezone                 0.001518\n",
              "Zipcode                  0.000617\n",
              "Sunrise_Sunset           0.000055\n",
              "Civil_Twilight           0.000055\n",
              "Nautical_Twilight        0.000055\n",
              "Astronomical_Twilight    0.000055\n",
              "City                     0.000055\n",
              "Country                  0.000000\n",
              "Give_Way                 0.000000\n",
              "Start_Time               0.000000\n",
              "End_Time                 0.000000\n",
              "Start_Lat                0.000000\n",
              "Turning_Loop             0.000000\n",
              "Traffic_Signal           0.000000\n",
              "Traffic_Calming          0.000000\n",
              "Stop                     0.000000\n",
              "Station                  0.000000\n",
              "Roundabout               0.000000\n",
              "Railway                  0.000000\n",
              "No_Exit                  0.000000\n",
              "Junction                 0.000000\n",
              "Crossing                 0.000000\n",
              "State                    0.000000\n",
              "Bump                     0.000000\n",
              "Amenity                  0.000000\n",
              "Start_Lng                0.000000\n",
              "End_Lat                  0.000000\n",
              "End_Lng                  0.000000\n",
              "Distance(mi)             0.000000\n",
              "Description              0.000000\n",
              "Street                   0.000000\n",
              "Severity                 0.000000\n",
              "Side                     0.000000\n",
              "County                   0.000000\n",
              "ID                       0.000000\n",
              "dtype: float64"
            ]
          },
          "metadata": {},
          "execution_count": 18
        }
      ]
    },
    {
      "cell_type": "code",
      "source": [
        "missing_percentages != 0"
      ],
      "metadata": {
        "colab": {
          "base_uri": "https://localhost:8080/"
        },
        "id": "wQrhOQjsBaNe",
        "outputId": "46d6633b-f075-414e-fcde-52ae69d71615"
      },
      "execution_count": null,
      "outputs": [
        {
          "output_type": "execute_result",
          "data": {
            "text/plain": [
              "Number                    True\n",
              "Precipitation(in)         True\n",
              "Wind_Chill(F)             True\n",
              "Wind_Speed(mph)           True\n",
              "Humidity(%)               True\n",
              "Visibility(mi)            True\n",
              "Weather_Condition         True\n",
              "Temperature(F)            True\n",
              "Wind_Direction            True\n",
              "Pressure(in)              True\n",
              "Weather_Timestamp         True\n",
              "Airport_Code              True\n",
              "Timezone                  True\n",
              "Zipcode                   True\n",
              "Sunrise_Sunset            True\n",
              "Civil_Twilight            True\n",
              "Nautical_Twilight         True\n",
              "Astronomical_Twilight     True\n",
              "City                      True\n",
              "Country                  False\n",
              "Give_Way                 False\n",
              "Start_Time               False\n",
              "End_Time                 False\n",
              "Start_Lat                False\n",
              "Turning_Loop             False\n",
              "Traffic_Signal           False\n",
              "Traffic_Calming          False\n",
              "Stop                     False\n",
              "Station                  False\n",
              "Roundabout               False\n",
              "Railway                  False\n",
              "No_Exit                  False\n",
              "Junction                 False\n",
              "Crossing                 False\n",
              "State                    False\n",
              "Bump                     False\n",
              "Amenity                  False\n",
              "Start_Lng                False\n",
              "End_Lat                  False\n",
              "End_Lng                  False\n",
              "Distance(mi)             False\n",
              "Description              False\n",
              "Street                   False\n",
              "Severity                 False\n",
              "Side                     False\n",
              "County                   False\n",
              "ID                       False\n",
              "dtype: bool"
            ]
          },
          "metadata": {},
          "execution_count": 26
        }
      ]
    },
    {
      "cell_type": "code",
      "source": [
        "missing_percentages[missing_percentages  != 0]"
      ],
      "metadata": {
        "colab": {
          "base_uri": "https://localhost:8080/"
        },
        "id": "oZcF7E6aA-AY",
        "outputId": "b336e777-def0-4a00-99a2-801c84befee8"
      },
      "execution_count": null,
      "outputs": [
        {
          "output_type": "execute_result",
          "data": {
            "text/plain": [
              "Number                   True\n",
              "Precipitation(in)        True\n",
              "Wind_Chill(F)            True\n",
              "Wind_Speed(mph)          True\n",
              "Humidity(%)              True\n",
              "Visibility(mi)           True\n",
              "Weather_Condition        True\n",
              "Temperature(F)           True\n",
              "Wind_Direction           True\n",
              "Pressure(in)             True\n",
              "Weather_Timestamp        True\n",
              "Airport_Code             True\n",
              "Timezone                 True\n",
              "Zipcode                  True\n",
              "Sunrise_Sunset           True\n",
              "Civil_Twilight           True\n",
              "Nautical_Twilight        True\n",
              "Astronomical_Twilight    True\n",
              "City                     True\n",
              "dtype: bool"
            ]
          },
          "metadata": {},
          "execution_count": 27
        }
      ]
    },
    {
      "cell_type": "markdown",
      "source": [
        "## Exploratory Analysis and Visualization\n",
        "\n",
        "Columns we'll analyze:\n",
        "\n",
        "1. City\n",
        "2. Start Time\n",
        "3. Start Lat, Start Lng\n",
        "4. Temperature\n",
        "5. Weather Condition"
      ],
      "metadata": {
        "id": "UPVazbtZG8T4"
      }
    },
    {
      "cell_type": "code",
      "source": [
        "df.City"
      ],
      "metadata": {
        "colab": {
          "base_uri": "https://localhost:8080/"
        },
        "id": "9f5y6Y8BDNLE",
        "outputId": "76499e4d-4f95-4912-e263-297347174079"
      },
      "execution_count": null,
      "outputs": [
        {
          "data": {
            "text/plain": [
              "0               Dublin\n",
              "1               Dayton\n",
              "2           Cincinnati\n",
              "3           Cincinnati\n",
              "4                Akron\n",
              "              ...     \n",
              "1516059      Riverside\n",
              "1516060      San Diego\n",
              "1516061         Orange\n",
              "1516062    Culver City\n",
              "1516063       Highland\n",
              "Name: City, Length: 1516064, dtype: object"
            ]
          },
          "execution_count": null,
          "metadata": {},
          "output_type": "execute_result"
        }
      ]
    },
    {
      "cell_type": "code",
      "source": [
        "df.City"
      ],
      "metadata": {
        "colab": {
          "base_uri": "https://localhost:8080/"
        },
        "id": "uB1puX29DNFD",
        "outputId": "4b8104e1-984e-4e56-b89f-9c759dca8aad"
      },
      "execution_count": null,
      "outputs": [
        {
          "output_type": "execute_result",
          "data": {
            "text/plain": [
              "0               Dublin\n",
              "1               Dayton\n",
              "2           Cincinnati\n",
              "3           Cincinnati\n",
              "4                Akron\n",
              "              ...     \n",
              "1516059      Riverside\n",
              "1516060      San Diego\n",
              "1516061         Orange\n",
              "1516062    Culver City\n",
              "1516063       Highland\n",
              "Name: City, Length: 1516064, dtype: object"
            ]
          },
          "metadata": {},
          "execution_count": 36
        }
      ]
    },
    {
      "cell_type": "code",
      "source": [
        "cities = df.City.unique()\n",
        "len(cities)"
      ],
      "metadata": {
        "colab": {
          "base_uri": "https://localhost:8080/"
        },
        "id": "9QAPAvxzDNCe",
        "outputId": "7464aba9-211a-4492-e9de-337da6ec8e17"
      },
      "execution_count": null,
      "outputs": [
        {
          "output_type": "execute_result",
          "data": {
            "text/plain": [
              "10658"
            ]
          },
          "metadata": {},
          "execution_count": 37
        }
      ]
    },
    {
      "cell_type": "code",
      "source": [
        "cities_by_accident = df.City.value_counts()\n",
        "cities_by_accident"
      ],
      "metadata": {
        "colab": {
          "base_uri": "https://localhost:8080/"
        },
        "id": "gzZokHB9DM8l",
        "outputId": "241841e7-5542-44a1-8913-3419949fb557"
      },
      "execution_count": null,
      "outputs": [
        {
          "output_type": "execute_result",
          "data": {
            "text/plain": [
              "Los Angeles                     39984\n",
              "Miami                           36233\n",
              "Charlotte                       22203\n",
              "Houston                         20843\n",
              "Dallas                          19497\n",
              "                                ...  \n",
              "Manzanita                           1\n",
              "West Brooklyn                       1\n",
              "Garfield Heights                    1\n",
              "Belding                             1\n",
              "American Fork-Pleasant Grove        1\n",
              "Name: City, Length: 10657, dtype: int64"
            ]
          },
          "metadata": {},
          "execution_count": 38
        }
      ]
    },
    {
      "cell_type": "code",
      "source": [
        "cities_by_accident[:20]"
      ],
      "metadata": {
        "colab": {
          "base_uri": "https://localhost:8080/"
        },
        "id": "PCgfVR3iDM6J",
        "outputId": "b1766405-0fbe-4fc2-c4d5-14562d130f90"
      },
      "execution_count": null,
      "outputs": [
        {
          "output_type": "execute_result",
          "data": {
            "text/plain": [
              "Los Angeles     39984\n",
              "Miami           36233\n",
              "Charlotte       22203\n",
              "Houston         20843\n",
              "Dallas          19497\n",
              "Sacramento      18431\n",
              "Orlando         16169\n",
              "Portland        14805\n",
              "San Diego       14090\n",
              "Minneapolis     12653\n",
              "Atlanta         11854\n",
              "Chicago         11507\n",
              "Saint Paul      10084\n",
              "Phoenix          9934\n",
              "Raleigh          9516\n",
              "San Jose         9362\n",
              "Richmond         8472\n",
              "Nashville        8381\n",
              "Riverside        8201\n",
              "Jacksonville     7815\n",
              "Name: City, dtype: int64"
            ]
          },
          "metadata": {},
          "execution_count": 39
        }
      ]
    },
    {
      "cell_type": "code",
      "source": [
        "df.State"
      ],
      "metadata": {
        "colab": {
          "base_uri": "https://localhost:8080/"
        },
        "id": "iT9mdXgeKqZH",
        "outputId": "f3a01456-04a5-4f20-8b71-15e22ab4fdcf"
      },
      "execution_count": null,
      "outputs": [
        {
          "output_type": "execute_result",
          "data": {
            "text/plain": [
              "0          OH\n",
              "1          OH\n",
              "2          OH\n",
              "3          OH\n",
              "4          OH\n",
              "           ..\n",
              "1516059    CA\n",
              "1516060    CA\n",
              "1516061    CA\n",
              "1516062    CA\n",
              "1516063    CA\n",
              "Name: State, Length: 1516064, dtype: object"
            ]
          },
          "metadata": {},
          "execution_count": 45
        }
      ]
    },
    {
      "cell_type": "code",
      "source": [
        "'NY' in df.State"
      ],
      "metadata": {
        "colab": {
          "base_uri": "https://localhost:8080/"
        },
        "id": "AsrGLpEMKyRq",
        "outputId": "5e046252-d718-4227-c5d0-2cc85c848730"
      },
      "execution_count": null,
      "outputs": [
        {
          "output_type": "execute_result",
          "data": {
            "text/plain": [
              "False"
            ]
          },
          "metadata": {},
          "execution_count": 48
        }
      ]
    },
    {
      "cell_type": "code",
      "source": [
        "type(cities_by_accident)"
      ],
      "metadata": {
        "colab": {
          "base_uri": "https://localhost:8080/"
        },
        "id": "emG8WAAQDM12",
        "outputId": "789b088c-5935-42d8-8912-344a484cec52"
      },
      "execution_count": null,
      "outputs": [
        {
          "output_type": "execute_result",
          "data": {
            "text/plain": [
              "pandas.core.series.Series"
            ]
          },
          "metadata": {},
          "execution_count": 40
        }
      ]
    },
    {
      "cell_type": "code",
      "source": [
        "cities_by_accident[:20].plot(kind='barh')"
      ],
      "metadata": {
        "colab": {
          "base_uri": "https://localhost:8080/",
          "height": 282
        },
        "id": "GIXKXxjZDMzx",
        "outputId": "ebcdf69b-6954-43c7-9993-691eb0da1d1a"
      },
      "execution_count": null,
      "outputs": [
        {
          "output_type": "execute_result",
          "data": {
            "text/plain": [
              "<matplotlib.axes._subplots.AxesSubplot at 0x7effae6a4f50>"
            ]
          },
          "metadata": {},
          "execution_count": 41
        },
        {
          "output_type": "display_data",
          "data": {
            "image/png": "[encoded data removed]",
            "text/plain": [
              "<Figure size 432x288 with 1 Axes>"
            ]
          },
          "metadata": {
            "needs_background": "light"
          }
        }
      ]
    },
    {
      "cell_type": "code",
      "source": [
        "import seaborn as sns\n",
        "sns.set_style(\"darkgrid\")"
      ],
      "metadata": {
        "id": "4pv9Goa8DMuF"
      },
      "execution_count": null,
      "outputs": []
    },
    {
      "cell_type": "code",
      "source": [
        "sns.histplot(cities_by_accident, log_scale=True)"
      ],
      "metadata": {
        "colab": {
          "base_uri": "https://localhost:8080/",
          "height": 300
        },
        "id": "FIssdH96Mnzi",
        "outputId": "9f4ce076-bae9-466d-f035-4dd1a90f1af9"
      },
      "execution_count": null,
      "outputs": [
        {
          "output_type": "execute_result",
          "data": {
            "text/plain": [
              "<matplotlib.axes._subplots.AxesSubplot at 0x7eff9f67e590>"
            ]
          },
          "metadata": {},
          "execution_count": 50
        },
        {
          "output_type": "display_data",
          "data": {
            "image/png": "[encoded data removed]",
            "text/plain": [
              "<Figure size 432x288 with 1 Axes>"
            ]
          },
          "metadata": {}
        }
      ]
    },
    {
      "cell_type": "code",
      "source": [
        "cities_by_accident[cities_by_accident == 1]"
      ],
      "metadata": {
        "colab": {
          "base_uri": "https://localhost:8080/"
        },
        "id": "mXxNImuiKjLS",
        "outputId": "3244f2b6-5899-44e4-882b-a4f0bb9915b4"
      },
      "execution_count": null,
      "outputs": [
        {
          "output_type": "execute_result",
          "data": {
            "text/plain": [
              "South Paris                     1\n",
              "Aberdeen Proving Ground         1\n",
              "Rebecca                         1\n",
              "Hiltons                         1\n",
              "Jeanerette                      1\n",
              "                               ..\n",
              "Manzanita                       1\n",
              "West Brooklyn                   1\n",
              "Garfield Heights                1\n",
              "Belding                         1\n",
              "American Fork-Pleasant Grove    1\n",
              "Name: City, Length: 1167, dtype: int64"
            ]
          },
          "metadata": {},
          "execution_count": 49
        }
      ]
    },
    {
      "cell_type": "code",
      "source": [
        "high_accident_cities= cities_by_accident[cities_by_accident >= 1000]\n",
        "low_accident_cities= cities_by_accident[cities_by_accident<1000]"
      ],
      "metadata": {
        "id": "9UHL1mUkKjHq"
      },
      "execution_count": null,
      "outputs": []
    },
    {
      "cell_type": "code",
      "source": [
        "len(high_accident_cities)"
      ],
      "metadata": {
        "colab": {
          "base_uri": "https://localhost:8080/"
        },
        "id": "wLiyOl4PKjBR",
        "outputId": "9584d81d-e98f-4311-8992-086adfc025b0"
      },
      "execution_count": null,
      "outputs": [
        {
          "output_type": "execute_result",
          "data": {
            "text/plain": [
              "251"
            ]
          },
          "metadata": {},
          "execution_count": 52
        }
      ]
    },
    {
      "cell_type": "code",
      "source": [
        "sns.distplot(high_accident_cities)"
      ],
      "metadata": {
        "colab": {
          "base_uri": "https://localhost:8080/",
          "height": 351
        },
        "id": "iXNWly6fKi-3",
        "outputId": "5f866187-28d1-4b2b-cd51-351b70482704"
      },
      "execution_count": null,
      "outputs": [
        {
          "output_type": "stream",
          "name": "stderr",
          "text": [
            "/usr/local/lib/python3.7/dist-packages/seaborn/distributions.py:2619: FutureWarning: `distplot` is a deprecated function and will be removed in a future version. Please adapt your code to use either `displot` (a figure-level function with similar flexibility) or `histplot` (an axes-level function for histograms).\n",
            "  warnings.warn(msg, FutureWarning)\n"
          ]
        },
        {
          "output_type": "execute_result",
          "data": {
            "text/plain": [
              "<matplotlib.axes._subplots.AxesSubplot at 0x7eff9f334710>"
            ]
          },
          "metadata": {},
          "execution_count": 53
        },
        {
          "output_type": "display_data",
          "data": {
            "image/png": "[encoded data removed]",
            "text/plain": [
              "<Figure size 432x288 with 1 Axes>"
            ]
          },
          "metadata": {}
        }
      ]
    },
    {
      "cell_type": "code",
      "source": [
        "sns.distplot(low_accident_cities)"
      ],
      "metadata": {
        "colab": {
          "base_uri": "https://localhost:8080/",
          "height": 351
        },
        "id": "-OT_l4NwDMrW",
        "outputId": "f286137c-e3ac-48fd-81f5-7175cf85a4bd"
      },
      "execution_count": null,
      "outputs": [
        {
          "output_type": "stream",
          "name": "stderr",
          "text": [
            "/usr/local/lib/python3.7/dist-packages/seaborn/distributions.py:2619: FutureWarning: `distplot` is a deprecated function and will be removed in a future version. Please adapt your code to use either `displot` (a figure-level function with similar flexibility) or `histplot` (an axes-level function for histograms).\n",
            "  warnings.warn(msg, FutureWarning)\n"
          ]
        },
        {
          "output_type": "execute_result",
          "data": {
            "text/plain": [
              "<matplotlib.axes._subplots.AxesSubplot at 0x7eff9d219590>"
            ]
          },
          "metadata": {},
          "execution_count": 54
        },
        {
          "output_type": "display_data",
          "data": {
            "image/png": "[encoded data removed]",
            "text/plain": [
              "<Figure size 432x288 with 1 Axes>"
            ]
          },
          "metadata": {}
        }
      ]
    },
    {
      "cell_type": "markdown",
      "source": [
        "### Start Time"
      ],
      "metadata": {
        "id": "zS9ybfmhWxrr"
      }
    },
    {
      "cell_type": "code",
      "source": [
        "df.Start_Time"
      ],
      "metadata": {
        "colab": {
          "base_uri": "https://localhost:8080/"
        },
        "id": "_2G90B5DDMlE",
        "outputId": "8b2885ba-5d74-46ff-b5d0-73d72c7e43f3"
      },
      "execution_count": null,
      "outputs": [
        {
          "output_type": "execute_result",
          "data": {
            "text/plain": [
              "0          2016-02-08 00:37:08\n",
              "1          2016-02-08 05:56:20\n",
              "2          2016-02-08 06:15:39\n",
              "3          2016-02-08 06:15:39\n",
              "4          2016-02-08 06:51:45\n",
              "                  ...         \n",
              "1516059    2019-08-23 18:03:25\n",
              "1516060    2019-08-23 19:11:30\n",
              "1516061    2019-08-23 19:00:21\n",
              "1516062    2019-08-23 19:00:21\n",
              "1516063    2019-08-23 18:52:06\n",
              "Name: Start_Time, Length: 1516064, dtype: object"
            ]
          },
          "metadata": {},
          "execution_count": 55
        }
      ]
    },
    {
      "cell_type": "code",
      "source": [
        "df.Start_Time[0]"
      ],
      "metadata": {
        "colab": {
          "base_uri": "https://localhost:8080/",
          "height": 35
        },
        "id": "zZtr2jCGDMfz",
        "outputId": "550bc00a-8304-4bab-fd76-76878c17ccfc"
      },
      "execution_count": null,
      "outputs": [
        {
          "output_type": "execute_result",
          "data": {
            "application/vnd.google.colaboratory.intrinsic+json": {
              "type": "string"
            },
            "text/plain": [
              "'2016-02-08 00:37:08'"
            ]
          },
          "metadata": {},
          "execution_count": 56
        }
      ]
    },
    {
      "cell_type": "code",
      "source": [
        "df.Start_Time = pd.to_datetime(df.Start_Time)"
      ],
      "metadata": {
        "id": "SKSMltbVW_3F"
      },
      "execution_count": null,
      "outputs": []
    },
    {
      "cell_type": "code",
      "source": [
        "df.Start_Time.dt.hour"
      ],
      "metadata": {
        "colab": {
          "base_uri": "https://localhost:8080/"
        },
        "id": "bQo7ERHUW_xI",
        "outputId": "5986fd24-c162-4325-f2ee-44ea397efe61"
      },
      "execution_count": null,
      "outputs": [
        {
          "output_type": "execute_result",
          "data": {
            "text/plain": [
              "0           0\n",
              "1           5\n",
              "2           6\n",
              "3           6\n",
              "4           6\n",
              "           ..\n",
              "1516059    18\n",
              "1516060    19\n",
              "1516061    19\n",
              "1516062    19\n",
              "1516063    18\n",
              "Name: Start_Time, Length: 1516064, dtype: int64"
            ]
          },
          "metadata": {},
          "execution_count": 61
        }
      ]
    },
    {
      "cell_type": "markdown",
      "source": [
        "- Figure out how to show percentages"
      ],
      "metadata": {
        "id": "gQLQFlleZ294"
      }
    },
    {
      "cell_type": "code",
      "source": [
        "sns.distplot(df.Start_Time.dt.hour, bins=24, kde=False, norm_hist=True)"
      ],
      "metadata": {
        "colab": {
          "base_uri": "https://localhost:8080/",
          "height": 352
        },
        "id": "pCPPjxnGW_nl",
        "outputId": "63abb97c-1e43-49d6-9dc5-32ed0bf01430"
      },
      "execution_count": null,
      "outputs": [
        {
          "output_type": "stream",
          "name": "stderr",
          "text": [
            "/usr/local/lib/python3.7/dist-packages/seaborn/distributions.py:2619: FutureWarning: `distplot` is a deprecated function and will be removed in a future version. Please adapt your code to use either `displot` (a figure-level function with similar flexibility) or `histplot` (an axes-level function for histograms).\n",
            "  warnings.warn(msg, FutureWarning)\n"
          ]
        },
        {
          "output_type": "execute_result",
          "data": {
            "text/plain": [
              "<matplotlib.axes._subplots.AxesSubplot at 0x7eff9a96e410>"
            ]
          },
          "metadata": {},
          "execution_count": 63
        },
        {
          "output_type": "display_data",
          "data": {
            "image/png": "[encoded data removed]",
            "text/plain": [
              "<Figure size 432x288 with 1 Axes>"
            ]
          },
          "metadata": {}
        }
      ]
    },
    {
      "cell_type": "markdown",
      "source": [
        "- A high percentage of accidents occur between 4 pm to 6 pm (probably people in a hurry)\n",
        "- Next higest percentage is 2 pm to 4 pm."
      ],
      "metadata": {
        "id": "SgVekT2MZ6g8"
      }
    },
    {
      "cell_type": "code",
      "source": [
        "sns.distplot(df.Start_Time.dt.dayofweek, bins=7, kde=False, norm_hist=True)"
      ],
      "metadata": {
        "colab": {
          "base_uri": "https://localhost:8080/",
          "height": 352
        },
        "id": "j0SOBPhdW_km",
        "outputId": "065c47a9-c04c-450f-b889-9453300c2ad9"
      },
      "execution_count": null,
      "outputs": [
        {
          "output_type": "stream",
          "name": "stderr",
          "text": [
            "/usr/local/lib/python3.7/dist-packages/seaborn/distributions.py:2619: FutureWarning: `distplot` is a deprecated function and will be removed in a future version. Please adapt your code to use either `displot` (a figure-level function with similar flexibility) or `histplot` (an axes-level function for histograms).\n",
            "  warnings.warn(msg, FutureWarning)\n"
          ]
        },
        {
          "output_type": "execute_result",
          "data": {
            "text/plain": [
              "<matplotlib.axes._subplots.AxesSubplot at 0x7eff9f692ed0>"
            ]
          },
          "metadata": {},
          "execution_count": 64
        },
        {
          "output_type": "display_data",
          "data": {
            "image/png": "[encoded data removed]",
            "text/plain": [
              "<Figure size 432x288 with 1 Axes>"
            ]
          },
          "metadata": {}
        }
      ]
    },
    {
      "cell_type": "markdown",
      "source": [
        "Is the distribution of accidents by hour the same on weekends as on weekdays."
      ],
      "metadata": {
        "id": "lMWe6CXbbItQ"
      }
    },
    {
      "cell_type": "code",
      "source": [
        "df.Start_Time[df.Start_Time.dt.dayofweek == 6]"
      ],
      "metadata": {
        "colab": {
          "base_uri": "https://localhost:8080/"
        },
        "id": "jTfwU6VVbiSi",
        "outputId": "51d9afa4-9430-4b83-d76d-348d6037104d"
      },
      "execution_count": null,
      "outputs": [
        {
          "output_type": "execute_result",
          "data": {
            "text/plain": [
              "158       2016-02-14 03:58:33\n",
              "159       2016-02-14 05:26:58\n",
              "160       2016-02-14 16:30:40\n",
              "161       2016-02-14 16:38:40\n",
              "162       2016-02-14 17:40:17\n",
              "                  ...        \n",
              "1513810   2019-08-18 22:48:14\n",
              "1513811   2019-08-18 23:24:10\n",
              "1513925   2019-08-18 22:56:56\n",
              "1513926   2019-08-18 22:56:56\n",
              "1513965   2019-08-18 22:54:41\n",
              "Name: Start_Time, Length: 123775, dtype: datetime64[ns]"
            ]
          },
          "metadata": {},
          "execution_count": 67
        }
      ]
    },
    {
      "cell_type": "code",
      "source": [
        "sundays_start_time = df.Start_Time[df.Start_Time.dt.dayofweek == 6]\n",
        "sns.distplot(sundays_start_time.dt.hour, bins=24, kde=False, norm_hist=True)"
      ],
      "metadata": {
        "colab": {
          "base_uri": "https://localhost:8080/",
          "height": 352
        },
        "id": "uqoJAofTW_eA",
        "outputId": "b3ddc63f-82c9-4c72-e97e-a05f2df32f3b"
      },
      "execution_count": null,
      "outputs": [
        {
          "output_type": "stream",
          "name": "stderr",
          "text": [
            "/usr/local/lib/python3.7/dist-packages/seaborn/distributions.py:2619: FutureWarning: `distplot` is a deprecated function and will be removed in a future version. Please adapt your code to use either `displot` (a figure-level function with similar flexibility) or `histplot` (an axes-level function for histograms).\n",
            "  warnings.warn(msg, FutureWarning)\n"
          ]
        },
        {
          "output_type": "execute_result",
          "data": {
            "text/plain": [
              "<matplotlib.axes._subplots.AxesSubplot at 0x7eff9a888b50>"
            ]
          },
          "metadata": {},
          "execution_count": 65
        },
        {
          "output_type": "display_data",
          "data": {
            "image/png": "[encoded data removed]",
            "text/plain": [
              "<Figure size 432x288 with 1 Axes>"
            ]
          },
          "metadata": {}
        }
      ]
    },
    {
      "cell_type": "markdown",
      "source": [
        ""
      ],
      "metadata": {
        "id": "g-Tt9Wrvb0bm"
      }
    },
    {
      "cell_type": "code",
      "source": [
        "monday_start_time = df.Start_Time[df.Start_Time.dt.dayofweek == 0]\n",
        "sns.distplot(monday_start_time.dt.hour, bins=24, kde=False, norm_hist=True)"
      ],
      "metadata": {
        "colab": {
          "base_uri": "https://localhost:8080/",
          "height": 354
        },
        "id": "WyHlwobmW_bJ",
        "outputId": "31c88c2c-67a8-4915-c8e2-3427dbcbace0"
      },
      "execution_count": null,
      "outputs": [
        {
          "output_type": "stream",
          "name": "stderr",
          "text": [
            "/usr/local/lib/python3.7/dist-packages/seaborn/distributions.py:2619: FutureWarning: `distplot` is a deprecated function and will be removed in a future version. Please adapt your code to use either `displot` (a figure-level function with similar flexibility) or `histplot` (an axes-level function for histograms).\n",
            "  warnings.warn(msg, FutureWarning)\n"
          ]
        },
        {
          "output_type": "execute_result",
          "data": {
            "text/plain": [
              "<matplotlib.axes._subplots.AxesSubplot at 0x7eff9a75fc50>"
            ]
          },
          "metadata": {},
          "execution_count": 68
        },
        {
          "output_type": "display_data",
          "data": {
            "image/png": "[encoded data removed]",
            "text/plain": [
              "<Figure size 432x288 with 1 Axes>"
            ]
          },
          "metadata": {}
        }
      ]
    },
    {
      "cell_type": "markdown",
      "source": [
        "On Sundays, the peak occurs between 12 am and 3 am and 5 pm to 11 pm, unlike weekdays"
      ],
      "metadata": {
        "id": "BoBCpAgpcmZL"
      }
    },
    {
      "cell_type": "code",
      "source": [
        "sns.distplot(monday_start_time.dt.month, bins=12, kde=False, norm_hist=True)"
      ],
      "metadata": {
        "colab": {
          "base_uri": "https://localhost:8080/",
          "height": 352
        },
        "id": "eVmvyku4DMOo",
        "outputId": "b9354b98-5975-4367-a7f5-99923d9d03ab"
      },
      "execution_count": null,
      "outputs": [
        {
          "output_type": "stream",
          "name": "stderr",
          "text": [
            "/usr/local/lib/python3.7/dist-packages/seaborn/distributions.py:2619: FutureWarning: `distplot` is a deprecated function and will be removed in a future version. Please adapt your code to use either `displot` (a figure-level function with similar flexibility) or `histplot` (an axes-level function for histograms).\n",
            "  warnings.warn(msg, FutureWarning)\n"
          ]
        },
        {
          "output_type": "execute_result",
          "data": {
            "text/plain": [
              "<matplotlib.axes._subplots.AxesSubplot at 0x7eff9f679fd0>"
            ]
          },
          "metadata": {},
          "execution_count": 77
        },
        {
          "output_type": "display_data",
          "data": {
            "image/png": "[encoded data removed]",
            "text/plain": [
              "<Figure size 432x288 with 1 Axes>"
            ]
          },
          "metadata": {}
        }
      ]
    },
    {
      "cell_type": "code",
      "source": [
        "df_2019 = df[df.Start_Time.dt.year == 2019]\n",
        "sns.distplot(df_2019.Start_Time.dt.month, bins=12, kde=False, norm_hist=True)"
      ],
      "metadata": {
        "colab": {
          "base_uri": "https://localhost:8080/",
          "height": 352
        },
        "id": "Ragi3WQcLTKq",
        "outputId": "85c29523-95be-4774-9d86-5b71db054268"
      },
      "execution_count": null,
      "outputs": [
        {
          "output_type": "stream",
          "name": "stderr",
          "text": [
            "/usr/local/lib/python3.7/dist-packages/seaborn/distributions.py:2619: FutureWarning: `distplot` is a deprecated function and will be removed in a future version. Please adapt your code to use either `displot` (a figure-level function with similar flexibility) or `histplot` (an axes-level function for histograms).\n",
            "  warnings.warn(msg, FutureWarning)\n"
          ]
        },
        {
          "output_type": "execute_result",
          "data": {
            "text/plain": [
              "<matplotlib.axes._subplots.AxesSubplot at 0x7eff9a51ba50>"
            ]
          },
          "metadata": {},
          "execution_count": 80
        },
        {
          "output_type": "display_data",
          "data": {
            "image/png": "[encoded data removed]",
            "text/plain": [
              "<Figure size 432x288 with 1 Axes>"
            ]
          },
          "metadata": {}
        }
      ]
    },
    {
      "cell_type": "markdown",
      "source": [
        "### Start Latitude & Longitude"
      ],
      "metadata": {
        "id": "H9g4hvdqhLgs"
      }
    },
    {
      "cell_type": "code",
      "source": [
        "df.Start_Lat"
      ],
      "metadata": {
        "colab": {
          "base_uri": "https://localhost:8080/"
        },
        "id": "5zOj3OGRf9Oe",
        "outputId": "204632c9-2633-4377-d637-6c14355c572f"
      },
      "execution_count": null,
      "outputs": [
        {
          "output_type": "execute_result",
          "data": {
            "text/plain": [
              "0          40.10891\n",
              "1          39.86542\n",
              "2          39.10266\n",
              "3          39.10148\n",
              "4          41.06213\n",
              "             ...   \n",
              "1516059    34.00248\n",
              "1516060    32.76696\n",
              "1516061    33.77545\n",
              "1516062    33.99246\n",
              "1516063    34.13393\n",
              "Name: Start_Lat, Length: 1516064, dtype: float64"
            ]
          },
          "metadata": {},
          "execution_count": 84
        }
      ]
    },
    {
      "cell_type": "code",
      "source": [
        "df.Start_Lng"
      ],
      "metadata": {
        "colab": {
          "base_uri": "https://localhost:8080/"
        },
        "id": "pB2qV71Vf9FA",
        "outputId": "373b0dc8-1fc6-46e9-a1ac-82d8853a8905"
      },
      "execution_count": null,
      "outputs": [
        {
          "output_type": "execute_result",
          "data": {
            "text/plain": [
              "0          -83.09286\n",
              "1          -84.06280\n",
              "2          -84.52468\n",
              "3          -84.52341\n",
              "4          -81.53784\n",
              "             ...    \n",
              "1516059   -117.37936\n",
              "1516060   -117.14806\n",
              "1516061   -117.84779\n",
              "1516062   -118.40302\n",
              "1516063   -117.23092\n",
              "Name: Start_Lng, Length: 1516064, dtype: float64"
            ]
          },
          "metadata": {},
          "execution_count": 85
        }
      ]
    },
    {
      "cell_type": "code",
      "source": [
        "sample_df = df.sample(int(0.1 * len(df)))"
      ],
      "metadata": {
        "id": "pX2KHKbzf884"
      },
      "execution_count": null,
      "outputs": []
    },
    {
      "cell_type": "code",
      "source": [
        "sns.scatterplot(x=sample_df.Start_Lng, y=sample_df.Start_Lat, size=0.001)"
      ],
      "metadata": {
        "colab": {
          "base_uri": "https://localhost:8080/",
          "height": 300
        },
        "id": "0XIJhmmIf85L",
        "outputId": "f5edfb89-3271-4051-b6cd-04e37e40365e"
      },
      "execution_count": null,
      "outputs": [
        {
          "output_type": "execute_result",
          "data": {
            "text/plain": [
              "<matplotlib.axes._subplots.AxesSubplot at 0x7eff9a497a10>"
            ]
          },
          "metadata": {},
          "execution_count": 87
        },
        {
          "output_type": "display_data",
          "data": {
            "image/png": "[encoded data removed]",
            "text/plain": [
              "<Figure size 432x288 with 1 Axes>"
            ]
          },
          "metadata": {}
        }
      ]
    },
    {
      "cell_type": "code",
      "source": [
        "import folium"
      ],
      "metadata": {
        "id": "r8ig8qNTf8y7"
      },
      "execution_count": null,
      "outputs": []
    },
    {
      "cell_type": "code",
      "source": [
        "lat, lon = df.Start_Lat[0], df.Start_Lng[0]\n",
        "lat, lon"
      ],
      "metadata": {
        "colab": {
          "base_uri": "https://localhost:8080/"
        },
        "id": "n0mZQkPsf8v4",
        "outputId": "3fa12da4-780e-45aa-e24c-b2fabca920cc"
      },
      "execution_count": null,
      "outputs": [
        {
          "output_type": "execute_result",
          "data": {
            "text/plain": [
              "(40.10891, -83.09286)"
            ]
          },
          "metadata": {},
          "execution_count": 89
        }
      ]
    },
    {
      "cell_type": "code",
      "source": [
        "folium.Map( location=[40.10891, -83.09286], zoom_start=12 )"
      ],
      "metadata": {
        "colab": {
          "base_uri": "https://localhost:8080/",
          "height": 583
        },
        "id": "mzLYJDDqj7Zu",
        "outputId": "7a08426c-18d5-4d95-f932-bf1cc04bd7e0"
      },
      "execution_count": null,
      "outputs": [
        {
          "output_type": "execute_result",
          "data": {
            "text/html": [
              "<div style=\"width:100%;\"><div style=\"position:relative;width:100%;height:0;padding-bottom:60%;\"><span style=\"color:#565656\">Make this Notebook Trusted to load map: File -> Trust Notebook</span><iframe src=\"about:blank\" style=\"position:absolute;width:100%;height:100%;left:0;top:0;border:none !important;\" data-html=%3C%21DOCTYPE%20html%3E%0A%3Chead%3E%20%20%20%20%0A%20%20%20%20%3Cmeta%20http-equiv%3D%22content-type%22%20content%3D%22text/html%3B%20charset%3DUTF-8%22%20/%3E%0A%20%20%20%20%3Cscript%3EL_PREFER_CANVAS%3Dfalse%3B%20L_NO_TOUCH%3Dfalse%3B%20L_DISABLE_3D%3Dfalse%3B%3C/script%3E%0A%20%20%20%20%3Cscript%20src%3D%22https%3A//cdn.jsdelivr.net/npm/leaflet%401.4.0/dist/leaflet.js%22%3E%3C/script%3E%0A%20%20%20%20%3Cscript%20src%3D%22https%3A//code.jquery.com/jquery-1.12.4.min.js%22%3E%3C/script%3E%0A%20%20%20%20%3Cscript%20src%3D%22https%3A//maxcdn.bootstrapcdn.com/bootstrap/3.2.0/js/bootstrap.min.js%22%3E%3C/script%3E%0A%20%20%20%20%3Cscript%20src%3D%22https%3A//cdnjs.cloudflare.com/ajax/libs/Leaflet.awesome-markers/2.0.2/leaflet.awesome-markers.js%22%3E%3C/script%3E%0A%20%20%20%20%3Clink%20rel%3D%22stylesheet%22%20href%3D%22https%3A//cdn.jsdelivr.net/npm/leaflet%401.4.0/dist/leaflet.css%22/%3E%0A%20%20%20%20%3Clink%20rel%3D%22stylesheet%22%20href%3D%22https%3A//maxcdn.bootstrapcdn.com/bootstrap/3.2.0/css/bootstrap.min.css%22/%3E%0A%20%20%20%20%3Clink%20rel%3D%22stylesheet%22%20href%3D%22https%3A//maxcdn.bootstrapcdn.com/bootstrap/3.2.0/css/bootstrap-theme.min.css%22/%3E%0A%20%20%20%20%3Clink%20rel%3D%22stylesheet%22%20href%3D%22https%3A//maxcdn.bootstrapcdn.com/font-awesome/4.6.3/css/font-awesome.min.css%22/%3E%0A%20%20%20%20%3Clink%20rel%3D%22stylesheet%22%20href%3D%22https%3A//cdnjs.cloudflare.com/ajax/libs/Leaflet.awesome-markers/2.0.2/leaflet.awesome-markers.css%22/%3E%0A%20%20%20%20%3Clink%20rel%3D%22stylesheet%22%20href%3D%22https%3A//rawcdn.githack.com/python-visualization/folium/master/folium/templates/leaflet.awesome.rotate.css%22/%3E%0A%20%20%20%20%3Cstyle%3Ehtml%2C%20body%20%7Bwidth%3A%20100%25%3Bheight%3A%20100%25%3Bmargin%3A%200%3Bpadding%3A%200%3B%7D%3C/style%3E%0A%20%20%20%20%3Cstyle%3E%23map%20%7Bposition%3Aabsolute%3Btop%3A0%3Bbottom%3A0%3Bright%3A0%3Bleft%3A0%3B%7D%3C/style%3E%0A%20%20%20%20%0A%20%20%20%20%3Cmeta%20name%3D%22viewport%22%20content%3D%22width%3Ddevice-width%2C%0A%20%20%20%20%20%20%20%20initial-scale%3D1.0%2C%20maximum-scale%3D1.0%2C%20user-scalable%3Dno%22%20/%3E%0A%20%20%20%20%3Cstyle%3E%23map_ed7be9124bd44cb1939667057941af95%20%7B%0A%20%20%20%20%20%20%20%20position%3A%20relative%3B%0A%20%20%20%20%20%20%20%20width%3A%20100.0%25%3B%0A%20%20%20%20%20%20%20%20height%3A%20100.0%25%3B%0A%20%20%20%20%20%20%20%20left%3A%200.0%25%3B%0A%20%20%20%20%20%20%20%20top%3A%200.0%25%3B%0A%20%20%20%20%20%20%20%20%7D%0A%20%20%20%20%3C/style%3E%0A%3C/head%3E%0A%3Cbody%3E%20%20%20%20%0A%20%20%20%20%0A%20%20%20%20%3Cdiv%20class%3D%22folium-map%22%20id%3D%22map_ed7be9124bd44cb1939667057941af95%22%20%3E%3C/div%3E%0A%3C/body%3E%0A%3Cscript%3E%20%20%20%20%0A%20%20%20%20%0A%20%20%20%20%0A%20%20%20%20%20%20%20%20var%20bounds%20%3D%20null%3B%0A%20%20%20%20%0A%0A%20%20%20%20var%20map_ed7be9124bd44cb1939667057941af95%20%3D%20L.map%28%0A%20%20%20%20%20%20%20%20%27map_ed7be9124bd44cb1939667057941af95%27%2C%20%7B%0A%20%20%20%20%20%20%20%20center%3A%20%5B40.10891%2C%20-83.09286%5D%2C%0A%20%20%20%20%20%20%20%20zoom%3A%2012%2C%0A%20%20%20%20%20%20%20%20maxBounds%3A%20bounds%2C%0A%20%20%20%20%20%20%20%20layers%3A%20%5B%5D%2C%0A%20%20%20%20%20%20%20%20worldCopyJump%3A%20false%2C%0A%20%20%20%20%20%20%20%20crs%3A%20L.CRS.EPSG3857%2C%0A%20%20%20%20%20%20%20%20zoomControl%3A%20true%2C%0A%20%20%20%20%20%20%20%20%7D%29%3B%0A%0A%0A%20%20%20%20%0A%20%20%20%20var%20tile_layer_4e16413a6a5642ecaf684b868ea0882d%20%3D%20L.tileLayer%28%0A%20%20%20%20%20%20%20%20%27https%3A//%7Bs%7D.tile.openstreetmap.org/%7Bz%7D/%7Bx%7D/%7By%7D.png%27%2C%0A%20%20%20%20%20%20%20%20%7B%0A%20%20%20%20%20%20%20%20%22attribution%22%3A%20null%2C%0A%20%20%20%20%20%20%20%20%22detectRetina%22%3A%20false%2C%0A%20%20%20%20%20%20%20%20%22maxNativeZoom%22%3A%2018%2C%0A%20%20%20%20%20%20%20%20%22maxZoom%22%3A%2018%2C%0A%20%20%20%20%20%20%20%20%22minZoom%22%3A%200%2C%0A%20%20%20%20%20%20%20%20%22noWrap%22%3A%20false%2C%0A%20%20%20%20%20%20%20%20%22opacity%22%3A%201%2C%0A%20%20%20%20%20%20%20%20%22subdomains%22%3A%20%22abc%22%2C%0A%20%20%20%20%20%20%20%20%22tms%22%3A%20false%0A%7D%29.addTo%28map_ed7be9124bd44cb1939667057941af95%29%3B%0A%3C/script%3E onload=\"this.contentDocument.open();this.contentDocument.write(    decodeURIComponent(this.getAttribute('data-html')));this.contentDocument.close();\" allowfullscreen webkitallowfullscreen mozallowfullscreen></iframe></div></div>"
            ],
            "text/plain": [
              "<folium.folium.Map at 0x7eff9a4ad910>"
            ]
          },
          "metadata": {},
          "execution_count": 96
        }
      ]
    },
    {
      "cell_type": "code",
      "source": [
        "for x in df[['Start_Lat', 'Start_Lng']].sample(100).iteritems():\n",
        "    print(x[1])"
      ],
      "metadata": {
        "colab": {
          "base_uri": "https://localhost:8080/"
        },
        "id": "XuwCyWBrLTEf",
        "outputId": "50afd654-80e5-451e-a1d9-833d34bed782"
      },
      "execution_count": null,
      "outputs": [
        {
          "output_type": "stream",
          "name": "stdout",
          "text": [
            "409745     30.429029\n",
            "1458877    45.579470\n",
            "306848     37.182980\n",
            "1438890    34.149839\n",
            "474171     42.967939\n",
            "             ...    \n",
            "1201646    39.725470\n",
            "1174481    40.781280\n",
            "1219042    40.641660\n",
            "1183567    43.542250\n",
            "680065     30.481744\n",
            "Name: Start_Lat, Length: 100, dtype: float64\n",
            "409745     -91.135872\n",
            "1458877   -122.678680\n",
            "306848     -93.340605\n",
            "1438890   -118.696341\n",
            "474171    -123.765365\n",
            "              ...    \n",
            "1201646   -105.118640\n",
            "1174481    -73.944100\n",
            "1219042    -73.876980\n",
            "1183567   -119.498516\n",
            "680065     -84.307020\n",
            "Name: Start_Lng, Length: 100, dtype: float64\n"
          ]
        }
      ]
    },
    {
      "cell_type": "code",
      "source": [
        "zip(list(df.Start_Lat), list(df.Start_Lng))"
      ],
      "metadata": {
        "colab": {
          "base_uri": "https://localhost:8080/"
        },
        "id": "hwcRSUwBLTB7",
        "outputId": "ba19d987-4b19-488a-fa0d-5f68b436c9b7"
      },
      "execution_count": null,
      "outputs": [
        {
          "output_type": "execute_result",
          "data": {
            "text/plain": [
              "<zip at 0x7eff956a0d70>"
            ]
          },
          "metadata": {},
          "execution_count": 91
        }
      ]
    },
    {
      "cell_type": "code",
      "source": [
        "from folium.plugins import HeatMap"
      ],
      "metadata": {
        "id": "Gx0_kXwjLS6B"
      },
      "execution_count": null,
      "outputs": []
    },
    {
      "cell_type": "code",
      "source": [
        "sample_df = df.sample(int(0.001 * len(df)))\n",
        "lat_lon_pairs = list(zip(list(sample_df.Start_Lat), list(sample_df.Start_Lng)))"
      ],
      "metadata": {
        "id": "-ph6Pt0aLS3C"
      },
      "execution_count": null,
      "outputs": []
    },
    {
      "cell_type": "code",
      "source": [
        "map = folium.Map()\n",
        "HeatMap(lat_lon_pairs).add_to(map)\n",
        "map"
      ],
      "metadata": {
        "colab": {
          "base_uri": "https://localhost:8080/",
          "height": 583
        },
        "id": "jq-DtkYuhzVd",
        "outputId": "0874313c-8541-4c50-8d8b-999b92ab7712"
      },
      "execution_count": null,
      "outputs": [
        {
          "output_type": "execute_result",
          "data": {
            "text/html": [
              "<div style=\"width:100%;\"><div style=\"position:relative;width:100%;height:0;padding-bottom:60%;\"><span style=\"color:#565656\">Make this Notebook Trusted to load map: File -> Trust Notebook</span><iframe src=\"about:blank\" style=\"position:absolute;width:100%;height:100%;left:0;top:0;border:none !important;\" data-html=%3C%21DOCTYPE%20html%3E%0A%3Chead%3E%20%20%20%20%0A%20%20%20%20%3Cmeta%20http-equiv%3D%22content-type%22%20content%3D%22text/html%3B%20charset%3DUTF-8%22%20/%3E%0A%20%20%20%20%3Cscript%3EL_PREFER_CANVAS%3Dfalse%3B%20L_NO_TOUCH%3Dfalse%3B%20L_DISABLE_3D%3Dfalse%3B%3C/script%3E%0A%20%20%20%20%3Cscript%20src%3D%22https%3A//cdn.jsdelivr.net/npm/leaflet%401.4.0/dist/leaflet.js%22%3E%3C/script%3E%0A%20%20%20%20%3Cscript%20src%3D%22https%3A//code.jquery.com/jquery-1.12.4.min.js%22%3E%3C/script%3E%0A%20%20%20%20%3Cscript%20src%3D%22https%3A//maxcdn.bootstrapcdn.com/bootstrap/3.2.0/js/bootstrap.min.js%22%3E%3C/script%3E%0A%20%20%20%20%3Cscript%20src%3D%22https%3A//cdnjs.cloudflare.com/ajax/libs/Leaflet.awesome-markers/2.0.2/leaflet.awesome-markers.js%22%3E%3C/script%3E%0A%20%20%20%20%3Clink%20rel%3D%22stylesheet%22%20href%3D%22https%3A//cdn.jsdelivr.net/npm/leaflet%401.4.0/dist/leaflet.css%22/%3E%0A%20%20%20%20%3Clink%20rel%3D%22stylesheet%22%20href%3D%22https%3A//maxcdn.bootstrapcdn.com/bootstrap/3.2.0/css/bootstrap.min.css%22/%3E%0A%20%20%20%20%3Clink%20rel%3D%22stylesheet%22%20href%3D%22https%3A//maxcdn.bootstrapcdn.com/bootstrap/3.2.0/css/bootstrap-theme.min.css%22/%3E%0A%20%20%20%20%3Clink%20rel%3D%22stylesheet%22%20href%3D%22https%3A//maxcdn.bootstrapcdn.com/font-awesome/4.6.3/css/font-awesome.min.css%22/%3E%0A%20%20%20%20%3Clink%20rel%3D%22stylesheet%22%20href%3D%22https%3A//cdnjs.cloudflare.com/ajax/libs/Leaflet.awesome-markers/2.0.2/leaflet.awesome-markers.css%22/%3E%0A%20%20%20%20%3Clink%20rel%3D%22stylesheet%22%20href%3D%22https%3A//rawcdn.githack.com/python-visualization/folium/master/folium/templates/leaflet.awesome.rotate.css%22/%3E%0A%20%20%20%20%3Cstyle%3Ehtml%2C%20body%20%7Bwidth%3A%20100%25%3Bheight%3A%20100%25%3Bmargin%3A%200%3Bpadding%3A%200%3B%7D%3C/style%3E%0A%20%20%20%20%3Cstyle%3E%23map%20%7Bposition%3Aabsolute%3Btop%3A0%3Bbottom%3A0%3Bright%3A0%3Bleft%3A0%3B%7D%3C/style%3E%0A%20%20%20%20%0A%20%20%20%20%3Cmeta%20name%3D%22viewport%22%20content%3D%22width%3Ddevice-width%2C%0A%20%20%20%20%20%20%20%20initial-scale%3D1.0%2C%20maximum-scale%3D1.0%2C%20user-scalable%3Dno%22%20/%3E%0A%20%20%20%20%3Cstyle%3E%23map_c17ccb130f994072bbb0e85d0d94a52b%20%7B%0A%20%20%20%20%20%20%20%20position%3A%20relative%3B%0A%20%20%20%20%20%20%20%20width%3A%20100.0%25%3B%0A%20%20%20%20%20%20%20%20height%3A%20100.0%25%3B%0A%20%20%20%20%20%20%20%20left%3A%200.0%25%3B%0A%20%20%20%20%20%20%20%20top%3A%200.0%25%3B%0A%20%20%20%20%20%20%20%20%7D%0A%20%20%20%20%3C/style%3E%0A%20%20%20%20%3Cscript%20src%3D%22https%3A//leaflet.github.io/Leaflet.heat/dist/leaflet-heat.js%22%3E%3C/script%3E%0A%3C/head%3E%0A%3Cbody%3E%20%20%20%20%0A%20%20%20%20%0A%20%20%20%20%3Cdiv%20class%3D%22folium-map%22%20id%3D%22map_c17ccb130f994072bbb0e85d0d94a52b%22%20%3E%3C/div%3E%0A%3C/body%3E%0A%3Cscript%3E%20%20%20%20%0A%20%20%20%20%0A%20%20%20%20%0A%20%20%20%20%20%20%20%20var%20bounds%20%3D%20null%3B%0A%20%20%20%20%0A%0A%20%20%20%20var%20map_c17ccb130f994072bbb0e85d0d94a52b%20%3D%20L.map%28%0A%20%20%20%20%20%20%20%20%27map_c17ccb130f994072bbb0e85d0d94a52b%27%2C%20%7B%0A%20%20%20%20%20%20%20%20center%3A%20%5B0%2C%200%5D%2C%0A%20%20%20%20%20%20%20%20zoom%3A%201%2C%0A%20%20%20%20%20%20%20%20maxBounds%3A%20bounds%2C%0A%20%20%20%20%20%20%20%20layers%3A%20%5B%5D%2C%0A%20%20%20%20%20%20%20%20worldCopyJump%3A%20false%2C%0A%20%20%20%20%20%20%20%20crs%3A%20L.CRS.EPSG3857%2C%0A%20%20%20%20%20%20%20%20zoomControl%3A%20true%2C%0A%20%20%20%20%20%20%20%20%7D%29%3B%0A%0A%0A%20%20%20%20%0A%20%20%20%20var%20tile_layer_bcbb385775964b6bba466a1d889127d5%20%3D%20L.tileLayer%28%0A%20%20%20%20%20%20%20%20%27https%3A//%7Bs%7D.tile.openstreetmap.org/%7Bz%7D/%7Bx%7D/%7By%7D.png%27%2C%0A%20%20%20%20%20%20%20%20%7B%0A%20%20%20%20%20%20%20%20%22attribution%22%3A%20null%2C%0A%20%20%20%20%20%20%20%20%22detectRetina%22%3A%20false%2C%0A%20%20%20%20%20%20%20%20%22maxNativeZoom%22%3A%2018%2C%0A%20%20%20%20%20%20%20%20%22maxZoom%22%3A%2018%2C%0A%20%20%20%20%20%20%20%20%22minZoom%22%3A%200%2C%0A%20%20%20%20%20%20%20%20%22noWrap%22%3A%20false%2C%0A%20%20%20%20%20%20%20%20%22opacity%22%3A%201%2C%0A%20%20%20%20%20%20%20%20%22subdomains%22%3A%20%22abc%22%2C%0A%20%20%20%20%20%20%20%20%22tms%22%3A%20false%0A%7D%29.addTo%28map_c17ccb130f994072bbb0e85d0d94a52b%29%3B%0A%20%20%20%20%0A%20%20%20%20%20%20%20%20%20%20%20%20var%20heat_map_245a4d1ca4944f19b75064772ffa644c%20%3D%20L.heatLayer%28%0A%20%20%20%20%20%20%20%20%20%20%20%20%20%20%20%20%5B%5B33.75835%2C%20-84.49387%5D%2C%20%5B28.338919%2C%20-81.409591%5D%2C%20%5B34.018792%2C%20-118.423486%5D%2C%20%5B36.961107%2C%20-76.411599%5D%2C%20%5B38.93906%2C%20-77.13345%5D%2C%20%5B35.77611%2C%20-78.55564%5D%2C%20%5B38.554453%2C%20-121.372362%5D%2C%20%5B43.222697%2C%20-77.387273%5D%2C%20%5B28.362943%2C%20-81.427542%5D%2C%20%5B45.754162%2C%20-118.051557%5D%2C%20%5B41.81663%2C%20-88.16825%5D%2C%20%5B32.77478%2C%20-96.7788%5D%2C%20%5B34.126869%2C%20-118.475051%5D%2C%20%5B34.00202%2C%20-117.834878%5D%2C%20%5B37.33448%2C%20-122.03655%5D%2C%20%5B37.40328%2C%20-122.04709%5D%2C%20%5B42.15365%2C%20-88.01783%5D%2C%20%5B40.70916%2C%20-74.24978%5D%2C%20%5B33.327731%2C%20-84.509968%5D%2C%20%5B26.13501%2C%20-80.16923%5D%2C%20%5B33.4409%2C%20-84.73968%5D%2C%20%5B36.75638%2C%20-121.66505%5D%2C%20%5B34.0689%2C%20-117.36489%5D%2C%20%5B30.32031%2C%20-81.6588%5D%2C%20%5B38.464171%2C%20-122.880025%5D%2C%20%5B33.968678%2C%20-81.309476%5D%2C%20%5B41.19654%2C%20-73.8072%5D%2C%20%5B40.711566%2C%20-74.244307%5D%2C%20%5B32.893513%2C%20-80.01844%5D%2C%20%5B37.434099%2C%20-77.609857%5D%2C%20%5B33.744624%2C%20-117.841576%5D%2C%20%5B27.258743%2C%20-80.419782%5D%2C%20%5B45.42435%2C%20-121.13811%5D%2C%20%5B45.511158%2C%20-122.56569%5D%2C%20%5B32.666789%2C%20-117.080101%5D%2C%20%5B28.596203%2C%20-81.465855%5D%2C%20%5B34.0687%2C%20-117.839494%5D%2C%20%5B34.281731%2C%20-118.685764%5D%2C%20%5B25.686089%2C%20-80.395911%5D%2C%20%5B35.950107%2C%20-78.518859%5D%2C%20%5B33.910586%2C%20-117.449432%5D%2C%20%5B32.83773%2C%20-97.09641%5D%2C%20%5B38.452636%2C%20-121.384674%5D%2C%20%5B33.974354%2C%20-118.226502%5D%2C%20%5B34.274664%2C%20-117.185521%5D%2C%20%5B38.54467%2C%20-121.47399%5D%2C%20%5B33.665374%2C%20-117.872181%5D%2C%20%5B44.123338%2C%20-122.403412%5D%2C%20%5B26.70667%2C%20-80.28181%5D%2C%20%5B34.820512%2C%20-81.033021%5D%2C%20%5B40.185229%2C%20-75.227809%5D%2C%20%5B35.694767%2C%20-79.385003%5D%2C%20%5B34.091908%2C%20-117.991346%5D%2C%20%5B34.16108%2C%20-118.46961%5D%2C%20%5B25.628432%2C%20-80.35807%5D%2C%20%5B33.48399%2C%20-86.7844%5D%2C%20%5B33.854437%2C%20-117.79064%5D%2C%20%5B39.08985%2C%20-77.17512%5D%2C%20%5B39.89055%2C%20-82.96792%5D%2C%20%5B29.806245%2C%20-95.569874%5D%2C%20%5B47.79396%2C%20-122.212239%5D%2C%20%5B41.30134%2C%20-74.13402%5D%2C%20%5B35.08261%2C%20-89.87843%5D%2C%20%5B44.42455%2C%20-121.816278%5D%2C%20%5B45.3595%2C%20-122.61501%5D%2C%20%5B29.57867%2C%20-98.342735%5D%2C%20%5B45.096453%2C%20-122.901469%5D%2C%20%5B34.019441%2C%20-118.141485%5D%2C%20%5B37.96079%2C%20-122.05322%5D%2C%20%5B39.02464%2C%20-94.69139%5D%2C%20%5B33.898624%2C%20-117.47653%5D%2C%20%5B34.13424%2C%20-117.353164%5D%2C%20%5B44.96467%2C%20-93.22964%5D%2C%20%5B25.541681%2C%20-80.368931%5D%2C%20%5B37.96923%2C%20-121.24563%5D%2C%20%5B34.105524%2C%20-118.326919%5D%2C%20%5B33.678892%2C%20-84.316598%5D%2C%20%5B33.76741%2C%20-117.92027%5D%2C%20%5B34.964108%2C%20-80.853799%5D%2C%20%5B43.15408%2C%20-75.97339%5D%2C%20%5B38.105921%2C%20-121.701051%5D%2C%20%5B34.091908%2C%20-117.991346%5D%2C%20%5B37.65864%2C%20-77.45646%5D%2C%20%5B36.051229%2C%20-119.143087%5D%2C%20%5B42.31181%2C%20-71.052733%5D%2C%20%5B33.898334%2C%20-117.477053%5D%2C%20%5B40.853339%2C%20-85.872759%5D%2C%20%5B43.07705%2C%20-75.607486%5D%2C%20%5B27.332419%2C%20-80.414408%5D%2C%20%5B38.003464%2C%20-121.835484%5D%2C%20%5B29.3968%2C%20-81.15229%5D%2C%20%5B34.055856%2C%20-118.21426%5D%2C%20%5B39.21494%2C%20-84.74941%5D%2C%20%5B33.126653%2C%20-117.108406%5D%2C%20%5B26.20369%2C%20-80.143986%5D%2C%20%5B40.59292%2C%20-111.90218%5D%2C%20%5B38.010216%2C%20-78.480159%5D%2C%20%5B38.01936%2C%20-121.93743%5D%2C%20%5B37.51743%2C%20-77.46569%5D%2C%20%5B28.401674%2C%20-81.483173%5D%2C%20%5B39.727624%2C%20-86.046434%5D%2C%20%5B35.00633%2C%20-85.20756%5D%2C%20%5B47.20004%2C%20-122.46168%5D%2C%20%5B43.849625%2C%20-120.734321%5D%2C%20%5B47.652083%2C%20-117.396382%5D%2C%20%5B34.190713%2C%20-117.361028%5D%2C%20%5B33.992638%2C%20-117.15375%5D%2C%20%5B38.44905%2C%20-122.72591%5D%2C%20%5B36.830374%2C%20-76.19551%5D%2C%20%5B41.74245%2C%20-72.66277%5D%2C%20%5B25.701496%2C%20-80.414688%5D%2C%20%5B32.00624%2C%20-81.11631%5D%2C%20%5B42.37662%2C%20-83.21712%5D%2C%20%5B38.96191%2C%20-122.34186%5D%2C%20%5B34.083553%2C%20-118.298454%5D%2C%20%5B37.82282%2C%20-122.2613%5D%2C%20%5B33.92132%2C%20-118.281865%5D%2C%20%5B33.765958%2C%20-117.933368%5D%2C%20%5B26.481455%2C%20-81.839657%5D%2C%20%5B38.839864%2C%20-77.444806%5D%2C%20%5B26.040118%2C%20-80.163577%5D%2C%20%5B37.34235%2C%20-79.849155%5D%2C%20%5B42.73745%2C%20-71.14237%5D%2C%20%5B47.777773%2C%20-122.334578%5D%2C%20%5B34.579968%2C%20-117.88957%5D%2C%20%5B37.663322%2C%20-122.105616%5D%2C%20%5B33.482359%2C%20-81.760494%5D%2C%20%5B42.39405%2C%20-88.139217%5D%2C%20%5B40.53189%2C%20-76.42981%5D%2C%20%5B34.12133%2C%20-117.278125%5D%2C%20%5B34.139682%2C%20-80.964699%5D%2C%20%5B28.04601%2C%20-82.35189%5D%2C%20%5B33.752183%2C%20-117.846946%5D%2C%20%5B38.622661%2C%20-122.878292%5D%2C%20%5B37.518213%2C%20-120.88348%5D%2C%20%5B37.847743%2C%20-122.02778%5D%2C%20%5B27.388795%2C%20-82.532833%5D%2C%20%5B42.970916%2C%20-90.223481%5D%2C%20%5B33.73985%2C%20-117.83121%5D%2C%20%5B34.065181%2C%20-84.273601%5D%2C%20%5B37.720769%2C%20-121.655201%5D%2C%20%5B35.352255%2C%20-118.989669%5D%2C%20%5B40.06006%2C%20-83.03085%5D%2C%20%5B40.541342%2C%20-122.352158%5D%2C%20%5B36.715074%2C%20-81.929823%5D%2C%20%5B44.853839%2C%20-123.01203%5D%2C%20%5B38.404251%2C%20-78.905248%5D%2C%20%5B42.23984%2C%20-83.19891%5D%2C%20%5B43.84442%2C%20-93.03499%5D%2C%20%5B33.74328%2C%20-84.38342%5D%2C%20%5B32.808583%2C%20-96.818072%5D%2C%20%5B29.99871%2C%20-90.17717%5D%2C%20%5B41.909064%2C%20-87.928973%5D%2C%20%5B45.589373%2C%20-118.554621%5D%2C%20%5B47.66161%2C%20-122.37623%5D%2C%20%5B32.337221%2C%20-111.01589%5D%2C%20%5B43.1869%2C%20-77.70151%5D%2C%20%5B36.906412%2C%20-76.25562%5D%2C%20%5B42.35729%2C%20-123.33206%5D%2C%20%5B32.767443%2C%20-97.318592%5D%2C%20%5B40.85024%2C%20-73.94506%5D%2C%20%5B41.85757%2C%20-87.64439%5D%2C%20%5B40.429033%2C%20-79.956382%5D%2C%20%5B37.774365%2C%20-121.719963%5D%2C%20%5B40.6664%2C%20-73.80175%5D%2C%20%5B34.14832%2C%20-118.69788%5D%2C%20%5B33.904602%2C%20-84.48893%5D%2C%20%5B45.067023%2C%20-93.186045%5D%2C%20%5B33.67762%2C%20-117.75826%5D%2C%20%5B26.08522%2C%20-80.2034%5D%2C%20%5B43.12378%2C%20-75.58574%5D%2C%20%5B33.47491%2C%20-112.1132%5D%2C%20%5B43.11039%2C%20-121.81284%5D%2C%20%5B44.20973%2C%20-94.02602%5D%2C%20%5B39.64051%2C%20-105.17207%5D%2C%20%5B45.010579%2C%20-123.97796%5D%2C%20%5B27.422187%2C%20-82.575498%5D%2C%20%5B38.538259%2C%20-121.473646%5D%2C%20%5B38.94115%2C%20-94.85751%5D%2C%20%5B39.9467%2C%20-82.22232%5D%2C%20%5B39.28794%2C%20-78.08588%5D%2C%20%5B40.22542%2C%20-76.79196%5D%2C%20%5B39.955247%2C%20-76.750932%5D%2C%20%5B43.12639%2C%20-94.801602%5D%2C%20%5B38.80976%2C%20-77.44874%5D%2C%20%5B29.924633%2C%20-90.109861%5D%2C%20%5B26.17118%2C%20-80.157463%5D%2C%20%5B44.687724%2C%20-117.677345%5D%2C%20%5B38.193127%2C%20-121.407657%5D%2C%20%5B41.415878%2C%20-73.43319%5D%2C%20%5B26.622526%2C%20-81.86914%5D%2C%20%5B43.662741%2C%20-123.377733%5D%2C%20%5B25.78517%2C%20-80.24958%5D%2C%20%5B41.252015%2C%20-93.78074%5D%2C%20%5B45.69556%2C%20-121.34789%5D%2C%20%5B34.04012%2C%20-81.1139%5D%2C%20%5B40.27408%2C%20-104.98034%5D%2C%20%5B40.830148%2C%20-73.934945%5D%2C%20%5B34.12871%2C%20-117.93862%5D%2C%20%5B33.67833%2C%20-117.88094%5D%2C%20%5B34.34429%2C%20-118.50495%5D%2C%20%5B25.728743%2C%20-80.430194%5D%2C%20%5B43.909482%2C%20-69.929368%5D%2C%20%5B38.43348%2C%20-122.71602%5D%2C%20%5B48.530146%2C%20-122.14%5D%2C%20%5B38.076918%2C%20-79.085977%5D%2C%20%5B32.19189%2C%20-110.83984%5D%2C%20%5B33.912956%2C%20-118.17988%5D%2C%20%5B41.97177%2C%20-87.95911%5D%2C%20%5B33.939337%2C%20-117.185167%5D%2C%20%5B28.0242%2C%20-82.23949%5D%2C%20%5B45.0337%2C%20-122.73361%5D%2C%20%5B31.7272%2C%20-106.29981%5D%2C%20%5B40.43791%2C%20-75.42439%5D%2C%20%5B33.619655%2C%20-84.398914%5D%2C%20%5B41.138922%2C%20-111.834953%5D%2C%20%5B40.72772%2C%20-73.37237%5D%2C%20%5B38.902948%2C%20-77.021857%5D%2C%20%5B34.210477%2C%20-117.085698%5D%2C%20%5B40.82483%2C%20-73.93104%5D%2C%20%5B40.21693%2C%20-79.61245%5D%2C%20%5B32.84692%2C%20-85.18443%5D%2C%20%5B37.991231%2C%20-122.529724%5D%2C%20%5B38.362358%2C%20-81.623235%5D%2C%20%5B37.50456%2C%20-121.96379%5D%2C%20%5B37.048183%2C%20-76.40297%5D%2C%20%5B34.221744%2C%20-118.363341%5D%2C%20%5B33.88029%2C%20-117.56885%5D%2C%20%5B39.89654%2C%20-75.07165%5D%2C%20%5B37.769581%2C%20-122.416885%5D%2C%20%5B33.90817%2C%20-84.10708%5D%2C%20%5B39.032329%2C%20-77.142929%5D%2C%20%5B40.509336%2C%20-80.09171%5D%2C%20%5B33.975445%2C%20-117.372297%5D%2C%20%5B38.81379%2C%20-104.753831%5D%2C%20%5B47.17305%2C%20-113.473123%5D%2C%20%5B37.721435%2C%20-122.401054%5D%2C%20%5B41.698984%2C%20-72.643797%5D%2C%20%5B25.628949%2C%20-80.340104%5D%2C%20%5B35.325556%2C%20-119.29429%5D%2C%20%5B27.77979%2C%20-82.66044%5D%2C%20%5B34.146858%2C%20-117.482959%5D%2C%20%5B33.878639%2C%20-117.657779%5D%2C%20%5B41.7785%2C%20-88.11182%5D%2C%20%5B33.945318%2C%20-118.094398%5D%2C%20%5B33.829318%2C%20-117.528149%5D%2C%20%5B29.951294%2C%20-90.115839%5D%2C%20%5B40.73276%2C%20-73.92517%5D%2C%20%5B37.23605%2C%20-112.860713%5D%2C%20%5B37.970799%2C%20-122.320338%5D%2C%20%5B41.44098%2C%20-72.11657%5D%2C%20%5B40.704883%2C%20-111.952938%5D%2C%20%5B40.270632%2C%20-121.410051%5D%2C%20%5B40.704785%2C%20-111.90353%5D%2C%20%5B42.937131%2C%20-85.565918%5D%2C%20%5B25.741196%2C%20-80.37585%5D%2C%20%5B38.58071%2C%20-82.00475%5D%2C%20%5B34.489739%2C%20-118.619076%5D%2C%20%5B39.45123%2C%20-104.87572%5D%2C%20%5B29.934761%2C%20-95.249447%5D%2C%20%5B32.81845%2C%20-85.02126%5D%2C%20%5B41.84307%2C%20-87.99071%5D%2C%20%5B32.74593%2C%20-117.156547%5D%2C%20%5B40.06046%2C%20-74.21963%5D%2C%20%5B36.487131%2C%20-119.331409%5D%2C%20%5B34.005585%2C%20-117.903295%5D%2C%20%5B45.53161%2C%20-122.25304%5D%2C%20%5B42.480044%2C%20-83.206899%5D%2C%20%5B38.738223%2C%20-77.530202%5D%2C%20%5B34.031199%2C%20-117.328072%5D%2C%20%5B37.17803%2C%20-76.55326%5D%2C%20%5B33.96374%2C%20-118.3697%5D%2C%20%5B46.254897%2C%20-114.181519%5D%2C%20%5B35.780178%2C%20-78.562033%5D%2C%20%5B39.502875%2C%20-74.610396%5D%2C%20%5B36.841102%2C%20-76.329101%5D%2C%20%5B42.38665%2C%20-83.43139%5D%2C%20%5B30.439162%2C%20-91.191906%5D%2C%20%5B33.97027%2C%20-118.37475%5D%2C%20%5B33.681389%2C%20-117.853614%5D%2C%20%5B34.98409%2C%20-81.9725%5D%2C%20%5B37.80827%2C%20-122.36701%5D%2C%20%5B39.748116%2C%20-84.220901%5D%2C%20%5B33.46573%2C%20-111.91046%5D%2C%20%5B38.89243%2C%20-76.84415%5D%2C%20%5B39.19739%2C%20-84.45861%5D%2C%20%5B45.574807%2C%20-94.125191%5D%2C%20%5B40.237673%2C%20-75.651887%5D%2C%20%5B28.51173%2C%20-81.39707%5D%2C%20%5B35.77862%2C%20-78.70647%5D%2C%20%5B35.164055%2C%20-80.87603%5D%2C%20%5B40.73386%2C%20-73.865622%5D%2C%20%5B45.580592%2C%20-118.635531%5D%2C%20%5B34.211898%2C%20-79.860897%5D%2C%20%5B28.662055%2C%20-81.515546%5D%2C%20%5B38.65992%2C%20-112.59376%5D%2C%20%5B37.693936%2C%20-122.049284%5D%2C%20%5B33.84966%2C%20-118.28484%5D%2C%20%5B38.924282%2C%20-76.85391%5D%2C%20%5B39.24739%2C%20-76.68416%5D%2C%20%5B41.48814%2C%20-81.66479%5D%2C%20%5B37.54343%2C%20-122.0203%5D%2C%20%5B40.72572%2C%20-112.02055%5D%2C%20%5B25.92058%2C%20-80.21031%5D%2C%20%5B39.4517%2C%20-74.53639%5D%2C%20%5B33.75412%2C%20-84.37842%5D%2C%20%5B36.055053%2C%20-83.987605%5D%2C%20%5B40.65304%2C%20-112.015061%5D%2C%20%5B38.376736%2C%20-81.665956%5D%2C%20%5B33.91926%2C%20-118.08175%5D%2C%20%5B45.6034%2C%20-122.04105%5D%2C%20%5B39.922607%2C%20-76.718427%5D%2C%20%5B41.887101%2C%20-112.498687%5D%2C%20%5B37.99256%2C%20-121.76805%5D%2C%20%5B36.455122%2C%20-78.266047%5D%2C%20%5B39.4429%2C%20-104.87572%5D%2C%20%5B42.720894%2C%20-120.593686%5D%2C%20%5B39.80224%2C%20-85.44812%5D%2C%20%5B38.631116%2C%20-121.216288%5D%2C%20%5B40.80771%2C%20-73.3803%5D%2C%20%5B43.638%2C%20-95.7291%5D%2C%20%5B29.77078%2C%20-95.21093%5D%2C%20%5B33.38749%2C%20-86.78326%5D%2C%20%5B41.681603%2C%20-93.091696%5D%2C%20%5B41.88142%2C%20-87.92063%5D%2C%20%5B38.580415%2C%20-121.530582%5D%2C%20%5B33.67049%2C%20-117.75534%5D%2C%20%5B44.990783%2C%20-93.287015%5D%2C%20%5B29.68089%2C%20-95.37319%5D%2C%20%5B41.39707%2C%20-81.50868%5D%2C%20%5B39.615846%2C%20-105.232277%5D%2C%20%5B34.072414%2C%20-118.072922%5D%2C%20%5B28.06816%2C%20-81.9933%5D%2C%20%5B37.75025%2C%20-121.13897%5D%2C%20%5B29.92519%2C%20-95.402699%5D%2C%20%5B41.19556%2C%20-75.79313%5D%2C%20%5B44.25495%2C%20-121.072816%5D%2C%20%5B33.84175%2C%20-117.95229%5D%2C%20%5B39.012418%2C%20-123.372115%5D%2C%20%5B37.95256%2C%20-122.054795%5D%2C%20%5B45.212176%2C%20-122.975822%5D%2C%20%5B34.139023%2C%20-117.492401%5D%2C%20%5B30.471299%2C%20-97.671149%5D%2C%20%5B32.723683%2C%20-97.06229%5D%2C%20%5B42.254358%2C%20-88.021005%5D%2C%20%5B33.69029%2C%20-84.49629%5D%2C%20%5B37.58304%2C%20-122.252188%5D%2C%20%5B37.46917%2C%20-122.155901%5D%2C%20%5B33.573799%2C%20-92.814425%5D%2C%20%5B35.322305%2C%20-119.03752%5D%2C%20%5B41.19225%2C%20-73.19478%5D%2C%20%5B33.874658%2C%20-117.880243%5D%2C%20%5B36.870964%2C%20-76.195517%5D%2C%20%5B37.51744%2C%20-77.201039%5D%2C%20%5B41.91964%2C%20-87.67369%5D%2C%20%5B38.67305%2C%20-104.7089%5D%2C%20%5B30.22066%2C%20-95.45725%5D%2C%20%5B33.888992%2C%20-118.188797%5D%2C%20%5B38.728671%2C%20-121.261692%5D%2C%20%5B33.86937%2C%20-117.75076%5D%2C%20%5B33.8508%2C%20-117.84365%5D%2C%20%5B33.967231%2C%20-118.083476%5D%2C%20%5B39.41575%2C%20-76.65937%5D%2C%20%5B36.670884%2C%20-119.69989%5D%2C%20%5B37.976947%2C%20-78.7494%5D%2C%20%5B34.080098%2C%20-118.226417%5D%2C%20%5B37.92815%2C%20-122.32299%5D%2C%20%5B40.64358%2C%20-112.0448%5D%2C%20%5B37.34372%2C%20-77.335499%5D%2C%20%5B38.93514%2C%20-94.40654%5D%2C%20%5B41.663989%2C%20-91.323689%5D%2C%20%5B35.839238%2C%20-78.675899%5D%2C%20%5B43.613161%2C%20-116.207629%5D%2C%20%5B38.990766%2C%20-121.080666%5D%2C%20%5B44.826618%2C%20-123.014782%5D%2C%20%5B27.7856%2C%20-82.35843%5D%2C%20%5B45.54601%2C%20-122.55748%5D%2C%20%5B41.44544%2C%20-81.58867%5D%2C%20%5B27.968044%2C%20-82.754612%5D%2C%20%5B41.10487%2C%20-78.53342%5D%2C%20%5B39.01855%2C%20-76.97125%5D%2C%20%5B38.383409%2C%20-77.449931%5D%2C%20%5B32.33724%2C%20-111.0207%5D%2C%20%5B33.85658%2C%20-118.02855%5D%2C%20%5B25.77553%2C%20-80.31999%5D%2C%20%5B39.534516%2C%20-77.230852%5D%2C%20%5B42.45399%2C%20-87.82541%5D%2C%20%5B32.359915%2C%20-95.29344%5D%2C%20%5B42.46204%2C%20-73.59238%5D%2C%20%5B33.77207%2C%20-117.90919%5D%2C%20%5B34.216389%2C%20-119.033333%5D%2C%20%5B43.593353%2C%20-116.385887%5D%2C%20%5B39.29973%2C%20-76.74301%5D%2C%20%5B37.315018%2C%20-121.909068%5D%2C%20%5B37.4307%2C%20-77.58307%5D%2C%20%5B33.941736%2C%20-118.04851%5D%2C%20%5B34.14773%2C%20-118.03166%5D%2C%20%5B28.502815%2C%20-80.837799%5D%2C%20%5B47.016805%2C%20-122.905991%5D%2C%20%5B40.70461%2C%20-74.20283%5D%2C%20%5B37.258512%2C%20-122.121939%5D%2C%20%5B41.746599%2C%20-87.85617%5D%2C%20%5B35.25126%2C%20-80.89443%5D%2C%20%5B34.400216%2C%20-119.299734%5D%2C%20%5B25.94228%2C%20-80.341871%5D%2C%20%5B37.351464%2C%20-121.914333%5D%2C%20%5B46.14823%2C%20-123.91675%5D%2C%20%5B42.57586%2C%20-73.96389%5D%2C%20%5B37.841363%2C%20-122.297042%5D%2C%20%5B39.147914%2C%20-84.539302%5D%2C%20%5B36.989222%2C%20-121.926544%5D%2C%20%5B33.928892%2C%20-118.291574%5D%2C%20%5B28.240731%2C%20-82.351723%5D%2C%20%5B40.594493%2C%20-123.010064%5D%2C%20%5B29.80952%2C%20-95.34108%5D%2C%20%5B42.089741%2C%20-76.80502%5D%2C%20%5B40.892984%2C%20-73.884086%5D%2C%20%5B40.83833%2C%20-73.88243%5D%2C%20%5B40.83767%2C%20-111.91564%5D%2C%20%5B40.68331%2C%20-75.291922%5D%2C%20%5B38.5476%2C%20-90.42743%5D%2C%20%5B38.855393%2C%20-78.537803%5D%2C%20%5B40.229669%2C%20-76.932138%5D%2C%20%5B37.668689%2C%20-113.079887%5D%2C%20%5B32.79187%2C%20-96.7293%5D%2C%20%5B34.171742%2C%20-118.531765%5D%2C%20%5B45.810256%2C%20-123.231274%5D%2C%20%5B40.817781%2C%20-73.80406%5D%2C%20%5B37.93149%2C%20-122.516083%5D%2C%20%5B32.66192%2C%20-96.89588%5D%2C%20%5B41.819622%2C%20-71.450891%5D%2C%20%5B43.021998%2C%20-123.299722%5D%2C%20%5B39.01339%2C%20-77.04447%5D%2C%20%5B36.850608%2C%20-76.179099%5D%2C%20%5B32.637964%2C%20-117.099235%5D%2C%20%5B39.77289%2C%20-104.83398%5D%2C%20%5B28.606464%2C%20-81.299161%5D%2C%20%5B33.998088%2C%20-117.858615%5D%2C%20%5B42.26964%2C%20-88.00401%5D%2C%20%5B28.67288%2C%20-81.47634%5D%2C%20%5B39.04714%2C%20-77.052123%5D%2C%20%5B32.938913%2C%20-117.241771%5D%2C%20%5B47.09134%2C%20-122.63007%5D%2C%20%5B35.79027%2C%20-119.250615%5D%2C%20%5B28.11669%2C%20-80.70585%5D%2C%20%5B34.15758%2C%20-118.4525%5D%2C%20%5B28.34478%2C%20-81.36385%5D%2C%20%5B37.49526%2C%20-122.22909%5D%2C%20%5B47.508413%2C%20-122.281865%5D%2C%20%5B37.782728%2C%20-79.4004%5D%2C%20%5B33.834944%2C%20-117.835588%5D%2C%20%5B33.868831%2C%20-118.002634%5D%2C%20%5B32.778399%2C%20-96.85647%5D%2C%20%5B38.929871%2C%20-77.211109%5D%2C%20%5B34.09667%2C%20-117.30202%5D%2C%20%5B34.0368%2C%20-118.02375%5D%2C%20%5B37.317321%2C%20-121.941451%5D%2C%20%5B32.420407%2C%20-93.826729%5D%2C%20%5B37.11747%2C%20-76.50673%5D%2C%20%5B33.76774%2C%20-84.5322%5D%2C%20%5B47.31057%2C%20-122.29962%5D%2C%20%5B32.79168%2C%20-96.74289%5D%2C%20%5B34.643652%2C%20-112.299713%5D%2C%20%5B39.69226%2C%20-86.2366%5D%2C%20%5B33.58727%2C%20-112.11705%5D%2C%20%5B34.203327%2C%20-80.315811%5D%2C%20%5B42.55942%2C%20-83.12359%5D%2C%20%5B39.660011%2C%20-75.654913%5D%2C%20%5B34.02992%2C%20-118.44231%5D%2C%20%5B30.48754%2C%20-91.142435%5D%2C%20%5B35.36914%2C%20-80.84098%5D%2C%20%5B48.04373%2C%20-122.18111%5D%2C%20%5B39.21141%2C%20-76.65136%5D%2C%20%5B37.720705%2C%20-122.178217%5D%2C%20%5B32.72231%2C%20-116.47605%5D%2C%20%5B42.47579%2C%20-83.13332%5D%2C%20%5B37.741738%2C%20-121.574181%5D%2C%20%5B34.377108%2C%20-118.56602%5D%2C%20%5B37.60263%2C%20-122.063864%5D%2C%20%5B35.798339%2C%20-78.485332%5D%2C%20%5B34.067622%2C%20-117.409471%5D%2C%20%5B37.732235%2C%20-122.432073%5D%2C%20%5B28.093636%2C%20-82.760668%5D%2C%20%5B44.80355%2C%20-117.81299%5D%2C%20%5B40.2718%2C%20-111.71576%5D%2C%20%5B25.82284%2C%20-80.32152%5D%2C%20%5B29.72597%2C%20-95.46067%5D%2C%20%5B32.964182%2C%20-117.097397%5D%2C%20%5B39.517222%2C%20-84.098609%5D%2C%20%5B45.59554%2C%20-118.614243%5D%2C%20%5B25.89593%2C%20-80.324578%5D%2C%20%5B33.89623%2C%20-118.05152%5D%2C%20%5B33.75499%2C%20-117.85149%5D%2C%20%5B33.44775%2C%20-117.135727%5D%2C%20%5B44.721016%2C%20-121.216015%5D%2C%20%5B36.870625%2C%20-76.195402%5D%2C%20%5B30.053321%2C%20-95.243455%5D%2C%20%5B39.77035%2C%20-84.08671%5D%2C%20%5B37.776772%2C%20-120.774689%5D%2C%20%5B32.662243%2C%20-96.896629%5D%2C%20%5B27.79198%2C%20-82.33479%5D%2C%20%5B44.74549%2C%20-93.2829%5D%2C%20%5B33.569077%2C%20-117.180745%5D%2C%20%5B34.272871%2C%20-118.030203%5D%2C%20%5B28.58225%2C%20-81.37522%5D%2C%20%5B40.474957%2C%20-111.441185%5D%2C%20%5B36.75773%2C%20-119.7545%5D%2C%20%5B32.660282%2C%20-96.729909%5D%2C%20%5B34.15957%2C%20-118.637357%5D%2C%20%5B38.32487%2C%20-119.75217%5D%2C%20%5B44.23865%2C%20-95.67073%5D%2C%20%5B40.5935%2C%20-111.9027%5D%2C%20%5B40.56802%2C%20-74.552516%5D%2C%20%5B34.74407%2C%20-82.292163%5D%2C%20%5B34.018341%2C%20-118.147542%5D%2C%20%5B28.28059%2C%20-82.69712%5D%2C%20%5B39.811223%2C%20-86.1743%5D%2C%20%5B34.082169%2C%20-118.704564%5D%2C%20%5B36.81501%2C%20-121.63957%5D%2C%20%5B45.8367%2C%20-118.42126%5D%2C%20%5B38.988643%2C%20-76.883236%5D%2C%20%5B41.76739%2C%20-72.61942%5D%2C%20%5B40.21422%2C%20-75.542496%5D%2C%20%5B42.67993%2C%20-88.95357%5D%2C%20%5B39.284373%2C%20-76.538153%5D%2C%20%5B44.17036%2C%20-122.24202%5D%2C%20%5B33.97992%2C%20-84.53735%5D%2C%20%5B26.10289%2C%20-80.25011%5D%2C%20%5B44.415989%2C%20-117.308333%5D%2C%20%5B45.46473%2C%20-94.13086%5D%2C%20%5B45.88171%2C%20-123.95871%5D%2C%20%5B37.679864%2C%20-122.125651%5D%2C%20%5B37.32351%2C%20-121.940596%5D%2C%20%5B39.39046%2C%20-84.53336%5D%2C%20%5B35.24691%2C%20-80.84654%5D%2C%20%5B33.847833%2C%20-117.855511%5D%2C%20%5B36.706964%2C%20-119.636961%5D%2C%20%5B25.869202%2C%20-80.208654%5D%2C%20%5B29.900285%2C%20-95.312472%5D%2C%20%5B34.15551%2C%20-118.40101%5D%2C%20%5B33.43598%2C%20-116.84911%5D%2C%20%5B30.492392%2C%20-91.124165%5D%2C%20%5B34.01993%2C%20-117.54316%5D%2C%20%5B40.799824%2C%20-73.929906%5D%2C%20%5B40.610522%2C%20-74.098244%5D%2C%20%5B33.868636%2C%20-117.758186%5D%2C%20%5B29.67669%2C%20-95.38158%5D%2C%20%5B45.010031%2C%20-93.166948%5D%2C%20%5B34.311988%2C%20-117.472247%5D%2C%20%5B30.11242%2C%20-97.811418%5D%2C%20%5B33.46632%2C%20-112.11018%5D%2C%20%5B33.46184%2C%20-112.04418%5D%2C%20%5B44.091806%2C%20-123.09982%5D%2C%20%5B32.85253%2C%20-116.94986%5D%2C%20%5B34.25315%2C%20-118.43111%5D%2C%20%5B38.89605%2C%20-76.90656%5D%2C%20%5B34.288985%2C%20-82.542547%5D%2C%20%5B34.024669%2C%20-117.750932%5D%2C%20%5B35.3917%2C%20-97.51707%5D%2C%20%5B40.891402%2C%20-74.12217%5D%2C%20%5B44.16242%2C%20-121.25747%5D%2C%20%5B32.95447%2C%20-87.83527%5D%2C%20%5B25.990616%2C%20-80.165659%5D%2C%20%5B44.183324%2C%20-116.974575%5D%2C%20%5B37.884876%2C%20-122.077747%5D%2C%20%5B37.307327%2C%20-77.395366%5D%2C%20%5B38.91678%2C%20-76.93264%5D%2C%20%5B40.82281%2C%20-73.88491%5D%2C%20%5B42.868791%2C%20-73.726254%5D%2C%20%5B33.872877%2C%20-118.200584%5D%2C%20%5B37.495528%2C%20-122.368896%5D%2C%20%5B37.787349%2C%20-122.247952%5D%2C%20%5B44.035081%2C%20-123.558316%5D%2C%20%5B42.045053%2C%20-87.993053%5D%2C%20%5B38.23574%2C%20-81.54109%5D%2C%20%5B41.92724%2C%20-87.6871%5D%2C%20%5B44.912521%2C%20-93.14432%5D%2C%20%5B33.942071%2C%20-118.313386%5D%2C%20%5B43.14226%2C%20-77.6715%5D%2C%20%5B28.196893%2C%20-80.708688%5D%2C%20%5B41.76101%2C%20-93.569448%5D%2C%20%5B26.617115%2C%20-81.682394%5D%2C%20%5B37.763528%2C%20-121.418744%5D%2C%20%5B42.40631%2C%20-82.95625%5D%2C%20%5B33.57075%2C%20-117.72342%5D%2C%20%5B28.980891%2C%20-82.135711%5D%2C%20%5B33.815425%2C%20-118.184967%5D%2C%20%5B38.22054%2C%20-122.1325%5D%2C%20%5B38.424191%2C%20-121.395536%5D%2C%20%5B44.98748%2C%20-93.08897%5D%2C%20%5B29.03003%2C%20-82.158776%5D%2C%20%5B29.81405%2C%20-95.36061%5D%2C%20%5B33.951176%2C%20-117.303332%5D%2C%20%5B40.73752%2C%20-73.85096%5D%2C%20%5B35.388611%2C%20-118.982683%5D%2C%20%5B41.171211%2C%20-79.100908%5D%2C%20%5B33.923417%2C%20-84.505828%5D%2C%20%5B35.07305%2C%20-90.02568%5D%2C%20%5B33.899619%2C%20-118.284407%5D%2C%20%5B25.698387%2C%20-80.29701%5D%2C%20%5B38.6639%2C%20-121.3572%5D%2C%20%5B41.05321%2C%20-73.82233%5D%2C%20%5B34.186646%2C%20-118.474262%5D%2C%20%5B45.4983%2C%20-94.23153%5D%2C%20%5B39.705651%2C%20-75.606654%5D%2C%20%5B41.99829%2C%20-88.02503%5D%2C%20%5B33.91555%2C%20-118.18852%5D%2C%20%5B32.75964%2C%20-97.02034%5D%2C%20%5B36.098081%2C%20-94.093148%5D%2C%20%5B44.156045%2C%20-121.341904%5D%2C%20%5B27.078194%2C%20-82.424819%5D%2C%20%5B28.66439%2C%20-81.34038%5D%2C%20%5B40.225535%2C%20-75.256727%5D%2C%20%5B38.631008%2C%20-121.520043%5D%2C%20%5B28.610155%2C%20-81.415079%5D%2C%20%5B39.0502%2C%20-76.84212%5D%2C%20%5B35.015213%2C%20-85.163684%5D%2C%20%5B37.475524%2C%20-120.853533%5D%2C%20%5B42.961988%2C%20-71.415123%5D%2C%20%5B29.71656%2C%20-95.37895%5D%2C%20%5B30.28879%2C%20-81.98349%5D%2C%20%5B38.420782%2C%20-122.552628%5D%2C%20%5B37.303126%2C%20-120.500818%5D%2C%20%5B39.16642%2C%20-76.641751%5D%2C%20%5B32.800058%2C%20-96.821769%5D%2C%20%5B44.555889%2C%20-123.078805%5D%2C%20%5B34.66563%2C%20-82.17642%5D%2C%20%5B37.043064%2C%20-77.48142%5D%2C%20%5B38.511575%2C%20-77.376354%5D%2C%20%5B38.9406%2C%20-94.582748%5D%2C%20%5B37.952867%2C%20-122.327994%5D%2C%20%5B30.407162%2C%20-81.564635%5D%2C%20%5B38.134167%2C%20-122.476424%5D%2C%20%5B39.78024%2C%20-104.9905%5D%2C%20%5B35.807593%2C%20-78.62479%5D%2C%20%5B39.100496%2C%20-121.547564%5D%2C%20%5B42.694496%2C%20-73.838923%5D%2C%20%5B38.340803%2C%20-81.680728%5D%2C%20%5B32.749735%2C%20-96.891403%5D%2C%20%5B40.736959%2C%20-73.930554%5D%2C%20%5B42.28746%2C%20-122.82223%5D%2C%20%5B39.226216%2C%20-84.370833%5D%2C%20%5B26.269243%2C%20-80.125833%5D%2C%20%5B34.199783%2C%20-118.396456%5D%2C%20%5B37.17805%2C%20-76.553257%5D%2C%20%5B37.59437%2C%20-122.23143%5D%2C%20%5B34.028595%2C%20-118.254035%5D%2C%20%5B35.79681%2C%20-78.58623%5D%2C%20%5B38.796511%2C%20-77.190746%5D%2C%20%5B38.897258%2C%20-77.439053%5D%2C%20%5B40.68806%2C%20-74.10022%5D%2C%20%5B34.120486%2C%20-117.907589%5D%2C%20%5B33.507682%2C%20-81.913308%5D%2C%20%5B43.21858%2C%20-87.92131%5D%2C%20%5B47.35367%2C%20-122.24606%5D%2C%20%5B33.99824%2C%20-118.17516%5D%2C%20%5B38.91464%2C%20-76.93269%5D%2C%20%5B40.72445%2C%20-111.92389%5D%2C%20%5B39.74327%2C%20-104.98611%5D%2C%20%5B37.84202%2C%20-122.29749%5D%2C%20%5B40.925579%2C%20-111.89137%5D%2C%20%5B30.700339%2C%20-86.571332%5D%2C%20%5B27.96068%2C%20-82.76348%5D%2C%20%5B43.05522%2C%20-83.802567%5D%2C%20%5B37.261714%2C%20-78.681556%5D%2C%20%5B25.92473%2C%20-80.21156%5D%2C%20%5B40.447671%2C%20-80.02627%5D%2C%20%5B40.008398%2C%20-75.742996%5D%2C%20%5B41.60795%2C%20-72.60265%5D%2C%20%5B27.0245%2C%20-82.05123%5D%2C%20%5B35.03057%2C%20-91.96264%5D%2C%20%5B34.024903%2C%20-117.731343%5D%2C%20%5B34.11925%2C%20-117.839456%5D%2C%20%5B25.947557%2C%20-80.147717%5D%2C%20%5B45.51059%2C%20-122.56534%5D%2C%20%5B33.78153%2C%20-84.39121%5D%2C%20%5B33.998875%2C%20-117.353732%5D%2C%20%5B39.11506%2C%20-94.59081%5D%2C%20%5B45.647845%2C%20-121.210655%5D%2C%20%5B42.466008%2C%20-82.911506%5D%2C%20%5B33.835068%2C%20-118.086305%5D%2C%20%5B44.541438%2C%20-93.584087%5D%2C%20%5B34.01824%2C%20-118.15795%5D%2C%20%5B33.327142%2C%20-111.988387%5D%2C%20%5B44.965937%2C%20-93.279325%5D%2C%20%5B37.119847%2C%20-121.976042%5D%2C%20%5B33.138368%2C%20-117.140256%5D%2C%20%5B30.00542%2C%20-90.023818%5D%2C%20%5B43.14154%2C%20-77.62041%5D%2C%20%5B32.361652%2C%20-93.752021%5D%2C%20%5B30.46256%2C%20-91.15613%5D%2C%20%5B35.22938%2C%20-80.92453%5D%2C%20%5B38.751858%2C%20-108.15672%5D%2C%20%5B42.27687%2C%20-84.36062%5D%2C%20%5B34.16823%2C%20-118.60592%5D%2C%20%5B34.145868%2C%20-117.293987%5D%2C%20%5B44.08929%2C%20-123.04581%5D%2C%20%5B41.01151%2C%20-73.70097%5D%2C%20%5B46.78532%2C%20-117.936864%5D%2C%20%5B37.88752%2C%20-79.28226%5D%2C%20%5B33.86123%2C%20-117.53734%5D%2C%20%5B46.755012%2C%20-92.104858%5D%2C%20%5B41.546259%2C%20-72.748998%5D%2C%20%5B38.929871%2C%20-77.211109%5D%2C%20%5B25.88582%2C%20-80.20896%5D%2C%20%5B29.774207%2C%20-95.367916%5D%2C%20%5B41.148633%2C%20-76.43737%5D%2C%20%5B37.77495%2C%20-122.23345%5D%2C%20%5B34.05119%2C%20-118.005899%5D%2C%20%5B42.985349%2C%20-123.869186%5D%2C%20%5B47.88415%2C%20-122.23119%5D%2C%20%5B33.07801%2C%20-116.60296%5D%2C%20%5B37.63509%2C%20-77.50978%5D%2C%20%5B40.916192%2C%20-72.730279%5D%2C%20%5B33.85011%2C%20-118.205305%5D%2C%20%5B30.40845%2C%20-81.75215%5D%2C%20%5B34.79945%2C%20-92.30754%5D%2C%20%5B37.88223%2C%20-78.02891%5D%2C%20%5B40.228307%2C%20-75.624943%5D%2C%20%5B42.516506%2C%20-83.66125%5D%2C%20%5B26.70218%2C%20-80.05388%5D%2C%20%5B39.99215%2C%20-75.08588%5D%2C%20%5B34.434442%2C%20-118.382569%5D%2C%20%5B39.00642%2C%20-77.07102%5D%2C%20%5B42.30996%2C%20-123.6088%5D%2C%20%5B34.153093%2C%20-118.09866%5D%2C%20%5B33.444335%2C%20-117.630339%5D%2C%20%5B44.822984%2C%20-93.291295%5D%2C%20%5B33.86023%2C%20-81.20277%5D%2C%20%5B44.545259%2C%20-92.943579%5D%2C%20%5B33.923969%2C%20-98.485967%5D%2C%20%5B41.995836%2C%20-79.810552%5D%2C%20%5B39.64218%2C%20-75.80862%5D%2C%20%5B32.64488%2C%20-96.85063%5D%2C%20%5B32.84483%2C%20-117.11931%5D%2C%20%5B41.564665%2C%20-93.867565%5D%2C%20%5B33.910927%2C%20-118.172337%5D%2C%20%5B40.539433%2C%20-111.984091%5D%2C%20%5B39.35587%2C%20-76.501847%5D%2C%20%5B42.42763%2C%20-123.04828%5D%2C%20%5B34.032086%2C%20-118.262248%5D%2C%20%5B25.9464%2C%20-80.1861%5D%2C%20%5B35.88548%2C%20-78.84295%5D%2C%20%5B28.54148%2C%20-81.41355%5D%2C%20%5B35.86532%2C%20-78.55259%5D%2C%20%5B38.558883%2C%20-121.379451%5D%2C%20%5B39.870953%2C%20-75.332095%5D%2C%20%5B32.45706%2C%20-83.61869%5D%2C%20%5B34.17942%2C%20-118.39529%5D%2C%20%5B35.71762%2C%20-89.564887%5D%2C%20%5B35.23594%2C%20-80.88046%5D%2C%20%5B36.091144%2C%20-86.704212%5D%2C%20%5B42.342149%2C%20-122.87397%5D%2C%20%5B44.284633%2C%20-122.041357%5D%2C%20%5B34.270144%2C%20-117.290178%5D%2C%20%5B34.200428%2C%20-118.473719%5D%2C%20%5B26.28016%2C%20-80.12526%5D%2C%20%5B34.04277%2C%20-118.27275%5D%2C%20%5B37.970455%2C%20-121.148697%5D%2C%20%5B47.523393%2C%20-122.321257%5D%2C%20%5B32.910004%2C%20-117.227674%5D%2C%20%5B39.095073%2C%20-84.48114%5D%2C%20%5B25.714607%2C%20-80.413569%5D%2C%20%5B40.78084%2C%20-74.05579%5D%2C%20%5B40.83079%2C%20-73.85202%5D%2C%20%5B42.760743%2C%20-73.757711%5D%2C%20%5B28.450186%2C%20-81.402132%5D%2C%20%5B41.76488%2C%20-72.629595%5D%2C%20%5B32.908144%2C%20-96.927928%5D%2C%20%5B38.585556%2C%20-121.450473%5D%2C%20%5B35.160291%2C%20-80.787132%5D%2C%20%5B41.962156%2C%20-91.14328%5D%2C%20%5B32.716764%2C%20-117.09357%5D%2C%20%5B42.30042%2C%20-88.43328%5D%2C%20%5B45.12812%2C%20-93.48509%5D%2C%20%5B43.709097%2C%20-95.45526%5D%2C%20%5B42.18593%2C%20-83.24324%5D%2C%20%5B26.16219%2C%20-80.16231%5D%2C%20%5B38.00438%2C%20-122.03915%5D%2C%20%5B37.99965%2C%20-122.07622%5D%2C%20%5B29.61287%2C%20-95.19683%5D%2C%20%5B33.91869%2C%20-118.2847%5D%2C%20%5B38.095102%2C%20-122.229737%5D%2C%20%5B37.88082%2C%20-121.091592%5D%2C%20%5B34.658698%2C%20-79.692673%5D%2C%20%5B32.60876%2C%20-97.32094%5D%2C%20%5B25.685034%2C%20-80.428354%5D%2C%20%5B42.35474%2C%20-83.08441%5D%2C%20%5B35.872729%2C%20-78.563775%5D%2C%20%5B34.222214%2C%20-119.136123%5D%2C%20%5B30.5019%2C%20-84.24272%5D%2C%20%5B42.36871%2C%20-88.16915%5D%2C%20%5B26.102897%2C%20-80.168986%5D%2C%20%5B37.014378%2C%20-120.928586%5D%2C%20%5B29.476%2C%20-95.40591%5D%2C%20%5B44.73684%2C%20-93.2832%5D%2C%20%5B40.601788%2C%20-86.977053%5D%2C%20%5B33.878885%2C%20-118.191744%5D%2C%20%5B41.77592%2C%20-73.70185%5D%2C%20%5B33.76589%2C%20-117.9421%5D%2C%20%5B38.725921%2C%20-77.202436%5D%2C%20%5B42.20602%2C%20-123.64977%5D%2C%20%5B41.87035%2C%20-87.89249%5D%2C%20%5B47.50803%2C%20-122.27834%5D%2C%20%5B25.920023%2C%20-80.179825%5D%2C%20%5B30.299745%2C%20-86.064623%5D%2C%20%5B39.87535%2C%20-75.04845%5D%2C%20%5B36.27441%2C%20-86.79694%5D%2C%20%5B34.02842%2C%20-118.207915%5D%2C%20%5B37.63206%2C%20-122.08513%5D%2C%20%5B43.08301%2C%20-121.8806%5D%2C%20%5B28.051003%2C%20-82.135967%5D%2C%20%5B37.60905%2C%20-77.45111%5D%2C%20%5B30.038296%2C%20-89.976903%5D%2C%20%5B35.89678%2C%20-84.7043%5D%2C%20%5B29.78447%2C%20-95.58767%5D%2C%20%5B39.32742%2C%20-76.68255%5D%2C%20%5B40.81116%2C%20-73.93122%5D%2C%20%5B25.676363%2C%20-80.469921%5D%2C%20%5B40.74884%2C%20-73.93758%5D%2C%20%5B40.76878%2C%20-73.94906%5D%2C%20%5B40.726754%2C%20-74.139587%5D%2C%20%5B44.95205%2C%20-93.06522%5D%2C%20%5B37.842337%2C%20-122.485822%5D%2C%20%5B27.284115%2C%20-82.514201%5D%2C%20%5B33.945327%2C%20-80.524016%5D%2C%20%5B44.907051%2C%20-93.35031%5D%2C%20%5B29.957324%2C%20-81.444557%5D%2C%20%5B32.71184%2C%20-117.10091%5D%2C%20%5B40.75293%2C%20-74.11869%5D%2C%20%5B33.987602%2C%20-118.137419%5D%2C%20%5B37.84193%2C%20-122.29746%5D%2C%20%5B33.845726%2C%20-117.958989%5D%2C%20%5B29.87494%2C%20-90.09809%5D%2C%20%5B26.93961%2C%20-80.15177%5D%2C%20%5B38.617575%2C%20-121.364472%5D%2C%20%5B34.03119%2C%20-118.03068%5D%2C%20%5B40.79496%2C%20-74.468574%5D%2C%20%5B44.50781%2C%20-117.37192%5D%2C%20%5B43.646374%2C%20-122.196346%5D%2C%20%5B39.073464%2C%20-76.934439%5D%2C%20%5B34.965961%2C%20-82.030737%5D%2C%20%5B44.07577%2C%20-118.97544%5D%2C%20%5B39.119515%2C%20-121.559308%5D%2C%20%5B37.421143%2C%20-122.092497%5D%2C%20%5B25.481533%2C%20-80.463109%5D%2C%20%5B33.8791%2C%20-84.24964%5D%2C%20%5B36.754695%2C%20-119.771727%5D%2C%20%5B33.920685%2C%20-117.431756%5D%2C%20%5B25.731925%2C%20-80.317114%5D%2C%20%5B42.339531%2C%20-123.322569%5D%2C%20%5B37.36792%2C%20-77.41736%5D%2C%20%5B44.97343%2C%20-93.28737%5D%2C%20%5B40.480256%2C%20-76.529402%5D%2C%20%5B32.19216%2C%20-110.87506%5D%2C%20%5B34.414733%2C%20-117.224098%5D%2C%20%5B39.75364%2C%20-105.55521%5D%2C%20%5B33.177298%2C%20-117.322243%5D%2C%20%5B47.165955%2C%20-122.118549%5D%2C%20%5B44.34794%2C%20-93.29297%5D%2C%20%5B33.882295%2C%20-79.048217%5D%2C%20%5B37.702551%2C%20-122.04714%5D%2C%20%5B41.59739%2C%20-87.58348%5D%2C%20%5B40.721771%2C%20-111.54472%5D%2C%20%5B30.346468%2C%20-97.677401%5D%2C%20%5B47.59744%2C%20-122.32078%5D%2C%20%5B41.12748%2C%20-75.343025%5D%2C%20%5B45.059765%2C%20-93.147075%5D%2C%20%5B38.217498%2C%20-122.136136%5D%2C%20%5B32.81748%2C%20-96.87158%5D%2C%20%5B33.810283%2C%20-118.158969%5D%2C%20%5B33.784636%2C%20-118.207691%5D%2C%20%5B30.31637%2C%20-97.872451%5D%2C%20%5B33.21359%2C%20-117.389076%5D%2C%20%5B48.84703%2C%20-95.69847%5D%2C%20%5B32.76001%2C%20-97.08114%5D%2C%20%5B33.43551%2C%20-111.93167%5D%2C%20%5B37.996436%2C%20-122.117011%5D%2C%20%5B32.192287%2C%20-110.999267%5D%2C%20%5B35.786486%2C%20-78.824969%5D%2C%20%5B45.037926%2C%20-93.056269%5D%2C%20%5B38.223595%2C%20-122.611799%5D%2C%20%5B33.961145%2C%20-79.180484%5D%2C%20%5B26.13667%2C%20-80.163116%5D%2C%20%5B34.020457%2C%20-118.195644%5D%2C%20%5B30.24609%2C%20-81.51459%5D%2C%20%5B38.83871%2C%20-94.52911%5D%2C%20%5B41.41847%2C%20-81.80325%5D%2C%20%5B39.75948%2C%20-75.04741%5D%2C%20%5B28.356886%2C%20-80.700248%5D%2C%20%5B34.030989%2C%20-118.274553%5D%2C%20%5B44.861887%2C%20-93.298848%5D%2C%20%5B34.98842%2C%20-85.19179%5D%2C%20%5B32.236347%2C%20-90.218008%5D%2C%20%5B40.76609%2C%20-111.93974%5D%2C%20%5B38.782271%2C%20-90.48901%5D%2C%20%5B42.23535%2C%20-122.75584%5D%2C%20%5B25.487154%2C%20-80.425554%5D%2C%20%5B32.75953%2C%20-97.08149%5D%2C%20%5B38.987925%2C%20-77.146646%5D%2C%20%5B34.224553%2C%20-118.373025%5D%2C%20%5B37.996773%2C%20-121.789698%5D%2C%20%5B40.77524%2C%20-73.92324%5D%2C%20%5B35.21877%2C%20-80.82576%5D%2C%20%5B44.9739%2C%20-93.24968%5D%2C%20%5B27.53023%2C%20-82.50806%5D%2C%20%5B37.906779%2C%20-104.828879%5D%2C%20%5B35.35266%2C%20-118.914129%5D%2C%20%5B34.466979%2C%20-118.325699%5D%2C%20%5B36.892256%2C%20-121.572243%5D%2C%20%5B33.873318%2C%20-118.159961%5D%2C%20%5B31.03193%2C%20-97.4735%5D%2C%20%5B34.136333%2C%20-117.364866%5D%2C%20%5B44.907479%2C%20-122.98631%5D%2C%20%5B41.87592%2C%20-87.64754%5D%2C%20%5B35.78064%2C%20-78.70356%5D%2C%20%5B39.975834%2C%20-75.575946%5D%2C%20%5B34.041394%2C%20-117.284526%5D%2C%20%5B40.73619%2C%20-73.28725%5D%2C%20%5B39.74593%2C%20-84.34759%5D%2C%20%5B36.17458%2C%20-86.7709%5D%2C%20%5B42.147228%2C%20-122.639563%5D%2C%20%5B37.784185%2C%20-122.184194%5D%2C%20%5B41.04226%2C%20-73.78436%5D%2C%20%5B34.24973%2C%20-117.442178%5D%2C%20%5B25.801512%2C%20-80.32097%5D%2C%20%5B33.83125%2C%20-118.25534%5D%2C%20%5B32.92582%2C%20-96.81125%5D%2C%20%5B34.5201%2C%20-118.308331%5D%2C%20%5B34.04365%2C%20-118.44373%5D%2C%20%5B34.15297%2C%20-118.27965%5D%2C%20%5B39.08149%2C%20-94.59363%5D%2C%20%5B33.348701%2C%20-84.124042%5D%2C%20%5B29.78504%2C%20-95.544136%5D%2C%20%5B39.443017%2C%20-87.268575%5D%2C%20%5B43.18125%2C%20-77.5085%5D%2C%20%5B37.85103%2C%20-122.29946%5D%2C%20%5B34.023789%2C%20-118.243371%5D%2C%20%5B33.84567%2C%20-117.83036%5D%2C%20%5B37.79889%2C%20-112.95274%5D%2C%20%5B36.732906%2C%20-76.234527%5D%2C%20%5B34.269479%2C%20-118.472238%5D%2C%20%5B41.22324%2C%20-95.99906%5D%2C%20%5B39.738767%2C%20-107.946026%5D%2C%20%5B37.48422%2C%20-122.18363%5D%2C%20%5B42.49217%2C%20-83.50809%5D%2C%20%5B40.59294%2C%20-111.90219%5D%2C%20%5B33.237649%2C%20-117.226269%5D%2C%20%5B37.038742%2C%20-76.393078%5D%2C%20%5B41.8153%2C%20-87.63048%5D%2C%20%5B45.21077%2C%20-93.03967%5D%2C%20%5B36.15067%2C%20-86.76791%5D%2C%20%5B38.08623%2C%20-122.2327%5D%2C%20%5B41.98255%2C%20-87.79611%5D%2C%20%5B30.31786%2C%20-82.80793%5D%2C%20%5B37.990133%2C%20-121.187693%5D%2C%20%5B37.05115%2C%20-120.63559%5D%2C%20%5B36.753655%2C%20-119.687646%5D%2C%20%5B40.051493%2C%20-76.320919%5D%2C%20%5B47.4648%2C%20-122.27317%5D%2C%20%5B25.854666%2C%20-80.207897%5D%2C%20%5B40.15472%2C%20-75.1217%5D%2C%20%5B25.444199%2C%20-80.475151%5D%2C%20%5B34.030722%2C%20-118.274394%5D%2C%20%5B29.736342%2C%20-95.599913%5D%2C%20%5B40.64105%2C%20-111.90326%5D%2C%20%5B41.10135%2C%20-73.5704%5D%2C%20%5B47.5348%2C%20-122.19608%5D%2C%20%5B40.06617%2C%20-111.72214%5D%2C%20%5B38.633663%2C%20-121.501028%5D%2C%20%5B25.815271%2C%20-80.313437%5D%2C%20%5B40.28643%2C%20-74.70906%5D%2C%20%5B34.126828%2C%20-117.689269%5D%2C%20%5B25.92544%2C%20-80.27185%5D%2C%20%5B25.851286%2C%20-80.225543%5D%2C%20%5B32.19189%2C%20-110.8411%5D%2C%20%5B40.750147%2C%20-73.753184%5D%2C%20%5B38.881288%2C%20-77.397777%5D%2C%20%5B41.84293%2C%20-87.63128%5D%2C%20%5B30.658937%2C%20-87.940704%5D%2C%20%5B26.543665%2C%20-80.071696%5D%2C%20%5B44.96098%2C%20-93.40083%5D%2C%20%5B42.493781%2C%20-87.886827%5D%2C%20%5B30.480195%2C%20-97.673788%5D%2C%20%5B47.77188%2C%20-122.32031%5D%2C%20%5B40.222066%2C%20-75.343941%5D%2C%20%5B39.720995%2C%20-77.733099%5D%2C%20%5B39.02464%2C%20-94.69139%5D%2C%20%5B34.155567%2C%20-118.431243%5D%2C%20%5B30.426288%2C%20-87.291805%5D%2C%20%5B34.620428%2C%20-83.065992%5D%2C%20%5B34.036747%2C%20-118.317745%5D%2C%20%5B35.14055%2C%20-80.93288%5D%2C%20%5B34.020517%2C%20-118.194182%5D%2C%20%5B45.664036%2C%20-93.62878%5D%2C%20%5B28.407493%2C%20-81.40349%5D%2C%20%5B33.803013%2C%20-118.074361%5D%2C%20%5B29.720549%2C%20-95.494631%5D%2C%20%5B40.85024%2C%20-73.94506%5D%2C%20%5B35.750552%2C%20-78.768056%5D%2C%20%5B46.349183%2C%20-92.809316%5D%2C%20%5B33.892639%2C%20-118.285854%5D%2C%20%5B38.92639%2C%20-76.563666%5D%2C%20%5B33.87678%2C%20-118.17195%5D%2C%20%5B42.17012%2C%20-121.69807%5D%2C%20%5B37.663849%2C%20-121.028415%5D%2C%20%5B29.934966%2C%20-90.108399%5D%2C%20%5B34.226659%2C%20-117.306192%5D%2C%20%5B39.91975%2C%20-75.57691%5D%2C%20%5B39.552597%2C%20-74.7358%5D%2C%20%5B43.269609%2C%20-124.261717%5D%2C%20%5B35.383285%2C%20-118.930205%5D%2C%20%5B34.143529%2C%20-118.471175%5D%2C%20%5B35.84093%2C%20-78.61172%5D%2C%20%5B38.1245%2C%20-122.492398%5D%2C%20%5B35.74043%2C%20-78.63048%5D%2C%20%5B29.81157%2C%20-95.34702%5D%2C%20%5B33.550217%2C%20-117.183729%5D%2C%20%5B41.523069%2C%20-90.513179%5D%2C%20%5B38.800932%2C%20-78.604913%5D%2C%20%5B36.137186%2C%20-86.796917%5D%2C%20%5B39.50573%2C%20-77.585054%5D%2C%20%5B26.232101%2C%20-80.181618%5D%2C%20%5B40.699963%2C%20-73.961882%5D%2C%20%5B42.15393%2C%20-72.63551%5D%2C%20%5B27.96542%2C%20-82.432647%5D%2C%20%5B41.11821%2C%20-74.15352%5D%2C%20%5B25.821831%2C%20-80.3215%5D%2C%20%5B28.71684%2C%20-81.58947%5D%2C%20%5B43.04035%2C%20-89.378269%5D%2C%20%5B45.57839%2C%20-117.53827%5D%2C%20%5B38.992617%2C%20-94.778151%5D%2C%20%5B37.215473%2C%20-93.29628%5D%2C%20%5B47.70878%2C%20-116.878852%5D%2C%20%5B34.02392%2C%20-118.17396%5D%2C%20%5B42.209504%2C%20-122.697617%5D%2C%20%5B40.599095%2C%20-111.432648%5D%2C%20%5B42.685546%2C%20-84.54803%5D%2C%20%5B40.998799%2C%20-73.727311%5D%2C%20%5B33.670102%2C%20-112.037597%5D%2C%20%5B38.466828%2C%20-121.49731%5D%2C%20%5B38.81913%2C%20-76.91499%5D%2C%20%5B47.453616%2C%20-92.894169%5D%2C%20%5B25.721116%2C%20-80.304444%5D%2C%20%5B39.121464%2C%20-94.564877%5D%2C%20%5B35.099436%2C%20-82.05396%5D%2C%20%5B38.966449%2C%20-78.18928%5D%2C%20%5B43.002522%2C%20-83.727975%5D%2C%20%5B32.794694%2C%20-96.792585%5D%2C%20%5B38.618181%2C%20-121.415232%5D%2C%20%5B35.161191%2C%20-89.896561%5D%2C%20%5B43.201662%2C%20-78.881528%5D%2C%20%5B37.55108%2C%20-77.43856%5D%2C%20%5B44.84458%2C%20-93.15538%5D%2C%20%5B28.069303%2C%20-82.459275%5D%2C%20%5B34.322162%2C%20-112.122846%5D%2C%20%5B38.903535%2C%20-121.055091%5D%2C%20%5B39.153094%2C%20-75.513582%5D%2C%20%5B38.595789%2C%20-121.382892%5D%2C%20%5B25.864138%2C%20-80.234274%5D%2C%20%5B34.425113%2C%20-118.423629%5D%2C%20%5B42.43923%2C%20-83.0949%5D%2C%20%5B30.609079%2C%20-87.081556%5D%2C%20%5B35.375951%2C%20-118.940822%5D%2C%20%5B35.830514%2C%20-78.635625%5D%2C%20%5B37.51938%2C%20-77.51614%5D%2C%20%5B33.87608%2C%20-118.12872%5D%2C%20%5B37.485332%2C%20-120.826061%5D%2C%20%5B45.245592%2C%20-123.125463%5D%2C%20%5B39.358981%2C%20-77.171519%5D%2C%20%5B34.11034%2C%20-118.26266%5D%2C%20%5B40.36805%2C%20-79.81717%5D%2C%20%5B32.853401%2C%20-96.717935%5D%2C%20%5B40.69141%2C%20-112.26549%5D%2C%20%5B34.134008%2C%20-117.676244%5D%2C%20%5B45.07591%2C%20-93.32651%5D%2C%20%5B28.830049%2C%20-81.324338%5D%2C%20%5B42.076591%2C%20-80.203133%5D%2C%20%5B32.812711%2C%20-97.208388%5D%2C%20%5B34.17503%2C%20-118.30678%5D%2C%20%5B30.494252%2C%20-84.324932%5D%2C%20%5B34.140764%2C%20-118.277491%5D%2C%20%5B40.6358%2C%20-111.90475%5D%2C%20%5B37.503765%2C%20-122.489477%5D%2C%20%5B45.626083%2C%20-87.995554%5D%2C%20%5B42.31634%2C%20-88.00677%5D%2C%20%5B32.78864%2C%20-96.76414%5D%2C%20%5B29.902056%2C%20-97.904227%5D%2C%20%5B41.08785%2C%20-73.45718%5D%2C%20%5B44.799157%2C%20-93.234123%5D%2C%20%5B38.23915%2C%20-85.75329%5D%2C%20%5B39.772746%2C%20-78.200088%5D%2C%20%5B34.067838%2C%20-117.403173%5D%2C%20%5B33.766163%2C%20-117.937693%5D%2C%20%5B33.782304%2C%20-118.091558%5D%2C%20%5B35.14174%2C%20-77.8577%5D%2C%20%5B37.327798%2C%20-121.877614%5D%2C%20%5B32.332504%2C%20-95.284129%5D%2C%20%5B25.704304%2C%20-80.288339%5D%2C%20%5B40.62438%2C%20-74.27632%5D%2C%20%5B46.918257%2C%20-122.948676%5D%2C%20%5B33.13676%2C%20-117.1714%5D%2C%20%5B38.581481%2C%20-121.40156%5D%2C%20%5B34.303383%2C%20-118.479548%5D%2C%20%5B43.04878%2C%20-76.14252%5D%2C%20%5B33.92485%2C%20-118.33502%5D%2C%20%5B41.4094%2C%20-81.629814%5D%2C%20%5B42.854393%2C%20-78.79108%5D%2C%20%5B26.042398%2C%20-80.352438%5D%2C%20%5B25.856337%2C%20-80.208334%5D%2C%20%5B42.37097%2C%20-83.05427%5D%2C%20%5B42.32303%2C%20-88.16473%5D%2C%20%5B37.783751%2C%20-120.858034%5D%2C%20%5B42.59385%2C%20-114.5633%5D%2C%20%5B42.3468%2C%20-71.03946%5D%2C%20%5B40.02608%2C%20-75.03099%5D%2C%20%5B26.31093%2C%20-80.16987%5D%2C%20%5B27.489069%2C%20-82.464891%5D%2C%20%5B33.697203%2C%20-84.406961%5D%2C%20%5B37.70381%2C%20-122.06067%5D%2C%20%5B37.912861%2C%20-121.616923%5D%2C%20%5B37.875686%2C%20-122.0459%5D%2C%20%5B38.553833%2C%20-121.474019%5D%2C%20%5B34.0683%2C%20-118.151%5D%2C%20%5B38.898521%2C%20-112.405554%5D%2C%20%5B38.89735%2C%20-77.02703%5D%2C%20%5B40.104185%2C%20-74.722534%5D%2C%20%5B37.2547%2C%20-121.79239%5D%2C%20%5B32.7129%2C%20-96.82986%5D%2C%20%5B34.036997%2C%20-118.283991%5D%2C%20%5B41.08791%2C%20-73.457067%5D%2C%20%5B45.131073%2C%20-118.965485%5D%2C%20%5B42.06909%2C%20-121.66397%5D%2C%20%5B42.66533%2C%20-84.28788%5D%2C%20%5B38.631751%2C%20-121.504532%5D%2C%20%5B37.31673%2C%20-121.92237%5D%2C%20%5B43.191297%2C%20-77.614331%5D%2C%20%5B34.15428%2C%20-118.3804%5D%2C%20%5B30.618795%2C%20-81.598354%5D%2C%20%5B37.69358%2C%20-122.05756%5D%2C%20%5B35.09652%2C%20-80.85963%5D%2C%20%5B37.255309%2C%20-121.898232%5D%2C%20%5B33.87622%2C%20-118.06696%5D%2C%20%5B39.85947%2C%20-84.99297%5D%2C%20%5B33.930882%2C%20-118.101812%5D%2C%20%5B41.23778%2C%20-73.16089%5D%2C%20%5B34.574661%2C%20-82.814857%5D%2C%20%5B35.12186%2C%20-80.90889%5D%2C%20%5B38.582075%2C%20-121.462976%5D%2C%20%5B32.841408%2C%20-96.870529%5D%2C%20%5B34.413554%2C%20-119.695094%5D%2C%20%5B41.96178%2C%20-71.48375%5D%2C%20%5B37.559929%2C%20-77.45361%5D%2C%20%5B34.886695%2C%20-118.904174%5D%2C%20%5B43.51876%2C%20-71.61373%5D%2C%20%5B27.416312%2C%20-82.554216%5D%2C%20%5B33.707%2C%20-84.21895%5D%2C%20%5B33.000462%2C%20-117.25747%5D%2C%20%5B32.524524%2C%20-83.721466%5D%2C%20%5B33.920685%2C%20-117.431756%5D%2C%20%5B42.608939%2C%20-114.452208%5D%2C%20%5B33.949762%2C%20-118.091829%5D%2C%20%5B40.853486%2C%20-73.919901%5D%2C%20%5B35.83179%2C%20-78.67701%5D%2C%20%5B44.78621%2C%20-93.21958%5D%2C%20%5B40.666954%2C%20-74.204024%5D%2C%20%5B43.92691%2C%20-70.33666%5D%2C%20%5B40.805285%2C%20-73.250756%5D%2C%20%5B37.87641%2C%20-122.04634%5D%2C%20%5B29.86778%2C%20-95.40685%5D%2C%20%5B37.15893%2C%20-121.05097%5D%2C%20%5B27.225641%2C%20-82.493017%5D%2C%20%5B25.946324%2C%20-80.18604%5D%2C%20%5B38.98381%2C%20-76.16365%5D%2C%20%5B45.137795%2C%20-93.494391%5D%2C%20%5B34.10296%2C%20-118.19527%5D%2C%20%5B38.796337%2C%20-77.19115%5D%2C%20%5B27.7772%2C%20-82.69989%5D%2C%20%5B37.80858%2C%20-122.2421%5D%2C%20%5B33.916972%2C%20-118.370207%5D%2C%20%5B38.51074%2C%20-121.3701%5D%2C%20%5B40.061143%2C%20-75.135071%5D%2C%20%5B33.62056%2C%20-84.4301%5D%2C%20%5B39.24977%2C%20-84.3667%5D%2C%20%5B33.930855%2C%20-118.178709%5D%2C%20%5B34.06423%2C%20-118.15952%5D%2C%20%5B38.63218%2C%20-121.26818%5D%2C%20%5B32.456657%2C%20-93.722107%5D%2C%20%5B33.77448%2C%20-118.080298%5D%2C%20%5B34.03037%2C%20-117.63305%5D%2C%20%5B44.98463%2C%20-93.4111%5D%2C%20%5B45.007992%2C%20-93.10088%5D%2C%20%5B28.03286%2C%20-82.45124%5D%2C%20%5B40.70632%2C%20-73.42983%5D%2C%20%5B37.83819%2C%20-122.296152%5D%2C%20%5B38.364306%2C%20-81.615748%5D%2C%20%5B39.798082%2C%20-84.097165%5D%2C%20%5B44.907571%2C%20-93.534067%5D%2C%20%5B38.63151%2C%20-121.50451%5D%2C%20%5B32.83728%2C%20-97.07063%5D%2C%20%5B37.148994%2C%20-77.354722%5D%2C%20%5B38.070787%2C%20-79.097145%5D%2C%20%5B39.970072%2C%20-83.070506%5D%2C%20%5B41.67214%2C%20-72.82058%5D%2C%20%5B30.200176%2C%20-97.734507%5D%2C%20%5B44.09721%2C%20-123.126239%5D%2C%20%5B45.06884%2C%20-93.26336%5D%2C%20%5B42.15571%2C%20-122.64615%5D%2C%20%5B33.93338%2C%20-118.35241%5D%2C%20%5B39.803069%2C%20-86.165932%5D%2C%20%5B39.59195%2C%20-104.88308%5D%2C%20%5B34.02684%2C%20-118.42992%5D%2C%20%5B34.89219%2C%20-82.28546%5D%2C%20%5B37.687924%2C%20-122.096179%5D%2C%20%5B30.503695%2C%20-97.683497%5D%2C%20%5B40.84738%2C%20-73.92542%5D%2C%20%5B30.180001%2C%20-97.688285%5D%2C%20%5B42.14289%2C%20-83.38234%5D%2C%20%5B40.32189%2C%20-111.72703%5D%2C%20%5B42.23993%2C%20-87.87159%5D%2C%20%5B38.369313%2C%20-120.797538%5D%2C%20%5B43.257692%2C%20-122.194119%5D%2C%20%5B30.480945%2C%20-87.232698%5D%2C%20%5B44.82019%2C%20-93.17261%5D%2C%20%5B34.06434%2C%20-118.25069%5D%2C%20%5B25.75594%2C%20-80.32023%5D%2C%20%5B35.85227%2C%20-86.83211%5D%2C%20%5B28.552859%2C%20-81.382325%5D%2C%20%5B38.416732%2C%20-121.851765%5D%2C%20%5B33.289421%2C%20-117.149201%5D%2C%20%5B37.676486%2C%20-122.11696%5D%2C%20%5B45.34971%2C%20-122.65857%5D%2C%20%5B41.067787%2C%20-73.867698%5D%2C%20%5B44.763978%2C%20-123.046841%5D%2C%20%5B42.18908%2C%20-121.77091%5D%2C%20%5B38.792404%2C%20-77.038643%5D%2C%20%5B36.12703%2C%20-80.23325%5D%2C%20%5B34.030104%2C%20-118.154352%5D%2C%20%5B44.018687%2C%20-92.865017%5D%2C%20%5B33.80523%2C%20-79.0102%5D%2C%20%5B28.49398%2C%20-81.45909%5D%2C%20%5B41.712609%2C%20-74.732491%5D%2C%20%5B33.024033%2C%20-117.078498%5D%2C%20%5B43.609274%2C%20-122.057871%5D%2C%20%5B32.84792%2C%20-117.11686%5D%2C%20%5B36.76182%2C%20-119.74947%5D%2C%20%5B40.87149%2C%20-73.97938%5D%2C%20%5B34.070274%2C%20-117.205776%5D%2C%20%5B34.033257%2C%20-118.184449%5D%2C%20%5B48.195438%2C%20-114.33848%5D%2C%20%5B26.69671%2C%20-80.06999%5D%2C%20%5B38.19013%2C%20-85.73789%5D%2C%20%5B37.475524%2C%20-120.853533%5D%2C%20%5B38.225909%2C%20-85.821729%5D%2C%20%5B34.54972%2C%20-79.20383%5D%2C%20%5B47.204505%2C%20-122.461243%5D%2C%20%5B35.31844%2C%20-80.77898%5D%2C%20%5B37.75017%2C%20-121.13863%5D%2C%20%5B34.11853%2C%20-117.84169%5D%2C%20%5B34.141606%2C%20-117.317406%5D%2C%20%5B31.421341%2C%20-90.47989%5D%2C%20%5B42.963257%2C%20-70.855769%5D%2C%20%5B34.011426%2C%20-118.418036%5D%2C%20%5B35.945612%2C%20-78.545906%5D%2C%20%5B35.55966%2C%20-82.63797%5D%2C%20%5B44.79009%2C%20-93.20183%5D%2C%20%5B35.21257%2C%20-80.85882%5D%2C%20%5B41.950961%2C%20-87.726221%5D%2C%20%5B33.880866%2C%20-117.652305%5D%2C%20%5B37.31769%2C%20-121.93535%5D%2C%20%5B39.798327%2C%20-86.111408%5D%2C%20%5B47.31509%2C%20-122.29549%5D%2C%20%5B33.82195%2C%20-118.20685%5D%2C%20%5B35.804382%2C%20-78.427266%5D%2C%20%5B34.87823%2C%20-82.36169%5D%2C%20%5B32.757422%2C%20-96.778399%5D%2C%20%5B34.056256%2C%20-118.003251%5D%2C%20%5B41.16375%2C%20-73.37444%5D%2C%20%5B35.75327%2C%20-78.58654%5D%2C%20%5B34.002173%2C%20-117.351482%5D%2C%20%5B45.01003%2C%20-93.19323%5D%2C%20%5B34.068034%2C%20-118.151468%5D%2C%20%5B44.31791%2C%20-118.95124%5D%2C%20%5B26.139532%2C%20-80.343436%5D%2C%20%5B38.53868%2C%20-121.51269%5D%2C%20%5B34.60765%2C%20-90.206767%5D%2C%20%5B41.30544%2C%20-72.9143%5D%2C%20%5B40.743151%2C%20-73.719369%5D%2C%20%5B43.03045%2C%20-87.99394%5D%2C%20%5B35.76345%2C%20-78.63691%5D%2C%20%5B33.59286%2C%20-117.24256%5D%2C%20%5B37.542988%2C%20-122.020226%5D%2C%20%5B45.202782%2C%20-123.12802%5D%2C%20%5B32.87239%2C%20-96.67966%5D%2C%20%5B32.64239%2C%20-96.80156%5D%2C%20%5B27.463774%2C%20-82.560033%5D%2C%20%5B32.7923%2C%20-96.79835%5D%2C%20%5B33.812769%2C%20-118.164889%5D%2C%20%5B25.846148%2C%20-80.235605%5D%2C%20%5B34.026388%2C%20-118.15548%5D%2C%20%5B38.570219%2C%20-121.514829%5D%2C%20%5B27.3047%2C%20-80.41403%5D%2C%20%5B33.760055%2C%20-117.862671%5D%2C%20%5B35.24952%2C%20-80.78106%5D%2C%20%5B38.342385%2C%20-122.325738%5D%2C%20%5B37.36458%2C%20-121.90176%5D%2C%20%5B38.92675%2C%20-76.56904%5D%2C%20%5B39.019975%2C%20-76.982778%5D%2C%20%5B39.82324%2C%20-75.75398%5D%2C%20%5B25.92463%2C%20-80.317341%5D%2C%20%5B34.324647%2C%20-118.502322%5D%2C%20%5B40.83115%2C%20-73.08914%5D%2C%20%5B44.76448%2C%20-123.02508%5D%2C%20%5B34.02446%2C%20-117.560359%5D%2C%20%5B38.333761%2C%20-123.047443%5D%2C%20%5B38.755508%2C%20-77.373318%5D%2C%20%5B36.581944%2C%20-121.899722%5D%2C%20%5B25.715376%2C%20-80.431229%5D%2C%20%5B34.072608%2C%20-117.808974%5D%2C%20%5B27.16088%2C%20-80.30433%5D%2C%20%5B31.913739%2C%20-106.399233%5D%2C%20%5B32.66739%2C%20-96.73197%5D%2C%20%5B36.95593%2C%20-120.05916%5D%2C%20%5B38.875776%2C%20-76.970847%5D%2C%20%5B34.06364%2C%20-117.79418%5D%2C%20%5B39.76893%2C%20-75.535908%5D%2C%20%5B37.775029%2C%20-121.32084%5D%2C%20%5B33.82195%2C%20-118.20685%5D%2C%20%5B38.449138%2C%20-122.151882%5D%2C%20%5B41.80811%2C%20-87.70397%5D%2C%20%5B32.327646%2C%20-95.341025%5D%2C%20%5B33.87284%2C%20-118.28188%5D%2C%20%5B25.918681%2C%20-80.210407%5D%2C%20%5B48.24163%2C%20-122.24411%5D%2C%20%5B35.59465%2C%20-97.58605%5D%2C%20%5B45.497405%2C%20-122.595647%5D%2C%20%5B36.755114%2C%20-119.742704%5D%2C%20%5B43.176272%2C%20-77.601319%5D%2C%20%5B34.146038%2C%20-118.47078%5D%2C%20%5B37.822462%2C%20-122.268594%5D%2C%20%5B39.61976%2C%20-104.8994%5D%2C%20%5B37.669125%2C%20-122.109206%5D%2C%20%5B38.271405%2C%20-122.669002%5D%2C%20%5B33.846511%2C%20-118.271011%5D%2C%20%5B40.749795%2C%20-74.180535%5D%2C%20%5B34.122666%2C%20-117.694569%5D%2C%20%5B38.04576%2C%20-84.56547%5D%2C%20%5B39.667035%2C%20-77.700001%5D%2C%20%5B41.24477%2C%20-112.02013%5D%2C%20%5B39.37565%2C%20-76.45211%5D%2C%20%5B27.58357%2C%20-82.60687%5D%2C%20%5B45.598141%2C%20-122.68434%5D%2C%20%5B33.591974%2C%20-112.009295%5D%2C%20%5B25.646724%2C%20-80.398997%5D%2C%20%5B39.79849%2C%20-104.98617%5D%2C%20%5B41.095014%2C%20-73.934308%5D%2C%20%5B44.052657%2C%20-122.845732%5D%2C%20%5B39.00985%2C%20-94.69381%5D%2C%20%5B35.263489%2C%20-120.698387%5D%2C%20%5B40.54037%2C%20-75.41391%5D%2C%20%5B25.37173%2C%20-80.46265%5D%2C%20%5B32.83925%2C%20-97.2305%5D%2C%20%5B32.84205%2C%20-117.11373%5D%2C%20%5B34.558817%2C%20-118.675967%5D%2C%20%5B38.552452%2C%20-121.694483%5D%2C%20%5B37.664544%2C%20-77.635656%5D%2C%20%5B44.55622%2C%20-118.36657%5D%2C%20%5B44.88501%2C%20-93.06343%5D%2C%20%5B33.93918%2C%20-117.178541%5D%2C%20%5B33.96015%2C%20-118.25403%5D%2C%20%5B34.273912%2C%20-119.13528%5D%2C%20%5B34.056181%2C%20-118.256032%5D%2C%20%5B38.480886%2C%20-121.334819%5D%2C%20%5B39.6946%2C%20-78.14736%5D%2C%20%5B33.982637%2C%20-118.395261%5D%2C%20%5B40.11513%2C%20-74.0712%5D%2C%20%5B37.33312%2C%20-121.93802%5D%2C%20%5B31.77628%2C%20-106.38741%5D%2C%20%5B39.79671%2C%20-104.98722%5D%2C%20%5B39.68511%2C%20-75.47892%5D%2C%20%5B34.524497%2C%20-83.528198%5D%2C%20%5B45.78004%2C%20-122.87529%5D%2C%20%5B34.072111%2C%20-117.913223%5D%2C%20%5B47.827906%2C%20-122.256486%5D%2C%20%5B34.120675%2C%20-117.907588%5D%2C%20%5B36.753438%2C%20-119.781959%5D%2C%20%5B32.834048%2C%20-117.232919%5D%2C%20%5B43.288391%2C%20-122.58335%5D%2C%20%5B35.36911%2C%20-80.84096%5D%2C%20%5B43.053065%2C%20-75.371141%5D%2C%20%5B33.966518%2C%20-118.121448%5D%2C%20%5B40.080436%2C%20-76.718241%5D%2C%20%5B41.10637%2C%20-112.00682%5D%2C%20%5B35.79804%2C%20-78.69397%5D%2C%20%5B38.568583%2C%20-121.331305%5D%2C%20%5B39.96367%2C%20-76.72386%5D%2C%20%5B25.814611%2C%20-80.321289%5D%2C%20%5B40.94867%2C%20-74.07204%5D%2C%20%5B44.84097%2C%20-93.24429%5D%2C%20%5B34.039548%2C%20-117.550381%5D%2C%20%5B38.475353%2C%20-121.423849%5D%2C%20%5B40.209692%2C%20-75.279303%5D%2C%20%5B37.239757%2C%20-121.784359%5D%2C%20%5B40.67399%2C%20-73.80162%5D%2C%20%5B40.93117%2C%20-73.83859%5D%2C%20%5B33.632341%2C%20-117.725236%5D%2C%20%5B37.699866%2C%20-122.120968%5D%2C%20%5B35.87349%2C%20-78.72777%5D%2C%20%5B37.912182%2C%20-84.559184%5D%2C%20%5B33.870702%2C%20-118.266239%5D%2C%20%5B29.73286%2C%20-95.37476%5D%2C%20%5B38.125536%2C%20-122.228849%5D%2C%20%5B42.31849%2C%20-71.05194%5D%2C%20%5B40.731146%2C%20-78.693433%5D%2C%20%5B28.569613%2C%20-81.417435%5D%2C%20%5B26.002855%2C%20-80.167179%5D%2C%20%5B40.68374%2C%20-73.644%5D%2C%20%5B47.5803%2C%20-122.16587%5D%2C%20%5B37.628014%2C%20-77.458461%5D%2C%20%5B28.578099%2C%20-81.439927%5D%2C%20%5B32.294244%2C%20-81.074407%5D%2C%20%5B42.36965%2C%20-87.91441%5D%2C%20%5B38.593727%2C%20-121.504093%5D%2C%20%5B37.641875%2C%20-122.091621%5D%2C%20%5B44.96705%2C%20-93.22015%5D%2C%20%5B34.03416%2C%20-118.72375%5D%2C%20%5B36.04773%2C%20-80.23927%5D%2C%20%5B38.22271%2C%20-85.50075%5D%2C%20%5B31.78987%2C%20-106.5193%5D%2C%20%5B33.720184%2C%20-117.971955%5D%2C%20%5B35.25296%2C%20-82.217181%5D%2C%20%5B29.78475%2C%20-95.68309%5D%2C%20%5B34.067633%2C%20-117.981703%5D%2C%20%5B44.82308%2C%20-93.29132%5D%2C%20%5B40.844644%2C%20-73.923292%5D%2C%20%5B37.520512%2C%20-77.488509%5D%2C%20%5B44.89887%2C%20-93.44545%5D%2C%20%5B47.911812%2C%20-122.209899%5D%2C%20%5B35.394456%2C%20-119.044759%5D%2C%20%5B33.65495%2C%20-117.86541%5D%2C%20%5B34.09595%2C%20-118.24477%5D%2C%20%5B42.581939%2C%20-82.85768%5D%2C%20%5B35.14532%2C%20-80.89929%5D%2C%20%5B36.575152%2C%20-119.465284%5D%2C%20%5B37.445764%2C%20-122.227449%5D%2C%20%5B44.361694%2C%20-124.091764%5D%2C%20%5B33.44088%2C%20-117.136422%5D%2C%20%5B30.1868%2C%20-81.6412%5D%2C%20%5B34.033724%2C%20-118.436737%5D%2C%20%5B39.00684%2C%20-76.98033%5D%2C%20%5B40.738074%2C%20-74.217299%5D%2C%20%5B32.64404%2C%20-96.84775%5D%2C%20%5B42.237399%2C%20-87.944096%5D%2C%20%5B43.037607%2C%20-76.401551%5D%2C%20%5B41.12898%2C%20-78.762569%5D%2C%20%5B33.475202%2C%20-111.88896%5D%2C%20%5B34.27262%2C%20-118.55966%5D%2C%20%5B40.69661%2C%20-111.980938%5D%2C%20%5B28.14727%2C%20-81.44356%5D%2C%20%5B40.739933%2C%20-92.724212%5D%2C%20%5B37.808318%2C%20-122.367026%5D%2C%20%5B36.0947%2C%20-79.81585%5D%2C%20%5B34.161004%2C%20-118.469616%5D%2C%20%5B36.770831%2C%20-121.765428%5D%2C%20%5B45.04058%2C%20-93.40071%5D%2C%20%5B36.7352%2C%20-119.934354%5D%2C%20%5B33.901967%2C%20-118.273906%5D%2C%20%5B33.51444%2C%20-111.888%5D%2C%20%5B44.549242%2C%20-123.002093%5D%2C%20%5B38.87641%2C%20-77.00904%5D%2C%20%5B39.01677%2C%20-76.91141%5D%2C%20%5B34.031213%2C%20-118.27457%5D%2C%20%5B26.556609%2C%20-81.871841%5D%2C%20%5B32.90311%2C%20-97.099%5D%2C%20%5B41.16655%2C%20-73.21325%5D%2C%20%5B40.22124%2C%20-79.60381%5D%2C%20%5B30.545792%2C%20-84.2347%5D%2C%20%5B44.399786%2C%20-117.308251%5D%2C%20%5B40.66765%2C%20-111.9388%5D%2C%20%5B32.82994%2C%20-96.78162%5D%2C%20%5B39.8953%2C%20-83.04476%5D%2C%20%5B29.847623%2C%20-95.23631%5D%2C%20%5B33.62927%2C%20-78.96259%5D%2C%20%5B37.4586%2C%20-121.92414%5D%2C%20%5B36.03026%2C%20-86.612585%5D%2C%20%5B25.925341%2C%20-80.153943%5D%2C%20%5B34.226086%2C%20-118.375669%5D%2C%20%5B28.82585%2C%20-81.32866%5D%2C%20%5B39.10102%2C%20-77.04536%5D%2C%20%5B37.69813%2C%20-121.94081%5D%2C%20%5B40.460597%2C%20-75.87508%5D%2C%20%5B25.926171%2C%20-80.155932%5D%2C%20%5B34.8966%2C%20-86.747524%5D%2C%20%5B25.764434%2C%20-80.33618%5D%2C%20%5B36.600942%2C%20-119.700345%5D%2C%20%5B42.941664%2C%20-85.677595%5D%2C%20%5B28.93581%2C%20-82.45323%5D%2C%20%5B47.458484%2C%20-115.694719%5D%2C%20%5B40.210281%2C%20-74.090514%5D%2C%20%5B37.139302%2C%20-93.253336%5D%2C%20%5B32.86822%2C%20-96.66777%5D%2C%20%5B38.39708%2C%20-121.006184%5D%2C%20%5B33.910967%2C%20-118.168965%5D%2C%20%5B47.80969%2C%20-122.30064%5D%2C%20%5B33.9285%2C%20-118.28075%5D%2C%20%5B36.962883%2C%20-121.865089%5D%2C%20%5B38.619066%2C%20-90.186957%5D%2C%20%5B39.669153%2C%20-76.17032%5D%2C%20%5B36.17447%2C%20-115.2241%5D%2C%20%5B42.407949%2C%20-83.218503%5D%2C%20%5B40.876768%2C%20-74.119187%5D%2C%20%5B43.14463%2C%20-78.80136%5D%2C%20%5B36.26923%2C%20-86.75572%5D%2C%20%5B26.00821%2C%20-80.283508%5D%2C%20%5B30.417688%2C%20-91.089628%5D%2C%20%5B41.79842%2C%20-87.80171%5D%5D%2C%0A%20%20%20%20%20%20%20%20%20%20%20%20%20%20%20%20%7B%0A%20%20%20%20%20%20%20%20%20%20%20%20%20%20%20%20%20%20%20%20minOpacity%3A%200.5%2C%0A%20%20%20%20%20%20%20%20%20%20%20%20%20%20%20%20%20%20%20%20maxZoom%3A%2018%2C%0A%20%20%20%20%20%20%20%20%20%20%20%20%20%20%20%20%20%20%20%20max%3A%201.0%2C%0A%20%20%20%20%20%20%20%20%20%20%20%20%20%20%20%20%20%20%20%20radius%3A%2025%2C%0A%20%20%20%20%20%20%20%20%20%20%20%20%20%20%20%20%20%20%20%20blur%3A%2015%2C%0A%20%20%20%20%20%20%20%20%20%20%20%20%20%20%20%20%20%20%20%20gradient%3A%20null%0A%20%20%20%20%20%20%20%20%20%20%20%20%20%20%20%20%20%20%20%20%7D%29%0A%20%20%20%20%20%20%20%20%20%20%20%20%20%20%20%20.addTo%28map_c17ccb130f994072bbb0e85d0d94a52b%29%3B%0A%20%20%20%20%20%20%20%20%0A%3C/script%3E onload=\"this.contentDocument.open();this.contentDocument.write(    decodeURIComponent(this.getAttribute('data-html')));this.contentDocument.close();\" allowfullscreen webkitallowfullscreen mozallowfullscreen></iframe></div></div>"
            ],
            "text/plain": [
              "<folium.folium.Map at 0x7eff9275ed50>"
            ]
          },
          "metadata": {},
          "execution_count": 94
        }
      ]
    },
    {
      "cell_type": "markdown",
      "source": [
        "## Ask & answer questions\n",
        "\n",
        "1. Are there more accidents in warmer or colder areas?\n",
        "2. Which 5 states have the highest number of accidents? How about per capita?\n",
        "3. Does New York show up in the data? If yes, why is the count lower if this the most populated city.\n",
        "4. Among the top 100 cities in number of accidents, which states do they belong to most frequently.\n",
        "5. What time of the day are accidents most frequent in? - ANSWERED\n",
        "6. Which days of the week have the most accidents?\n",
        "7. Which months have the most accidents?\n",
        "8. What is the trend of accidents year over year (decreasing/increasing?)\n",
        "9. When is accidents per unit of traffic the highest."
      ],
      "metadata": {
        "id": "ewMlpgXTh4aj"
      }
    },
    {
      "cell_type": "code",
      "source": [
        ""
      ],
      "metadata": {
        "id": "d_Ze05nvhzS0"
      },
      "execution_count": null,
      "outputs": []
    },
    {
      "cell_type": "code",
      "source": [
        ""
      ],
      "metadata": {
        "id": "6aZ3GQ5jhy72"
      },
      "execution_count": null,
      "outputs": []
    }
  ]
}